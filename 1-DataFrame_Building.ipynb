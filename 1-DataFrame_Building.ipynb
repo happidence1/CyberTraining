{
 "cells": [
  {
   "cell_type": "markdown",
   "metadata": {
    "id": "MNiBN7s-Lng0"
   },
   "source": [
    "# Intermediate Python\n",
    "\n",
    "Texas A&M University High Performance Research Computing\n",
    "\n",
    "Texas A&M University Engineering Studio for Advanced Instruction and Learning\n",
    "\n",
    "Texas A&M Engineering Experiment Station Educating Generations\n",
    "\n",
    "# \"DataFrame Building\"\n",
    "Learn how to use Use Python Pandas library for data manipulation\n",
    "\n",
    "\n"
   ]
  },
  {
   "cell_type": "markdown",
   "metadata": {
    "id": "kHjvrlOsu6-3"
   },
   "source": [
    "# Pandas Module\n",
    "\n",
    "Reminder: You should import a module *once*, usually at the beginning of the notebook.\n",
    "\n",
    "Execute this cell to bring in `pandas` and `numpy` functions."
   ]
  },
  {
   "cell_type": "code",
   "execution_count": 1,
   "metadata": {
    "id": "Dy6Z4kB3K7fC"
   },
   "outputs": [],
   "source": [
    "import pandas\n",
    "import numpy"
   ]
  },
  {
   "cell_type": "markdown",
   "metadata": {
    "id": "mZVjTeTLU9Sd"
   },
   "source": [
    "# Pandas DataFrame Class\n",
    "\n",
    "Pandas provides the `DataFrame` data structure class. Note the capital letters.\n"
   ]
  },
  {
   "cell_type": "code",
   "execution_count": 2,
   "metadata": {
    "colab": {
     "base_uri": "https://localhost:8080/"
    },
    "id": "owOraooyvW8J",
    "outputId": "cfca0d53-1d37-40cb-b1e9-a55602169e68"
   },
   "outputs": [
    {
     "name": "stdout",
     "output_type": "stream",
     "text": [
      "<class 'pandas.core.frame.DataFrame'>\n"
     ]
    }
   ],
   "source": [
    "print(pandas.DataFrame)"
   ]
  },
  {
   "cell_type": "markdown",
   "metadata": {
    "id": "0_m3U-BMvnTx"
   },
   "source": [
    "# DataFrames are like Spreadsheets\n",
    "\n",
    "The `DataFrame` is the 2D extension of the `Series`. Both rows and columns have labels.\n",
    "\n",
    "||column1|column2|\n",
    "|--|--|--|\n",
    "|row1| `data` | `data`|\n",
    "|row2| `data`| `data`|\n"
   ]
  },
  {
   "cell_type": "markdown",
   "metadata": {
    "id": "kTRek5EnyJXn"
   },
   "source": [
    "# Building DataFrames from Data\n",
    "\n",
    "We can build DataFrames using the constructor function `DataFrame` which as its first argument accepts an existing data structure.\n",
    "\n",
    "```\n",
    "new_dataframe = pandas.DataFrame( data_structure )\n",
    "```\n"
   ]
  },
  {
   "cell_type": "markdown",
   "metadata": {
    "id": "5Ze1uU7m-qiw"
   },
   "source": [
    "## Example 0\n",
    "Just checking that it works."
   ]
  },
  {
   "cell_type": "code",
   "execution_count": 3,
   "metadata": {
    "colab": {
     "base_uri": "https://localhost:8080/"
    },
    "id": "-xmushy9-tgc",
    "outputId": "dfdc8644-200b-4ea6-834d-ea077014de9b"
   },
   "outputs": [
    {
     "name": "stdout",
     "output_type": "stream",
     "text": [
      "<class 'pandas.core.frame.DataFrame'>\n"
     ]
    }
   ],
   "source": [
    "empty_dataframe = pandas.DataFrame()\n",
    "print(type(empty_dataframe))"
   ]
  },
  {
   "cell_type": "markdown",
   "metadata": {
    "id": "xgq3O-26-0nn"
   },
   "source": [
    "`<class 'pandas.core.frame.DataFrame'>`\n"
   ]
  },
  {
   "cell_type": "markdown",
   "metadata": {
    "id": "XEhcyjQyylG7"
   },
   "source": [
    "## DataFrame by Columns\n",
    "\n",
    "We can assemble a DataFrame column-by-column by putting one-dimensional structures (such as lists) into a dictionary.\n",
    "\n",
    "The keys of the dictionary become the column labels.\n",
    "```\n",
    "temporary_dict = {\n",
    "  column1 : [...],\n",
    "  column2 : [...],\n",
    "  ...\n",
    "}\n",
    "```"
   ]
  },
  {
   "cell_type": "markdown",
   "metadata": {
    "id": "6CuxLqHRzasL"
   },
   "source": [
    "## Example 1\n",
    "Three lists (the same length) become the columns of a DataFrame.\n",
    "\n"
   ]
  },
  {
   "cell_type": "code",
   "execution_count": 4,
   "metadata": {
    "colab": {
     "base_uri": "https://localhost:8080/"
    },
    "id": "aW18BI1YLFMC",
    "outputId": "f33599d6-ef2e-48ef-caac-10bfd4d3124a"
   },
   "outputs": [
    {
     "name": "stdout",
     "output_type": "stream",
     "text": [
      "         Date  Latitude  Longitude  Magnitude  Depth (km) Region\n",
      "0  2023-05-01     34.05    -118.25        4.1         2.0  City1\n",
      "1  2023-05-02     37.77    -122.42        3.8        12.5  City2\n",
      "2  2023-05-03     40.71     -74.01        5.2         8.0  City3\n",
      "3  2023-05-04     34.05    -118.25        4.0        15.0  City4\n",
      "4  2023-05-05     35.68     139.69        6.1        20.0  City5\n"
     ]
    }
   ],
   "source": [
    "temporary_dict = {\n",
    "    \"Date\": [\"2023-05-01\", \"2023-05-02\", \"2023-05-03\", \"2023-05-04\", \"2023-05-05\"],\n",
    "    \"Latitude\": [34.05, 37.77, 40.71, 34.05, 35.68],\n",
    "    \"Longitude\": [-118.25, -122.42, -74.01, -118.25, 139.69],\n",
    "    \"Magnitude\": [4.1, 3.8, 5.2, 4.0, 6.1],\n",
    "    \"Depth (km)\": [2.0, 12.5, 8.0, 15.0, 20.0],\n",
    "    \"Region\": [\"City1\", \"City2\", \"City3\", \"City4\", \"City5\"]\n",
    "}\n",
    "df_from_lists = pandas.DataFrame(temporary_dict)\n",
    "print(df_from_lists)"
   ]
  },
  {
   "cell_type": "markdown",
   "metadata": {
    "id": "3Bigoz5mz9qk"
   },
   "source": [
    "## Exercise 1\n",
    "Create two pandas `Series` with the same custom index.\n",
    "```\n",
    "pandas.Series([...], index=[...])\n",
    "```\n",
    "\n",
    "Put the two `Series` into a temporary dictionary with keys that are column labels.\n",
    "\n",
    "Create a DataFrame from the temporary dictionary.\n",
    "\n",
    "Print the DataFrame to verify that the rows have same labels as the original `Series` did."
   ]
  },
  {
   "cell_type": "code",
   "execution_count": 5,
   "metadata": {
    "id": "ahVNZgkJy_kq"
   },
   "outputs": [],
   "source": [
    "#your code here"
   ]
  },
  {
   "cell_type": "markdown",
   "metadata": {
    "cellView": "form",
    "colab": {
     "base_uri": "https://localhost:8080/"
    },
    "id": "th7lC_fZ0hQ2",
    "outputId": "cac97b10-3159-40b3-98a6-78dbd92a72ab"
   },
   "source": [
    "<details><summary><p style=\"padding: 10px; border: 2px solid;\"><big>Click here to see solution</big></p></summary>\n",
    "<p>\n",
    "\n",
    "    \n",
    "```\n",
    "s1=pandas.Series([1,2,3],index=['a','b','c'])\n",
    "s2=pandas.Series([4,5,6],index=['a','b','c'])\n",
    "temporary_dict={\"column1\":s1,\"column2\":s2}\n",
    "df_from_series=pandas.DataFrame(temporary_dict)\n",
    "print(df_from_series)\n",
    "```\n",
    "</p>\n",
    "</details>"
   ]
  },
  {
   "cell_type": "markdown",
   "metadata": {
    "id": "VoNwxDuViRES"
   },
   "source": [
    "## DataFrame by Rows\n",
    "\n",
    "We can build a DataFrame row-by-row by putting dictionaries into a one-dimensional data structure (such as a list).\n",
    "\n",
    "The keys of the dictionaries become the labels of the columns.\n",
    "```\n",
    "temporary_list = [\n",
    "  { column1: ... , ... },\n",
    "  { column1: ... , ... },\n",
    "  ...\n",
    "]\n",
    "```\n",
    "\n",
    "\n",
    "\n",
    "\n",
    "\n",
    "\n"
   ]
  },
  {
   "cell_type": "markdown",
   "metadata": {
    "id": "XZ-LqEcy3B80"
   },
   "source": [
    "## Example 2\n",
    "\n",
    "Two dictionaries (with the same keys) become the rows of a DataFrame."
   ]
  },
  {
   "cell_type": "code",
   "execution_count": 6,
   "metadata": {
    "colab": {
     "base_uri": "https://localhost:8080/"
    },
    "id": "ZqMrAGsTI-wH",
    "outputId": "7a7e7aa2-893b-4580-9cbe-10039f330c3e"
   },
   "outputs": [
    {
     "name": "stdout",
     "output_type": "stream",
     "text": [
      "         Date  Latitude  Longitude  Magnitude  Depth (km) Region\n",
      "0  2023-05-01     34.05    -118.25        4.5        10.0  City1\n",
      "1  2023-05-02     37.77    -122.42        3.8        12.5  City2\n"
     ]
    }
   ],
   "source": [
    "dict_1 = {\n",
    "  \"Date\": \"2023-05-01\",\n",
    "  \"Latitude\": 34.05,\n",
    "  \"Longitude\": -118.25,\n",
    "  \"Magnitude\": 4.5,\n",
    "  \"Depth (km)\": 10.0,\n",
    "  \"Region\": \"City1\"\n",
    "}\n",
    "\n",
    "dict_2 = {\n",
    "  \"Date\": \"2023-05-02\",\n",
    "  \"Latitude\": 37.77,\n",
    "  \"Longitude\": -122.42,\n",
    "  \"Magnitude\": 3.8,\n",
    "  \"Depth (km)\": 12.5,\n",
    "  \"Region\": \"City2\"\n",
    "}\n",
    "\n",
    "temporary_list = [dict_1, dict_2]\n",
    "\n",
    "df_from_dicts = pandas.DataFrame(temporary_list)\n",
    "\n",
    "print(df_from_dicts)"
   ]
  },
  {
   "cell_type": "markdown",
   "metadata": {
    "id": "CSpK_ZJ-3Ny-"
   },
   "source": [
    "## Exercise 2\n",
    "\n",
    "Create three dictionaries with some keys in common and some keys not in common.\n",
    "\n",
    "Put the dictionaries into a temporary list.\n",
    "\n",
    "Create a DataFrame from the temporary list.\n",
    "\n",
    "Print the DataFrame and observe:\n",
    "\n",
    "What happened to the keys that were in common?\n",
    "\n",
    "What happened to the keys that were not in common?"
   ]
  },
  {
   "cell_type": "code",
   "execution_count": 7,
   "metadata": {
    "id": "A4SK8Icb3w3O"
   },
   "outputs": [],
   "source": [
    "#your code here"
   ]
  },
  {
   "cell_type": "markdown",
   "metadata": {
    "cellView": "form",
    "colab": {
     "base_uri": "https://localhost:8080/"
    },
    "id": "ySjSsOCD3xH4",
    "outputId": "7a19e892-d881-40f3-eb57-1ea5fbbe6e5e"
   },
   "source": [
    "<details><summary><p style=\"padding: 10px; border: 2px solid;\"><big>Click here to see solution</big></p></summary>\n",
    "<p>\n",
    "\n",
    "    \n",
    "```\n",
    "d1={'name':'ball' ,'count':3,'color':'red'}\n",
    "d2={'name':'block','count':2,'weight':1.0}\n",
    "d3={'name':'plush','count':1,'fabric':'soft'}\n",
    "\n",
    "dataframe_from_dicts=pandas.DataFrame([d1, d2, d3])\n",
    "\n",
    "print(dataframe_from_dicts)\n",
    "```\n",
    "</p>\n",
    "</details>"
   ]
  },
  {
   "cell_type": "markdown",
   "metadata": {
    "id": "D0pBTnCA5XDC"
   },
   "source": [
    "The keys that are not in common become columns with `NaN` in the positions where the dictionaries did not have that key."
   ]
  },
  {
   "cell_type": "markdown",
   "metadata": {
    "id": "Lfnyx2KnpamC"
   },
   "source": [
    "## DataFrame from a 2D Array\n",
    "\n",
    "Since 2D NumPy arrays have no labels, we use keyword arguments to set the labels in the DataFrame.\n",
    "* keyword `data` sets the values of the rows and columns\n",
    "* keyword `index` sets the labels of the rows from a list\n",
    "* keyword `columns` sets the labels of the columns from a list\n",
    "\n",
    "```\n",
    "df_from_array = pandas.DataFrame(data=array, index=[...], columns=[...])\n",
    "```"
   ]
  },
  {
   "cell_type": "markdown",
   "metadata": {
    "id": "LqDVk6yz6yUs"
   },
   "source": [
    "## Example 3\n",
    "A NumPy 2D array becomes a DataFrame. The rows and columns remain rows and columns."
   ]
  },
  {
   "cell_type": "code",
   "execution_count": 8,
   "metadata": {
    "colab": {
     "base_uri": "https://localhost:8080/"
    },
    "id": "GQ5XDi36paAf",
    "outputId": "41674915-6040-4d59-9d45-52e93faad48f"
   },
   "outputs": [
    {
     "name": "stdout",
     "output_type": "stream",
     "text": [
      "      column1  column2  column3  column4\n",
      "row1        0        1        2        3\n",
      "row2        4        5        6        7\n",
      "row3        8        9       10       11\n"
     ]
    }
   ],
   "source": [
    "# a quick 3x4 array\n",
    "data_2d = numpy.arange(12).reshape(3, 4)\n",
    "\n",
    "df_from_array = pandas.DataFrame(data=data_2d,\n",
    "                                 index=[\"row1\", \"row2\", \"row3\"],\n",
    "                                 columns=[\"column1\", \"column2\", \"column3\", \"column4\"]\n",
    "                                 )\n",
    "print(df_from_array)"
   ]
  },
  {
   "cell_type": "markdown",
   "metadata": {
    "id": "eQL91BOi7DUX"
   },
   "source": [
    "## Exercise 3\n",
    "\n",
    "Create a 2D Array of random numbers using `numpy.random.rand()`\n",
    "\n",
    "Create a DataFrame with row and column labels from arithmetic sequences.\n",
    "\n",
    "Print."
   ]
  },
  {
   "cell_type": "code",
   "execution_count": 9,
   "metadata": {
    "id": "2es3rYZa7Q82"
   },
   "outputs": [],
   "source": [
    "#your code here"
   ]
  },
  {
   "cell_type": "markdown",
   "metadata": {
    "cellView": "form",
    "colab": {
     "base_uri": "https://localhost:8080/"
    },
    "id": "YqZxeBcT7RJf",
    "outputId": "ada3c1a5-421c-4ea9-e473-ef1cd48636bc"
   },
   "source": [
    "<details><summary><p style=\"padding: 10px; border: 2px solid;\"><big>Click here to see solution</big></p></summary>\n",
    "<p>\n",
    "\n",
    "    \n",
    "```\n",
    "data_2d = numpy.random.rand(5, 3)\n",
    "\n",
    "df_from_array = pandas.DataFrame(data=data_2d,\n",
    "                                 index=range(5,10),\n",
    "                                 columns=range(96,99)\n",
    "                                 )\n",
    "print(df_from_array)\n",
    "```\n",
    "</p>\n",
    "</details>"
   ]
  },
  {
   "cell_type": "markdown",
   "metadata": {
    "id": "b9I0WMs7ni-Y"
   },
   "source": [
    "## DataFrame from a File\n",
    "\n",
    "Pandas has different reading tools.\n",
    "\n",
    "For example these tools read spreadsheet files and html:\n",
    "```\n",
    "pandas.read_csv()\n",
    "pandas.read_excel()\n",
    "pandas..read_html()\n",
    "```\n",
    "\n",
    "Pandas can read column labels out of spreadsheet files and use those to label a DataFrame."
   ]
  },
  {
   "cell_type": "markdown",
   "metadata": {
    "id": "qC7e6rmT89z6"
   },
   "source": [
    "## Example 4\n",
    "\n",
    "Upload the example spreadsheet to your current session. Read it in using\n",
    "```\n",
    "pandas.read_csv(path_to_file)\n",
    "```\n",
    "Save the result in a variable and print the variable.\n",
    "\n",
    "\n",
    "\n"
   ]
  },
  {
   "cell_type": "code",
   "execution_count": 10,
   "metadata": {
    "colab": {
     "base_uri": "https://localhost:8080/"
    },
    "id": "3jd2ieE36HjG",
    "outputId": "1503517d-3095-4510-c7b0-1b3773c05919"
   },
   "outputs": [
    {
     "name": "stdout",
     "output_type": "stream",
     "text": [
      "     Date  Latitude  Longitude  Magnitude  Depth (km) Region\n",
      "0  5/1/23     34.05    -118.25        4.5        10.0  City1\n",
      "1  5/2/23     37.77    -122.42        3.8        12.5  City2\n",
      "2  5/3/23     40.71     -74.01        5.2         8.0  City3\n",
      "3  5/4/23     34.05    -118.25        4.0        15.0  City4\n",
      "4  5/5/23     35.68     139.69        6.1        20.0  City5\n"
     ]
    }
   ],
   "source": [
    "df_from_file = pandas.read_csv('example_spreadsheet.csv')\n",
    "print(df_from_file)"
   ]
  },
  {
   "cell_type": "markdown",
   "metadata": {
    "id": "ut5xGwB_948N"
   },
   "source": [
    "## Exercise 4\n",
    "Create a spreadsheet in either csv or excel file format.\n",
    "\n",
    "Read it in using the appropriate file reading tool. Print.\n",
    "\n"
   ]
  },
  {
   "cell_type": "code",
   "execution_count": 11,
   "metadata": {
    "id": "STFNlq9k-Col"
   },
   "outputs": [],
   "source": [
    "#your code here"
   ]
  },
  {
   "cell_type": "markdown",
   "metadata": {
    "id": "G-xtFEQ4-bMW"
   },
   "source": [
    "## DataFrame to a File\n",
    "\n",
    "Likewise, pandas can write dataframes into spreadsheet files using DataFrame *methods*\n",
    "\n",
    "```\n",
    "df.to_csv(path_to_file)\n",
    "df.to_excel(path_to_file)\n",
    "```\n",
    "You must name the file appropriately (excel files end in `.xlsx`) to pick a valid file format."
   ]
  },
  {
   "cell_type": "markdown",
   "metadata": {
    "id": "X5p-e4tx_siR"
   },
   "source": [
    "## Example 5\n",
    "\n",
    "DataFrame to excel file."
   ]
  },
  {
   "cell_type": "code",
   "execution_count": 12,
   "metadata": {
    "id": "tstxQYFP_r6R"
   },
   "outputs": [],
   "source": [
    "temporary_dict = {\n",
    "    \"Date\": [\"2023-05-01\", \"2023-05-02\", \"2023-05-03\", \"2023-05-04\", \"2023-05-05\"],\n",
    "    \"Latitude\": [34.05, 37.77, 40.71, 34.05, 35.68],\n",
    "    \"Longitude\": [-118.25, -122.42, -74.01, -118.25, 139.69],\n",
    "    \"Magnitude\": [4.5, 3.8, 5.2, 4.0, 6.1],\n",
    "    \"Depth (km)\": [10.0, 12.5, 8.0, 15.0, 20.0],\n",
    "    \"Region\": [\"City1\", \"City2\", \"City3\", \"City4\", \"City5\"]\n",
    "}\n",
    "df_from_lists = pandas.DataFrame(temporary_dict)\n",
    "df_from_lists.to_csv(\"example_spreadsheet_2.csv\")"
   ]
  },
  {
   "cell_type": "markdown",
   "metadata": {
    "id": "Fz0sx9-hAXUS"
   },
   "source": [
    "## Exercise 5\n",
    "Create a DataFrame.\n",
    "\n",
    "Write to csv file.\n",
    "\n",
    "Read it back in (a new variable) and print to check whether it is the same."
   ]
  },
  {
   "cell_type": "code",
   "execution_count": 13,
   "metadata": {
    "id": "MIPWJP2uAmm9"
   },
   "outputs": [],
   "source": [
    "#your code here"
   ]
  },
  {
   "cell_type": "markdown",
   "metadata": {
    "colab": {
     "base_uri": "https://localhost:8080/"
    },
    "id": "gU1YbTBmAm0Z",
    "outputId": "4e6f00e0-97c3-40e9-d026-a9be1522130f"
   },
   "source": [
    "<details><summary><p style=\"padding: 10px; border: 2px solid;\"><big>Click here to see solution</big></p></summary>\n",
    "<p>\n",
    "\n",
    "    \n",
    "```\n",
    "temporary_dict = {\n",
    "    \"Date\": [\"2023-05-01\", \"2023-05-02\", \"2023-05-03\", \"2023-05-04\", \"2023-05-05\"],\n",
    "    \"Latitude\": [34.05, 37.77, 40.71, 34.05, 35.68],\n",
    "    \"Longitude\": [-118.25, -122.42, -74.01, -118.25, 139.69],\n",
    "    \"Magnitude\": [4.5, 3.8, 5.2, 4.0, 6.1],\n",
    "    \"Depth (km)\": [10.0, 12.5, 8.0, 15.0, 20.0],\n",
    "    \"Region\": [\"City1\", \"City2\", \"City3\", \"City4\", \"City5\"]\n",
    "}\n",
    "df_from_lists = pandas.DataFrame(temporary_dict)\n",
    "df_from_lists.to_csv(\"exercise_spreadsheet.csv\")\n",
    "\n",
    "df_from_csv = pandas.read_csv(\"exercise_spreadsheet.csv\")\n",
    "print(df_from_csv)\n",
    "```\n",
    "</p>\n",
    "</details>"
   ]
  },
  {
   "cell_type": "markdown",
   "metadata": {
    "id": "6t9rfd36A1sM"
   },
   "source": [
    "It is not the same because the old index got read in as an unnamed column, and *also* the new dataframe got a new index."
   ]
  },
  {
   "cell_type": "markdown",
   "metadata": {
    "id": "U_hS0p_hA9tW"
   },
   "source": [
    "# Fixing DataFrame Columns\n",
    "\n",
    "We have already seen that creating DataFrame from a dictionary will result in columns that have the same labels as the keys of the dictionary.\n",
    "\n",
    "```\n",
    "df = pandas.DataFrame(dictionary)\n",
    "```\n",
    "* However, in that case, we didn't get to pick the *order* of the columns.  \n",
    "\n",
    "We can specify an `order` or `subset` of columns by listing column labels in the `columns` keyword argument.\n",
    "\n",
    "\n",
    "```\n",
    "df = pandas.DataFrame(dictionary, columns=[...] )\n",
    "```\n",
    "\n",
    "The `usecols` argument can be used to select columns when reading from files.\n",
    "\n",
    "```\n",
    "df = pandas.read_<filetype>(path_to_file, usecols=[...] )\n",
    "```"
   ]
  },
  {
   "cell_type": "markdown",
   "metadata": {
    "id": "9MWmn1miC2rT"
   },
   "source": [
    "## Example 6\n",
    "\n",
    "Creating a DataFrame as in Example 1 but with different columns."
   ]
  },
  {
   "cell_type": "code",
   "execution_count": 14,
   "metadata": {
    "colab": {
     "base_uri": "https://localhost:8080/"
    },
    "id": "VhkN9ptDC_1U",
    "outputId": "dd34bb72-ace4-4483-d773-7b5e491d9fa5"
   },
   "outputs": [
    {
     "name": "stdout",
     "output_type": "stream",
     "text": [
      "         Date  Magnitude Region\n",
      "0  2023-05-01        4.5  City1\n",
      "1  2023-05-02        3.8  City2\n",
      "2  2023-05-03        5.2  City3\n",
      "3  2023-05-04        4.0  City4\n",
      "4  2023-05-05        6.1  City5\n"
     ]
    }
   ],
   "source": [
    "temporary_dict = {\n",
    "    \"Date\": [\"2023-05-01\", \"2023-05-02\", \"2023-05-03\", \"2023-05-04\", \"2023-05-05\"],\n",
    "    \"Latitude\": [34.05, 37.77, 40.71, 34.05, 35.68],\n",
    "    \"Longitude\": [-118.25, -122.42, -74.01, -118.25, 139.69],\n",
    "    \"Magnitude\": [4.5, 3.8, 5.2, 4.0, 6.1],\n",
    "    \"Depth (km)\": [10.0, 12.5, 8.0, 15.0, 20.0],\n",
    "    \"Region\": [\"City1\", \"City2\", \"City3\", \"City4\", \"City5\"]\n",
    "}\n",
    "\n",
    "df_from_lists = pandas.DataFrame(temporary_dict, columns=[\"Date\",\"Magnitude\",\"Region\"])\n",
    "\n",
    "print(df_from_lists)"
   ]
  },
  {
   "cell_type": "markdown",
   "metadata": {
    "id": "AN0GgYeXDjVK"
   },
   "source": [
    "## Exercise 6\n",
    "\n",
    "Read in the example spreadsheet as in Example 4 but specify columns as in Example 6. (Hint: `usecols`)"
   ]
  },
  {
   "cell_type": "code",
   "execution_count": 15,
   "metadata": {
    "id": "rabX_SYVDiPN"
   },
   "outputs": [],
   "source": [
    "#your code here"
   ]
  },
  {
   "cell_type": "markdown",
   "metadata": {
    "colab": {
     "base_uri": "https://localhost:8080/"
    },
    "id": "-X3bVIqmDwom",
    "outputId": "1f0504d6-342f-419a-ee2f-29506b674c02"
   },
   "source": [
    "<details><summary><p style=\"padding: 10px; border: 2px solid;\"><big>Click here to see solution</big></p></summary>\n",
    "<p>\n",
    "\n",
    "    \n",
    "```\n",
    "df_from_file = pandas.read_csv(\"example_spreadsheet.csv\", usecols=[\"Date\",\"Magnitude\",\"Region\"])\n",
    "print(df_from_file)\n",
    "\n",
    "```\n",
    "</p>\n",
    "</details>"
   ]
  },
  {
   "cell_type": "markdown",
   "metadata": {
    "id": "wUA8EvltEQ9f"
   },
   "source": [
    "Not quite the same. `usecols` specifies a subset but not an order."
   ]
  },
  {
   "cell_type": "markdown",
   "metadata": {
    "id": "-QU8RfsSEoEw"
   },
   "source": [
    "# Fixing DataFrame Index\n",
    "\n",
    "When we created a DataFrame from data, sometimes the intended `index` (row labels) gets assigned to one of the columns.\n",
    "\n",
    "The `set_index` DataFrame *method* can modify a DataFrame to move one of the columns over to use it as the `index`. It returns the new DataFrame.\n",
    "\n",
    "```\n",
    "new_df = df.set_index(column_label)\n",
    "```\n",
    "\n",
    "When reading in from a file, we can prevent the unwanted outcome by specifying a column to use as the index:\n",
    "```\n",
    "df = pandas.read_<filetype>(path_to_file, index_col= <column_label>)\n",
    "```\n",
    "\n"
   ]
  },
  {
   "cell_type": "markdown",
   "metadata": {
    "id": "ovXciwV9GVnu"
   },
   "source": [
    "## Example 7\n",
    "\n",
    "Writing a file and reading it back in causes the index to be misassigned.\n",
    "\n",
    "The column `'Unnamed: 0'` (position 0 in the file) holds the row labels.\n",
    "\n",
    "We can fix it using the `set_index` method.\n",
    "\n",
    "Specifying the index as column 0 when reading in prevents that."
   ]
  },
  {
   "cell_type": "code",
   "execution_count": 16,
   "metadata": {
    "colab": {
     "base_uri": "https://localhost:8080/"
    },
    "id": "KY7S5nz1I_-Z",
    "outputId": "1b6982e9-47d8-4587-a710-6b4aa50b460c"
   },
   "outputs": [
    {
     "name": "stdout",
     "output_type": "stream",
     "text": [
      "  Unnamed: 0  column1  column2  column3  column4\n",
      "0       row1        0        1        2        3\n",
      "1       row2        4        5        6        7\n",
      "2       row3        8        9       10       11\n",
      "            column1  column2  column3  column4\n",
      "Unnamed: 0                                    \n",
      "row1              0        1        2        3\n",
      "row2              4        5        6        7\n",
      "row3              8        9       10       11\n",
      "      column1  column2  column3  column4\n",
      "row1        0        1        2        3\n",
      "row2        4        5        6        7\n",
      "row3        8        9       10       11\n"
     ]
    }
   ],
   "source": [
    "# a quick 3x4 array\n",
    "data_2d = numpy.arange(12).reshape(3, 4)\n",
    "\n",
    "df_from_array = pandas.DataFrame(data=data_2d,\n",
    "                                 index=[\"row1\", \"row2\", \"row3\"],\n",
    "                                 columns=[\"column1\", \"column2\", \"column3\", \"column4\"]\n",
    "                                 )\n",
    "# creating a file\n",
    "df_from_array.to_csv(\"example_7.csv\")\n",
    "\n",
    "# reading back in\n",
    "df_from_csv = pandas.read_csv(\"example_7.csv\")\n",
    "print(df_from_csv)\n",
    "\n",
    "# set_index method\n",
    "df_from_csv = df_from_csv.set_index(\"Unnamed: 0\")\n",
    "print(df_from_csv)\n",
    "\n",
    "# keyword argument method\n",
    "df_from_csv = pandas.read_csv(\"example_7.csv\", index_col=0)\n",
    "print(df_from_csv)"
   ]
  },
  {
   "cell_type": "markdown",
   "metadata": {
    "id": "h-YDX53gPSzr"
   },
   "source": [
    "The `set_index` method keeps the column name intact, so the index has a label just like a column does.\n",
    "\n",
    "Learn more about that in a future lesson."
   ]
  },
  {
   "cell_type": "markdown",
   "metadata": {
    "id": "giuw1XyDIhuq"
   },
   "source": [
    "## Exercise 7\n",
    "\n",
    "Create a DataFrame with the following three arrays as columns (given in the cell below). *Don't set an index.*\n",
    "\n",
    "* Hint: put them in a dictionary.\n",
    "\n",
    "Modify the DataFrame so that the dates column becomes the index. Use a \"method chain\".\n",
    "\n",
    "* Hint: `set_index()` is a *return* method, so it can be chained with other functions that return DataFrames.\n",
    "\n",
    "Yes, I know you could have just set the index using the `index` keyword argument. The point of this exercise is to try something different."
   ]
  },
  {
   "cell_type": "code",
   "execution_count": 17,
   "metadata": {
    "id": "-WkctkWQHF7O"
   },
   "outputs": [],
   "source": [
    "#creating a date range index over 30 days\n",
    "dates = pandas.date_range('2022-09-01', '2022-09-30')\n",
    "#creating random prices\n",
    "price1 = numpy.round(numpy.random.rand(30)*10 + 10, decimals=2)\n",
    "price2 = numpy.round(numpy.random.rand(30)*10 + 10, decimals=2)\n",
    "#your code here"
   ]
  },
  {
   "cell_type": "markdown",
   "metadata": {
    "colab": {
     "base_uri": "https://localhost:8080/"
    },
    "id": "UeOmL_d6Il5w",
    "outputId": "def8dc61-455e-4b12-c022-c25bf8575ef5"
   },
   "source": [
    "<details><summary><p style=\"padding: 10px; border: 2px solid;\"><big>Click here to see solution</big></p></summary>\n",
    "<p>\n",
    "\n",
    "    \n",
    "```\n",
    "#creating a date range index over 30 days\n",
    "dates = pandas.date_range('2022-09-01', '2022-09-30')\n",
    "#creating random prices\n",
    "price1 = numpy.round(numpy.random.rand(30)*10 + 10, decimals=2)\n",
    "price2 = numpy.round(numpy.random.rand(30)*10 + 10, decimals=2)\n",
    "\n",
    "temporary_dict = {\n",
    "    'dates' : dates,\n",
    "    'price1' : price1,\n",
    "    'price2' : price2\n",
    "}\n",
    "\n",
    "df_with_index = pandas.DataFrame(temporary_dict).set_index('dates')\n",
    "\n",
    "print(df_with_index)\n",
    "```\n",
    "</p>\n",
    "</details>"
   ]
  },
  {
   "cell_type": "code",
   "execution_count": null,
   "metadata": {},
   "outputs": [],
   "source": []
  }
 ],
 "metadata": {
  "colab": {
   "provenance": []
  },
  "kernelspec": {
   "display_name": "Python 3 (ipykernel)",
   "language": "python",
   "name": "python3"
  },
  "language_info": {
   "codemirror_mode": {
    "name": "ipython",
    "version": 3
   },
   "file_extension": ".py",
   "mimetype": "text/x-python",
   "name": "python",
   "nbconvert_exporter": "python",
   "pygments_lexer": "ipython3",
   "version": "3.12.2"
  }
 },
 "nbformat": 4,
 "nbformat_minor": 4
}
