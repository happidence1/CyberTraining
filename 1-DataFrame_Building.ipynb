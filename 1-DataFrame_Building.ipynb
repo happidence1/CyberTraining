{
  "nbformat": 4,
  "nbformat_minor": 0,
  "metadata": {
    "colab": {
      "provenance": []
    },
    "kernelspec": {
      "name": "python3",
      "display_name": "Python 3"
    },
    "language_info": {
      "name": "python"
    }
  },
  "cells": [
    {
      "cell_type": "markdown",
      "metadata": {
        "id": "MNiBN7s-Lng0"
      },
      "source": [
        "#Intermediate Python\n",
        "\n",
        "Texas A&M University High Performance Research Computing\n",
        "\n",
        "Texas A&M University Engineering Studio for Advanced Instruction and Learning\n",
        "\n",
        "Texas A&M Engineering Experiment Station Educating Generations\n",
        "\n",
        "# \"DataFrame Building\"\n",
        "Learn how to use Use Python Pandas library for data manipulation\n",
        "\n",
        "\n"
      ]
    },
    {
      "cell_type": "markdown",
      "source": [
        "# Pandas Module\n",
        "\n",
        "Reminder: You should import a module *once*, usually at the beginning of the notebook.\n",
        "\n",
        "Execute this cell to bring in `pandas` and `numpy` functions."
      ],
      "metadata": {
        "id": "kHjvrlOsu6-3"
      }
    },
    {
      "cell_type": "code",
      "metadata": {
        "id": "Dy6Z4kB3K7fC"
      },
      "source": [
        "import pandas\n",
        "import numpy"
      ],
      "execution_count": 1,
      "outputs": []
    },
    {
      "cell_type": "markdown",
      "metadata": {
        "id": "mZVjTeTLU9Sd"
      },
      "source": [
        "#Pandas DataFrame Class\n",
        "\n",
        "Pandas provides the `DataFrame` data structure class. Note the capital letters.\n"
      ]
    },
    {
      "cell_type": "code",
      "source": [
        "print(pandas.DataFrame)"
      ],
      "metadata": {
        "id": "owOraooyvW8J",
        "outputId": "cfca0d53-1d37-40cb-b1e9-a55602169e68",
        "colab": {
          "base_uri": "https://localhost:8080/"
        }
      },
      "execution_count": 2,
      "outputs": [
        {
          "output_type": "stream",
          "name": "stdout",
          "text": [
            "<class 'pandas.core.frame.DataFrame'>\n"
          ]
        }
      ]
    },
    {
      "cell_type": "markdown",
      "source": [
        "#DataFrames are like Spreadsheets\n",
        "\n",
        "The `DataFrame` is the 2D extension of the `Series`. Both rows and columns have labels.\n",
        "\n",
        "||column1|column2|\n",
        "|--|--|--|\n",
        "|row1| `data` | `data`|\n",
        "|row2| `data`| `data`|\n"
      ],
      "metadata": {
        "id": "0_m3U-BMvnTx"
      }
    },
    {
      "cell_type": "markdown",
      "source": [
        "#Building DataFrames from Data\n",
        "\n",
        "We can build DataFrames using the constructor function `DataFrame` which as its first argument accepts an existing data structure.\n",
        "\n",
        "```\n",
        "new_dataframe = pandas.DataFrame( data_structure )\n",
        "```\n"
      ],
      "metadata": {
        "id": "kTRek5EnyJXn"
      }
    },
    {
      "cell_type": "markdown",
      "source": [
        "##Example 0\n",
        "Just checking that it works."
      ],
      "metadata": {
        "id": "5Ze1uU7m-qiw"
      }
    },
    {
      "cell_type": "code",
      "source": [
        "empty_dataframe = pandas.DataFrame()\n",
        "print(type(empty_dataframe))"
      ],
      "metadata": {
        "id": "-xmushy9-tgc",
        "colab": {
          "base_uri": "https://localhost:8080/"
        },
        "outputId": "dfdc8644-200b-4ea6-834d-ea077014de9b"
      },
      "execution_count": 3,
      "outputs": [
        {
          "output_type": "stream",
          "name": "stdout",
          "text": [
            "<class 'pandas.core.frame.DataFrame'>\n"
          ]
        }
      ]
    },
    {
      "cell_type": "markdown",
      "source": [
        "`<class 'pandas.core.frame.DataFrame'>`\n"
      ],
      "metadata": {
        "id": "xgq3O-26-0nn"
      }
    },
    {
      "cell_type": "markdown",
      "source": [
        "## DataFrame by Columns\n",
        "\n",
        "We can assemble a DataFrame column-by-column by putting one-dimensional structures (such as lists) into a dictionary.\n",
        "\n",
        "The keys of the dictionary become the column labels.\n",
        "```\n",
        "temporary_dict = {\n",
        "  column1 : [...],\n",
        "  column2 : [...],\n",
        "  ...\n",
        "}\n",
        "```"
      ],
      "metadata": {
        "id": "XEhcyjQyylG7"
      }
    },
    {
      "cell_type": "markdown",
      "source": [
        "##Example 1\n",
        "Three lists (the same length) become the columns of a DataFrame.\n",
        "\n"
      ],
      "metadata": {
        "id": "6CuxLqHRzasL"
      }
    },
    {
      "cell_type": "code",
      "metadata": {
        "id": "aW18BI1YLFMC",
        "colab": {
          "base_uri": "https://localhost:8080/"
        },
        "outputId": "f33599d6-ef2e-48ef-caac-10bfd4d3124a"
      },
      "source": [
        "temporary_dict = {\n",
        "    \"Date\": [\"2023-05-01\", \"2023-05-02\", \"2023-05-03\", \"2023-05-04\", \"2023-05-05\"],\n",
        "    \"Latitude\": [34.05, 37.77, 40.71, 34.05, 35.68],\n",
        "    \"Longitude\": [-118.25, -122.42, -74.01, -118.25, 139.69],\n",
        "    \"Magnitude\": [4.1, 3.8, 5.2, 4.0, 6.1],\n",
        "    \"Depth (km)\": [2.0, 12.5, 8.0, 15.0, 20.0],\n",
        "    \"Region\": [\"City1\", \"City2\", \"City3\", \"City4\", \"City5\"]\n",
        "}\n",
        "df_from_lists = pandas.DataFrame(temporary_dict)\n",
        "print(df_from_lists)"
      ],
      "execution_count": 4,
      "outputs": [
        {
          "output_type": "stream",
          "name": "stdout",
          "text": [
            "         Date  Latitude  Longitude  Magnitude  Depth (km) Region\n",
            "0  2023-05-01     34.05    -118.25        4.1         2.0  City1\n",
            "1  2023-05-02     37.77    -122.42        3.8        12.5  City2\n",
            "2  2023-05-03     40.71     -74.01        5.2         8.0  City3\n",
            "3  2023-05-04     34.05    -118.25        4.0        15.0  City4\n",
            "4  2023-05-05     35.68     139.69        6.1        20.0  City5\n"
          ]
        }
      ]
    },
    {
      "cell_type": "markdown",
      "source": [
        "##Exercise 1\n",
        "Create two pandas `Series` with the same custom index.\n",
        "```\n",
        "pandas.Series([...], index=[...])\n",
        "```\n",
        "\n",
        "Put the two `Series` into a temporary dictionary with keys that are column labels.\n",
        "\n",
        "Create a DataFrame from the temporary dictionary.\n",
        "\n",
        "Print the DataFrame to verify that the rows have same labels as the original `Series` did."
      ],
      "metadata": {
        "id": "3Bigoz5mz9qk"
      }
    },
    {
      "cell_type": "code",
      "source": [
        "#your code here"
      ],
      "metadata": {
        "id": "ahVNZgkJy_kq"
      },
      "execution_count": 5,
      "outputs": []
    },
    {
      "cell_type": "code",
      "source": [
        "#@title Double-click to see solution\n",
        "s1=pandas.Series([1,2,3],index=['a','b','c'])\n",
        "s2=pandas.Series([4,5,6],index=['a','b','c'])\n",
        "temporary_dict={\"column1\":s1,\"column2\":s2}\n",
        "df_from_series=pandas.DataFrame(temporary_dict)\n",
        "print(df_from_series)"
      ],
      "metadata": {
        "cellView": "form",
        "id": "th7lC_fZ0hQ2",
        "colab": {
          "base_uri": "https://localhost:8080/"
        },
        "outputId": "cac97b10-3159-40b3-98a6-78dbd92a72ab"
      },
      "execution_count": 6,
      "outputs": [
        {
          "output_type": "stream",
          "name": "stdout",
          "text": [
            "   column1  column2\n",
            "a        1        4\n",
            "b        2        5\n",
            "c        3        6\n"
          ]
        }
      ]
    },
    {
      "cell_type": "markdown",
      "metadata": {
        "id": "VoNwxDuViRES"
      },
      "source": [
        "## DataFrame by Rows\n",
        "\n",
        "We can build a DataFrame row-by-row by putting dictionaries into a one-dimensional data structure (such as a list).\n",
        "\n",
        "The keys of the dictionaries become the labels of the columns.\n",
        "```\n",
        "temporary_list = [\n",
        "  { column1: ... , ... },\n",
        "  { column1: ... , ... },\n",
        "  ...\n",
        "]\n",
        "```\n",
        "\n",
        "\n",
        "\n",
        "\n",
        "\n",
        "\n"
      ]
    },
    {
      "cell_type": "markdown",
      "source": [
        "##Example 2\n",
        "\n",
        "Two dictionaries (with the same keys) become the rows of a DataFrame."
      ],
      "metadata": {
        "id": "XZ-LqEcy3B80"
      }
    },
    {
      "cell_type": "code",
      "metadata": {
        "id": "ZqMrAGsTI-wH",
        "colab": {
          "base_uri": "https://localhost:8080/"
        },
        "outputId": "7a7e7aa2-893b-4580-9cbe-10039f330c3e"
      },
      "source": [
        "dict_1 = {\n",
        "  \"Date\": \"2023-05-01\",\n",
        "  \"Latitude\": 34.05,\n",
        "  \"Longitude\": -118.25,\n",
        "  \"Magnitude\": 4.5,\n",
        "  \"Depth (km)\": 10.0,\n",
        "  \"Region\": \"City1\"\n",
        "}\n",
        "\n",
        "dict_2 = {\n",
        "  \"Date\": \"2023-05-02\",\n",
        "  \"Latitude\": 37.77,\n",
        "  \"Longitude\": -122.42,\n",
        "  \"Magnitude\": 3.8,\n",
        "  \"Depth (km)\": 12.5,\n",
        "  \"Region\": \"City2\"\n",
        "}\n",
        "\n",
        "temporary_list = [dict_1, dict_2]\n",
        "\n",
        "df_from_dicts = pandas.DataFrame(temporary_list)\n",
        "\n",
        "print(df_from_dicts)"
      ],
      "execution_count": 7,
      "outputs": [
        {
          "output_type": "stream",
          "name": "stdout",
          "text": [
            "         Date  Latitude  Longitude  Magnitude  Depth (km) Region\n",
            "0  2023-05-01     34.05    -118.25        4.5        10.0  City1\n",
            "1  2023-05-02     37.77    -122.42        3.8        12.5  City2\n"
          ]
        }
      ]
    },
    {
      "cell_type": "markdown",
      "source": [
        "##Exercise 2\n",
        "\n",
        "Create three dictionaries with some keys in common and some keys not in common.\n",
        "\n",
        "Put the dictionaries into a temporary list.\n",
        "\n",
        "Create a DataFrame from the temporary list.\n",
        "\n",
        "Print the DataFrame and observe:\n",
        "\n",
        "What happened to the keys that were in common?\n",
        "\n",
        "What happened to the keys that were not in common?"
      ],
      "metadata": {
        "id": "CSpK_ZJ-3Ny-"
      }
    },
    {
      "cell_type": "code",
      "source": [
        "#your code here"
      ],
      "metadata": {
        "id": "A4SK8Icb3w3O"
      },
      "execution_count": 8,
      "outputs": []
    },
    {
      "cell_type": "code",
      "source": [
        "#@title Double-click to see solution\n",
        "d1={'name':'ball' ,'count':3,'color':'red'}\n",
        "d2={'name':'block','count':2,'weight':1.0}\n",
        "d3={'name':'plush','count':1,'fabric':'soft'}\n",
        "\n",
        "dataframe_from_dicts=pandas.DataFrame([d1, d2, d3])\n",
        "\n",
        "print(dataframe_from_dicts)"
      ],
      "metadata": {
        "cellView": "form",
        "id": "ySjSsOCD3xH4",
        "colab": {
          "base_uri": "https://localhost:8080/"
        },
        "outputId": "7a19e892-d881-40f3-eb57-1ea5fbbe6e5e"
      },
      "execution_count": 9,
      "outputs": [
        {
          "output_type": "stream",
          "name": "stdout",
          "text": [
            "    name  count color  weight fabric\n",
            "0   ball      3   red     NaN    NaN\n",
            "1  block      2   NaN     1.0    NaN\n",
            "2  plush      1   NaN     NaN   soft\n"
          ]
        }
      ]
    },
    {
      "cell_type": "markdown",
      "source": [
        "The keys that are not in common become columns with `NaN` in the positions where the dictionaries did not have that key."
      ],
      "metadata": {
        "id": "D0pBTnCA5XDC"
      }
    },
    {
      "cell_type": "markdown",
      "metadata": {
        "id": "Lfnyx2KnpamC"
      },
      "source": [
        "## DataFrame from a 2D Array\n",
        "\n",
        "Since 2D NumPy arrays have no labels, we use keyword arguments to set the labels in the DataFrame.\n",
        "* keyword `data` sets the values of the rows and columns\n",
        "* keyword `index` sets the labels of the rows from a list\n",
        "* keyword `columns` sets the labels of the columns from a list\n",
        "\n",
        "```\n",
        "df_from_array = pandas.DataFrame(data=array, index=[...], columns=[...])\n",
        "```"
      ]
    },
    {
      "cell_type": "markdown",
      "source": [
        "##Example 3\n",
        "A NumPy 2D array becomes a DataFrame. The rows and columns remain rows and columns."
      ],
      "metadata": {
        "id": "LqDVk6yz6yUs"
      }
    },
    {
      "cell_type": "code",
      "metadata": {
        "id": "GQ5XDi36paAf",
        "colab": {
          "base_uri": "https://localhost:8080/"
        },
        "outputId": "41674915-6040-4d59-9d45-52e93faad48f"
      },
      "source": [
        "# a quick 3x4 array\n",
        "data_2d = numpy.arange(12).reshape(3, 4)\n",
        "\n",
        "df_from_array = pandas.DataFrame(data=data_2d,\n",
        "                                 index=[\"row1\", \"row2\", \"row3\"],\n",
        "                                 columns=[\"column1\", \"column2\", \"column3\", \"column4\"]\n",
        "                                 )\n",
        "print(df_from_array)"
      ],
      "execution_count": 10,
      "outputs": [
        {
          "output_type": "stream",
          "name": "stdout",
          "text": [
            "      column1  column2  column3  column4\n",
            "row1        0        1        2        3\n",
            "row2        4        5        6        7\n",
            "row3        8        9       10       11\n"
          ]
        }
      ]
    },
    {
      "cell_type": "markdown",
      "source": [
        "##Exercise 3\n",
        "\n",
        "Create a 2D Array of random numbers using `numpy.random.rand()`\n",
        "\n",
        "Create a DataFrame with row and column labels from arithmetic sequences.\n",
        "\n",
        "Print."
      ],
      "metadata": {
        "id": "eQL91BOi7DUX"
      }
    },
    {
      "cell_type": "code",
      "source": [
        "#your code here"
      ],
      "metadata": {
        "id": "2es3rYZa7Q82"
      },
      "execution_count": 11,
      "outputs": []
    },
    {
      "cell_type": "code",
      "source": [
        "#@title Double-click to see solution\n",
        "\n",
        "data_2d = numpy.random.rand(5, 3)\n",
        "\n",
        "df_from_array = pandas.DataFrame(data=data_2d,\n",
        "                                 index=range(5,10),\n",
        "                                 columns=range(96,99)\n",
        "                                 )\n",
        "print(df_from_array)"
      ],
      "metadata": {
        "cellView": "form",
        "id": "YqZxeBcT7RJf",
        "colab": {
          "base_uri": "https://localhost:8080/"
        },
        "outputId": "ada3c1a5-421c-4ea9-e473-ef1cd48636bc"
      },
      "execution_count": 12,
      "outputs": [
        {
          "output_type": "stream",
          "name": "stdout",
          "text": [
            "         96        97        98\n",
            "5  0.948000  0.335249  0.679882\n",
            "6  0.675232  0.822082  0.417128\n",
            "7  0.368260  0.012640  0.087464\n",
            "8  0.778057  0.674451  0.706266\n",
            "9  0.763196  0.148318  0.990009\n"
          ]
        }
      ]
    },
    {
      "cell_type": "markdown",
      "metadata": {
        "id": "b9I0WMs7ni-Y"
      },
      "source": [
        "## DataFrame from a File\n",
        "\n",
        "Pandas has different reading tools.\n",
        "\n",
        "For example these tools read spreadsheet files and html:\n",
        "```\n",
        "pandas.read_csv()\n",
        "pandas.read_excel()\n",
        "pandas..read_html()\n",
        "```\n",
        "\n",
        "Pandas can read column labels out of spreadsheet files and use those to label a DataFrame."
      ]
    },
    {
      "cell_type": "markdown",
      "source": [
        "##Example 4\n",
        "\n",
        "Upload the example spreadsheet to your current session. Read it in using\n",
        "```\n",
        "pandas.read_csv(path_to_file)\n",
        "```\n",
        "Save the result in a variable and print the variable.\n",
        "\n",
        "\n",
        "\n"
      ],
      "metadata": {
        "id": "qC7e6rmT89z6"
      }
    },
    {
      "cell_type": "code",
      "metadata": {
        "id": "3jd2ieE36HjG",
        "colab": {
          "base_uri": "https://localhost:8080/"
        },
        "outputId": "1503517d-3095-4510-c7b0-1b3773c05919"
      },
      "source": [
        "df_from_file = pandas.read_csv('example_spreadsheet.csv')\n",
        "print(df_from_file)"
      ],
      "execution_count": 14,
      "outputs": [
        {
          "output_type": "stream",
          "name": "stdout",
          "text": [
            "     Date  Latitude  Longitude  Magnitude  Depth (km) Region\n",
            "0  5/1/23     34.05    -118.25        4.5        10.0  City1\n",
            "1  5/2/23     37.77    -122.42        3.8        12.5  City2\n",
            "2  5/3/23     40.71     -74.01        5.2         8.0  City3\n",
            "3  5/4/23     34.05    -118.25        4.0        15.0  City4\n",
            "4  5/5/23     35.68     139.69        6.1        20.0  City5\n"
          ]
        }
      ]
    },
    {
      "cell_type": "markdown",
      "source": [
        "##Exercise 4\n",
        "Create a spreadsheet in either csv or excel file format.\n",
        "\n",
        "Read it in using the appropriate file reading tool. Print.\n",
        "\n"
      ],
      "metadata": {
        "id": "ut5xGwB_948N"
      }
    },
    {
      "cell_type": "code",
      "source": [
        "#your code here"
      ],
      "metadata": {
        "id": "STFNlq9k-Col"
      },
      "execution_count": 15,
      "outputs": []
    },
    {
      "cell_type": "markdown",
      "source": [
        "##DataFrame to a File\n",
        "\n",
        "Likewise, pandas can write dataframes into spreadsheet files using DataFrame *methods*\n",
        "\n",
        "```\n",
        "df.to_csv(path_to_file)\n",
        "df.to_excel(path_to_file)\n",
        "```\n",
        "You must name the file appropriately (excel files end in `.xlsx`) to pick a valid file format."
      ],
      "metadata": {
        "id": "G-xtFEQ4-bMW"
      }
    },
    {
      "cell_type": "markdown",
      "source": [
        "##Example 5\n",
        "\n",
        "DataFrame to excel file."
      ],
      "metadata": {
        "id": "X5p-e4tx_siR"
      }
    },
    {
      "cell_type": "code",
      "source": [
        "temporary_dict = {\n",
        "    \"Date\": [\"2023-05-01\", \"2023-05-02\", \"2023-05-03\", \"2023-05-04\", \"2023-05-05\"],\n",
        "    \"Latitude\": [34.05, 37.77, 40.71, 34.05, 35.68],\n",
        "    \"Longitude\": [-118.25, -122.42, -74.01, -118.25, 139.69],\n",
        "    \"Magnitude\": [4.5, 3.8, 5.2, 4.0, 6.1],\n",
        "    \"Depth (km)\": [10.0, 12.5, 8.0, 15.0, 20.0],\n",
        "    \"Region\": [\"City1\", \"City2\", \"City3\", \"City4\", \"City5\"]\n",
        "}\n",
        "df_from_lists = pandas.DataFrame(temporary_dict)\n",
        "df_from_lists.to_csv(\"example_spreadsheet_2.csv\")"
      ],
      "metadata": {
        "id": "tstxQYFP_r6R"
      },
      "execution_count": 16,
      "outputs": []
    },
    {
      "cell_type": "markdown",
      "source": [
        "##Exercise 5\n",
        "Create a DataFrame.\n",
        "\n",
        "Write to csv file.\n",
        "\n",
        "Read it back in (a new variable) and print to check whether it is the same."
      ],
      "metadata": {
        "id": "Fz0sx9-hAXUS"
      }
    },
    {
      "cell_type": "code",
      "source": [
        "#your code here"
      ],
      "metadata": {
        "id": "MIPWJP2uAmm9"
      },
      "execution_count": 17,
      "outputs": []
    },
    {
      "cell_type": "code",
      "source": [
        "#@title Double-click to see solution\n",
        "temporary_dict = {\n",
        "    \"Date\": [\"2023-05-01\", \"2023-05-02\", \"2023-05-03\", \"2023-05-04\", \"2023-05-05\"],\n",
        "    \"Latitude\": [34.05, 37.77, 40.71, 34.05, 35.68],\n",
        "    \"Longitude\": [-118.25, -122.42, -74.01, -118.25, 139.69],\n",
        "    \"Magnitude\": [4.5, 3.8, 5.2, 4.0, 6.1],\n",
        "    \"Depth (km)\": [10.0, 12.5, 8.0, 15.0, 20.0],\n",
        "    \"Region\": [\"City1\", \"City2\", \"City3\", \"City4\", \"City5\"]\n",
        "}\n",
        "df_from_lists = pandas.DataFrame(temporary_dict)\n",
        "df_from_lists.to_csv(\"exercise_spreadsheet.csv\")\n",
        "\n",
        "df_from_csv = pandas.read_csv(\"exercise_spreadsheet.csv\")\n",
        "print(df_from_csv)"
      ],
      "metadata": {
        "id": "gU1YbTBmAm0Z",
        "colab": {
          "base_uri": "https://localhost:8080/"
        },
        "outputId": "4e6f00e0-97c3-40e9-d026-a9be1522130f"
      },
      "execution_count": 18,
      "outputs": [
        {
          "output_type": "stream",
          "name": "stdout",
          "text": [
            "   Unnamed: 0        Date  Latitude  Longitude  Magnitude  Depth (km) Region\n",
            "0           0  2023-05-01     34.05    -118.25        4.5        10.0  City1\n",
            "1           1  2023-05-02     37.77    -122.42        3.8        12.5  City2\n",
            "2           2  2023-05-03     40.71     -74.01        5.2         8.0  City3\n",
            "3           3  2023-05-04     34.05    -118.25        4.0        15.0  City4\n",
            "4           4  2023-05-05     35.68     139.69        6.1        20.0  City5\n"
          ]
        }
      ]
    },
    {
      "cell_type": "markdown",
      "source": [
        "It is not the same because the old index got read in as an unnamed column, and *also* the new dataframe got a new index."
      ],
      "metadata": {
        "id": "6t9rfd36A1sM"
      }
    },
    {
      "cell_type": "markdown",
      "source": [
        "# Fixing DataFrame Columns\n",
        "\n",
        "We have already seen that creating DataFrame from a dictionary will result in columns that have the same labels as the keys of the dictionary.\n",
        "\n",
        "```\n",
        "df = pandas.DataFrame(dictionary)\n",
        "```\n",
        "* However, in that case, we didn't get to pick the *order* of the columns.  \n",
        "\n",
        "We can specify an `order` or `subset` of columns by listing column labels in the `columns` keyword argument.\n",
        "\n",
        "\n",
        "```\n",
        "df = pandas.DataFrame(dictionary, columns=[...] )\n",
        "```\n",
        "\n",
        "The `usecols` argument can be used to select columns when reading from files.\n",
        "\n",
        "```\n",
        "df = pandas.read_<filetype>(path_to_file, usecols=[...] )\n",
        "```"
      ],
      "metadata": {
        "id": "U_hS0p_hA9tW"
      }
    },
    {
      "cell_type": "markdown",
      "source": [
        "##Example 6\n",
        "\n",
        "Creating a DataFrame as in Example 1 but with different columns."
      ],
      "metadata": {
        "id": "9MWmn1miC2rT"
      }
    },
    {
      "cell_type": "code",
      "source": [
        "temporary_dict = {\n",
        "    \"Date\": [\"2023-05-01\", \"2023-05-02\", \"2023-05-03\", \"2023-05-04\", \"2023-05-05\"],\n",
        "    \"Latitude\": [34.05, 37.77, 40.71, 34.05, 35.68],\n",
        "    \"Longitude\": [-118.25, -122.42, -74.01, -118.25, 139.69],\n",
        "    \"Magnitude\": [4.5, 3.8, 5.2, 4.0, 6.1],\n",
        "    \"Depth (km)\": [10.0, 12.5, 8.0, 15.0, 20.0],\n",
        "    \"Region\": [\"City1\", \"City2\", \"City3\", \"City4\", \"City5\"]\n",
        "}\n",
        "\n",
        "df_from_lists = pandas.DataFrame(temporary_dict, columns=[\"Date\",\"Magnitude\",\"Region\"])\n",
        "\n",
        "print(df_from_lists)"
      ],
      "metadata": {
        "id": "VhkN9ptDC_1U",
        "colab": {
          "base_uri": "https://localhost:8080/"
        },
        "outputId": "dd34bb72-ace4-4483-d773-7b5e491d9fa5"
      },
      "execution_count": 19,
      "outputs": [
        {
          "output_type": "stream",
          "name": "stdout",
          "text": [
            "         Date  Magnitude Region\n",
            "0  2023-05-01        4.5  City1\n",
            "1  2023-05-02        3.8  City2\n",
            "2  2023-05-03        5.2  City3\n",
            "3  2023-05-04        4.0  City4\n",
            "4  2023-05-05        6.1  City5\n"
          ]
        }
      ]
    },
    {
      "cell_type": "markdown",
      "source": [
        "##Exercise 6\n",
        "\n",
        "Read in the example spreadsheet as in Example 4 but specify columns as in Example 6. (Hint: `usecols`)"
      ],
      "metadata": {
        "id": "AN0GgYeXDjVK"
      }
    },
    {
      "cell_type": "code",
      "source": [
        "#your code here"
      ],
      "metadata": {
        "id": "rabX_SYVDiPN"
      },
      "execution_count": 20,
      "outputs": []
    },
    {
      "cell_type": "code",
      "source": [
        "#@title Double-click to see solution\n",
        "df_from_file = pandas.read_csv(\"example_spreadsheet.csv\", usecols=[\"Date\",\"Magnitude\",\"Region\"])\n",
        "print(df_from_file)"
      ],
      "metadata": {
        "id": "-X3bVIqmDwom",
        "colab": {
          "base_uri": "https://localhost:8080/"
        },
        "outputId": "1f0504d6-342f-419a-ee2f-29506b674c02"
      },
      "execution_count": 21,
      "outputs": [
        {
          "output_type": "stream",
          "name": "stdout",
          "text": [
            "     Date  Magnitude Region\n",
            "0  5/1/23        4.5  City1\n",
            "1  5/2/23        3.8  City2\n",
            "2  5/3/23        5.2  City3\n",
            "3  5/4/23        4.0  City4\n",
            "4  5/5/23        6.1  City5\n"
          ]
        }
      ]
    },
    {
      "cell_type": "markdown",
      "source": [
        "Not quite the same. `usecols` specifies a subset but not an order."
      ],
      "metadata": {
        "id": "wUA8EvltEQ9f"
      }
    },
    {
      "cell_type": "markdown",
      "source": [
        "# Fixing DataFrame Index\n",
        "\n",
        "When we created a DataFrame from data, sometimes the intended `index` (row labels) gets assigned to one of the columns.\n",
        "\n",
        "The `set_index` DataFrame *method* can modify a DataFrame to move one of the columns over to use it as the `index`. It returns the new DataFrame.\n",
        "\n",
        "```\n",
        "new_df = df.set_index(column_label)\n",
        "```\n",
        "\n",
        "When reading in from a file, we can prevent the unwanted outcome by specifying a column to use as the index:\n",
        "```\n",
        "df = pandas.read_<filetype>(path_to_file, index_col= <column_label>)\n",
        "```\n",
        "\n"
      ],
      "metadata": {
        "id": "-QU8RfsSEoEw"
      }
    },
    {
      "cell_type": "markdown",
      "source": [
        "##Example 7\n",
        "\n",
        "Writing a file and reading it back in causes the index to be misassigned.\n",
        "\n",
        "The column `'Unnamed: 0'` (position 0 in the file) holds the row labels.\n",
        "\n",
        "We can fix it using the `set_index` method.\n",
        "\n",
        "Specifying the index as column 0 when reading in prevents that."
      ],
      "metadata": {
        "id": "ovXciwV9GVnu"
      }
    },
    {
      "cell_type": "code",
      "source": [
        "# a quick 3x4 array\n",
        "data_2d = numpy.arange(12).reshape(3, 4)\n",
        "\n",
        "df_from_array = pandas.DataFrame(data=data_2d,\n",
        "                                 index=[\"row1\", \"row2\", \"row3\"],\n",
        "                                 columns=[\"column1\", \"column2\", \"column3\", \"column4\"]\n",
        "                                 )\n",
        "# creating a file\n",
        "df_from_array.to_csv(\"example_7.csv\")\n",
        "\n",
        "# reading back in\n",
        "df_from_csv = pandas.read_csv(\"example_7.csv\")\n",
        "print(df_from_csv)\n",
        "\n",
        "# set_index method\n",
        "df_from_csv = df_from_csv.set_index(\"Unnamed: 0\")\n",
        "print(df_from_csv)\n",
        "\n",
        "# keyword argument method\n",
        "df_from_csv = pandas.read_csv(\"example_7.csv\", index_col=0)\n",
        "print(df_from_csv)"
      ],
      "metadata": {
        "id": "KY7S5nz1I_-Z",
        "colab": {
          "base_uri": "https://localhost:8080/"
        },
        "outputId": "1b6982e9-47d8-4587-a710-6b4aa50b460c"
      },
      "execution_count": 22,
      "outputs": [
        {
          "output_type": "stream",
          "name": "stdout",
          "text": [
            "  Unnamed: 0  column1  column2  column3  column4\n",
            "0       row1        0        1        2        3\n",
            "1       row2        4        5        6        7\n",
            "2       row3        8        9       10       11\n",
            "            column1  column2  column3  column4\n",
            "Unnamed: 0                                    \n",
            "row1              0        1        2        3\n",
            "row2              4        5        6        7\n",
            "row3              8        9       10       11\n",
            "      column1  column2  column3  column4\n",
            "row1        0        1        2        3\n",
            "row2        4        5        6        7\n",
            "row3        8        9       10       11\n"
          ]
        }
      ]
    },
    {
      "cell_type": "markdown",
      "source": [
        "The `set_index` method keeps the column name intact, so the index has a label just like a column does.\n",
        "\n",
        "Learn more about that in a future lesson."
      ],
      "metadata": {
        "id": "h-YDX53gPSzr"
      }
    },
    {
      "cell_type": "markdown",
      "source": [
        "##Exercise 7\n",
        "\n",
        "Create a DataFrame with the following three arrays as columns (given in the cell below). *Don't set an index.*\n",
        "\n",
        "* Hint: put them in a dictionary.\n",
        "\n",
        "Modify the DataFrame so that the dates column becomes the index. Use a \"method chain\".\n",
        "\n",
        "* Hint: `set_index()` is a *return* method, so it can be chained with other functions that return DataFrames.\n",
        "\n",
        "Yes, I know you could have just set the index using the `index` keyword argument. The point of this exercise is to try something different."
      ],
      "metadata": {
        "id": "giuw1XyDIhuq"
      }
    },
    {
      "cell_type": "code",
      "source": [
        "#creating a date range index over 30 days\n",
        "dates = pandas.date_range('2022-09-01', '2022-09-30')\n",
        "#creating random prices\n",
        "price1 = numpy.round(numpy.random.rand(30)*10 + 10, decimals=2)\n",
        "price2 = numpy.round(numpy.random.rand(30)*10 + 10, decimals=2)\n",
        "#your code here"
      ],
      "metadata": {
        "id": "-WkctkWQHF7O"
      },
      "execution_count": 23,
      "outputs": []
    },
    {
      "cell_type": "code",
      "source": [
        "#@title Double-click to see solution\n",
        "#creating a date range index over 30 days\n",
        "dates = pandas.date_range('2022-09-01', '2022-09-30')\n",
        "#creating random prices\n",
        "price1 = numpy.round(numpy.random.rand(30)*10 + 10, decimals=2)\n",
        "price2 = numpy.round(numpy.random.rand(30)*10 + 10, decimals=2)\n",
        "\n",
        "temporary_dict = {\n",
        "    'dates' : dates,\n",
        "    'price1' : price1,\n",
        "    'price2' : price2\n",
        "}\n",
        "\n",
        "df_with_index = pandas.DataFrame(temporary_dict).set_index('dates')\n",
        "\n",
        "print(df_with_index)"
      ],
      "metadata": {
        "id": "UeOmL_d6Il5w",
        "colab": {
          "base_uri": "https://localhost:8080/"
        },
        "outputId": "def8dc61-455e-4b12-c022-c25bf8575ef5"
      },
      "execution_count": 24,
      "outputs": [
        {
          "output_type": "stream",
          "name": "stdout",
          "text": [
            "            price1  price2\n",
            "dates                     \n",
            "2022-09-01   10.67   15.61\n",
            "2022-09-02   16.92   19.51\n",
            "2022-09-03   17.71   18.77\n",
            "2022-09-04   16.12   18.42\n",
            "2022-09-05   16.83   17.38\n",
            "2022-09-06   11.49   16.73\n",
            "2022-09-07   10.52   14.58\n",
            "2022-09-08   19.54   17.42\n",
            "2022-09-09   17.26   15.68\n",
            "2022-09-10   10.43   13.04\n",
            "2022-09-11   18.91   17.59\n",
            "2022-09-12   11.38   18.15\n",
            "2022-09-13   16.90   17.45\n",
            "2022-09-14   11.07   19.05\n",
            "2022-09-15   14.42   15.47\n",
            "2022-09-16   19.05   17.44\n",
            "2022-09-17   19.08   19.63\n",
            "2022-09-18   17.21   19.08\n",
            "2022-09-19   10.87   19.51\n",
            "2022-09-20   19.46   12.69\n",
            "2022-09-21   14.76   19.18\n",
            "2022-09-22   14.41   11.48\n",
            "2022-09-23   17.26   15.25\n",
            "2022-09-24   11.94   14.85\n",
            "2022-09-25   19.63   15.17\n",
            "2022-09-26   14.27   11.33\n",
            "2022-09-27   12.39   15.71\n",
            "2022-09-28   19.89   12.31\n",
            "2022-09-29   16.38   16.27\n",
            "2022-09-30   14.39   13.75\n"
          ]
        }
      ]
    }
  ]
}