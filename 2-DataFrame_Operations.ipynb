{
 "cells": [
  {
   "cell_type": "markdown",
   "metadata": {
    "id": "MNiBN7s-Lng0"
   },
   "source": [
    "# Intermediate Python\n",
    "\n",
    "Texas A&M University High Performance Research Computing\n",
    "\n",
    "Texas A&M University Engineering Studio for Advanced Instruction and Learning\n",
    "\n",
    "Texas A&M Engineering Experiment Station Educating Generations\n",
    "\n",
    "## \"DataFrame Operations\"\n",
    "Learn how to use Use Python Pandas library for data manipulation\n",
    "\n",
    "\n"
   ]
  },
  {
   "cell_type": "markdown",
   "metadata": {
    "id": "TSV4pT958-XB"
   },
   "source": [
    "# Pandas Module\n",
    "\n",
    "Reminder: You should import a module *once*, usually at the beginning of the notebook.\n",
    "\n",
    "Execute this cell to bring in `pandas` and `numpy` functions."
   ]
  },
  {
   "cell_type": "code",
   "execution_count": 1,
   "metadata": {
    "executionInfo": {
     "elapsed": 1183,
     "status": "ok",
     "timestamp": 1720121336750,
     "user": {
      "displayName": "Zhenhua He",
      "userId": "07570809959068816406"
     },
     "user_tz": 300
    },
    "id": "Dy6Z4kB3K7fC"
   },
   "outputs": [],
   "source": [
    "#don't forget to\n",
    "import pandas\n",
    "import numpy"
   ]
  },
  {
   "cell_type": "markdown",
   "metadata": {
    "id": "pcXQ0VDn2lba"
   },
   "source": [
    "# DataFrame Methods\n",
    "\n",
    "DataFrames have many methods for interacting with data.\n",
    "\n",
    "Reminder: some methods, known as *return methods*, return a new DataFrame object. They can be chained together.\n",
    "\n",
    "```\n",
    "new_dataframe = dataframe.function().function()...\n",
    "```\n",
    "\n",
    "Reminder: some methods, known as *in-place methods*, don't return anything. They modify the DataFrame and the same object gets the updates. They cannot be chained together.\n",
    "\n",
    "```\n",
    "dataframe.function()\n",
    "```"
   ]
  },
  {
   "cell_type": "markdown",
   "metadata": {
    "id": "U1e2mDen3WfO"
   },
   "source": [
    "# Relabel a row or column\n",
    "Use the `df.rename()` *return* method to replace old labels with new labels.  You provide a dictionary `{}` of old and new labels in pairs.\n",
    "\n",
    "```\n",
    "new_df = df.rename({old:new, ...} )\n",
    "new_df = df.rename({old:new, ...}, axis=1)\n",
    "```\n",
    "To specify whether the provided list is a list of row or column labels, use the keyword argument `axis`. The axis value can be\n",
    "* 0 meaning 'rows'\n",
    "* 1 meaning 'columns'\n",
    "\n",
    "It is 0 by default."
   ]
  },
  {
   "cell_type": "markdown",
   "metadata": {
    "id": "OnvPyISJ3jW0"
   },
   "source": [
    "## Example 1\n",
    "\n",
    "Using the `rename()` method twice in a chain.\n",
    "```\n",
    ".rename({\"row1\":\"ROW1\"})\n",
    ".rename({\"column1\":\"COLUMN1\"}, axis=1)\n",
    "```\n",
    "Execute the cell to see what happens."
   ]
  },
  {
   "cell_type": "code",
   "execution_count": 2,
   "metadata": {
    "colab": {
     "base_uri": "https://localhost:8080/",
     "height": 287
    },
    "executionInfo": {
     "elapsed": 185,
     "status": "ok",
     "timestamp": 1720121336933,
     "user": {
      "displayName": "Zhenhua He",
      "userId": "07570809959068816406"
     },
     "user_tz": 300
    },
    "id": "Ue3qiEAc3iz0",
    "outputId": "90992167-df2e-4780-cb5c-fad3ee4e67ee"
   },
   "outputs": [
    {
     "data": {
      "text/html": [
       "<div>\n",
       "<style scoped>\n",
       "    .dataframe tbody tr th:only-of-type {\n",
       "        vertical-align: middle;\n",
       "    }\n",
       "\n",
       "    .dataframe tbody tr th {\n",
       "        vertical-align: top;\n",
       "    }\n",
       "\n",
       "    .dataframe thead th {\n",
       "        text-align: right;\n",
       "    }\n",
       "</style>\n",
       "<table border=\"1\" class=\"dataframe\">\n",
       "  <thead>\n",
       "    <tr style=\"text-align: right;\">\n",
       "      <th></th>\n",
       "      <th>column1</th>\n",
       "      <th>column2</th>\n",
       "      <th>column3</th>\n",
       "      <th>column4</th>\n",
       "    </tr>\n",
       "  </thead>\n",
       "  <tbody>\n",
       "    <tr>\n",
       "      <th>row1</th>\n",
       "      <td>0</td>\n",
       "      <td>1</td>\n",
       "      <td>2</td>\n",
       "      <td>3</td>\n",
       "    </tr>\n",
       "    <tr>\n",
       "      <th>row2</th>\n",
       "      <td>4</td>\n",
       "      <td>5</td>\n",
       "      <td>6</td>\n",
       "      <td>7</td>\n",
       "    </tr>\n",
       "    <tr>\n",
       "      <th>row3</th>\n",
       "      <td>8</td>\n",
       "      <td>9</td>\n",
       "      <td>10</td>\n",
       "      <td>11</td>\n",
       "    </tr>\n",
       "  </tbody>\n",
       "</table>\n",
       "</div>"
      ],
      "text/plain": [
       "      column1  column2  column3  column4\n",
       "row1        0        1        2        3\n",
       "row2        4        5        6        7\n",
       "row3        8        9       10       11"
      ]
     },
     "metadata": {},
     "output_type": "display_data"
    },
    {
     "name": "stdout",
     "output_type": "stream",
     "text": [
      "\n"
     ]
    },
    {
     "data": {
      "text/html": [
       "<div>\n",
       "<style scoped>\n",
       "    .dataframe tbody tr th:only-of-type {\n",
       "        vertical-align: middle;\n",
       "    }\n",
       "\n",
       "    .dataframe tbody tr th {\n",
       "        vertical-align: top;\n",
       "    }\n",
       "\n",
       "    .dataframe thead th {\n",
       "        text-align: right;\n",
       "    }\n",
       "</style>\n",
       "<table border=\"1\" class=\"dataframe\">\n",
       "  <thead>\n",
       "    <tr style=\"text-align: right;\">\n",
       "      <th></th>\n",
       "      <th>COLUMN1</th>\n",
       "      <th>column2</th>\n",
       "      <th>column3</th>\n",
       "      <th>column4</th>\n",
       "    </tr>\n",
       "  </thead>\n",
       "  <tbody>\n",
       "    <tr>\n",
       "      <th>ROW1</th>\n",
       "      <td>0</td>\n",
       "      <td>1</td>\n",
       "      <td>2</td>\n",
       "      <td>3</td>\n",
       "    </tr>\n",
       "    <tr>\n",
       "      <th>row2</th>\n",
       "      <td>4</td>\n",
       "      <td>5</td>\n",
       "      <td>6</td>\n",
       "      <td>7</td>\n",
       "    </tr>\n",
       "    <tr>\n",
       "      <th>row3</th>\n",
       "      <td>8</td>\n",
       "      <td>9</td>\n",
       "      <td>10</td>\n",
       "      <td>11</td>\n",
       "    </tr>\n",
       "  </tbody>\n",
       "</table>\n",
       "</div>"
      ],
      "text/plain": [
       "      COLUMN1  column2  column3  column4\n",
       "ROW1        0        1        2        3\n",
       "row2        4        5        6        7\n",
       "row3        8        9       10       11"
      ]
     },
     "metadata": {},
     "output_type": "display_data"
    }
   ],
   "source": [
    "# a quick 3x4 array\n",
    "data_2d = numpy.arange(12).reshape(3, 4)\n",
    "\n",
    "df_from_array = pandas.DataFrame(data=data_2d,\n",
    "                                 index=[\"row1\", \"row2\", \"row3\"],\n",
    "                                 columns=[\"column1\", \"column2\", \"column3\", \"column4\"]\n",
    "                                 )\n",
    "\n",
    "# relabeling twice\n",
    "new_df = df_from_array.rename({\"row1\":\"ROW1\"}).rename({\"column1\":\"COLUMN1\"}, axis=1)\n",
    "\n",
    "# display both\n",
    "display(df_from_array)\n",
    "print()\n",
    "display(new_df)"
   ]
  },
  {
   "cell_type": "markdown",
   "metadata": {
    "id": "Fo9Uf_7G3jEd"
   },
   "source": [
    "## Exercise 1\n",
    "\n",
    "Relabel a different row and column of `df_from_array`. (Leave the original unchanged)."
   ]
  },
  {
   "cell_type": "code",
   "execution_count": 3,
   "metadata": {
    "executionInfo": {
     "elapsed": 4,
     "status": "ok",
     "timestamp": 1720121336934,
     "user": {
      "displayName": "Zhenhua He",
      "userId": "07570809959068816406"
     },
     "user_tz": 300
    },
    "id": "ytRYxnuR45Zy"
   },
   "outputs": [],
   "source": [
    "#your code here"
   ]
  },
  {
   "cell_type": "markdown",
   "metadata": {
    "id": "ULmhEHUS5NjT"
   },
   "source": [
    "# Dropping Entries\n",
    "\n",
    "We can drop either rows or columns in a DataFrame with the `drop( )` *return method*. The argument is one or more more labels; for example:\n",
    "*  a single label\n",
    "*  list of labels\n",
    "\n",
    "```\n",
    "new_df = df.drop( [label or index, ...] )\n",
    "```\n",
    "\n",
    "To specify whether the provided list is a slice of rows or columns, use the keyword argument `axis`. The axis value can be\n",
    "* 0 meaning 'rows'\n",
    "* 1 meaning 'columns'\n",
    "\n",
    "It is 0 by default.\n",
    "\n",
    "```\n",
    "new_df = df.drop( [label or index, ...], axis=0 )\n",
    "```"
   ]
  },
  {
   "cell_type": "markdown",
   "metadata": {
    "id": "XwklO-hl5sVT"
   },
   "source": [
    "## Example 2\n",
    "\n",
    "Execute the cells to see what happens."
   ]
  },
  {
   "cell_type": "code",
   "execution_count": 4,
   "metadata": {
    "executionInfo": {
     "elapsed": 142,
     "status": "ok",
     "timestamp": 1720121337073,
     "user": {
      "displayName": "Zhenhua He",
      "userId": "07570809959068816406"
     },
     "user_tz": 300
    },
    "id": "V9yhE9705-pE"
   },
   "outputs": [],
   "source": [
    "# a quick 3x4 array\n",
    "data_2d = numpy.arange(12).reshape(3, 4)\n",
    "\n",
    "df_from_array = pandas.DataFrame(data=data_2d,\n",
    "                                 index=[\"row1\", \"row2\", \"row3\"],\n",
    "                                 columns=[\"column1\", \"column2\", \"column3\", \"column4\"]\n",
    "                                 )"
   ]
  },
  {
   "cell_type": "markdown",
   "metadata": {
    "id": "7KK0h9Zy5xkT"
   },
   "source": [
    "Drop a row\n"
   ]
  },
  {
   "cell_type": "code",
   "execution_count": 5,
   "metadata": {
    "colab": {
     "base_uri": "https://localhost:8080/",
     "height": 125
    },
    "executionInfo": {
     "elapsed": 6,
     "status": "ok",
     "timestamp": 1720121337073,
     "user": {
      "displayName": "Zhenhua He",
      "userId": "07570809959068816406"
     },
     "user_tz": 300
    },
    "id": "Iypf2MwU5r7y",
    "outputId": "6592e32f-3a82-44ef-c054-1bf6557e712f"
   },
   "outputs": [
    {
     "data": {
      "text/html": [
       "<div>\n",
       "<style scoped>\n",
       "    .dataframe tbody tr th:only-of-type {\n",
       "        vertical-align: middle;\n",
       "    }\n",
       "\n",
       "    .dataframe tbody tr th {\n",
       "        vertical-align: top;\n",
       "    }\n",
       "\n",
       "    .dataframe thead th {\n",
       "        text-align: right;\n",
       "    }\n",
       "</style>\n",
       "<table border=\"1\" class=\"dataframe\">\n",
       "  <thead>\n",
       "    <tr style=\"text-align: right;\">\n",
       "      <th></th>\n",
       "      <th>column1</th>\n",
       "      <th>column2</th>\n",
       "      <th>column3</th>\n",
       "      <th>column4</th>\n",
       "    </tr>\n",
       "  </thead>\n",
       "  <tbody>\n",
       "    <tr>\n",
       "      <th>row2</th>\n",
       "      <td>4</td>\n",
       "      <td>5</td>\n",
       "      <td>6</td>\n",
       "      <td>7</td>\n",
       "    </tr>\n",
       "    <tr>\n",
       "      <th>row3</th>\n",
       "      <td>8</td>\n",
       "      <td>9</td>\n",
       "      <td>10</td>\n",
       "      <td>11</td>\n",
       "    </tr>\n",
       "  </tbody>\n",
       "</table>\n",
       "</div>"
      ],
      "text/plain": [
       "      column1  column2  column3  column4\n",
       "row2        4        5        6        7\n",
       "row3        8        9       10       11"
      ]
     },
     "metadata": {},
     "output_type": "display_data"
    }
   ],
   "source": [
    "new_df = df_from_array.drop('row1', axis=0)\n",
    "display(new_df)"
   ]
  },
  {
   "cell_type": "markdown",
   "metadata": {
    "id": "fk7XspJ953CT"
   },
   "source": [
    "Drop two columns"
   ]
  },
  {
   "cell_type": "code",
   "execution_count": 6,
   "metadata": {
    "colab": {
     "base_uri": "https://localhost:8080/",
     "height": 143
    },
    "executionInfo": {
     "elapsed": 4,
     "status": "ok",
     "timestamp": 1720121337073,
     "user": {
      "displayName": "Zhenhua He",
      "userId": "07570809959068816406"
     },
     "user_tz": 300
    },
    "id": "vlgmpLFL56DH",
    "outputId": "995ee23f-5523-4bf4-b427-74cbc217cc0a"
   },
   "outputs": [
    {
     "data": {
      "text/html": [
       "<div>\n",
       "<style scoped>\n",
       "    .dataframe tbody tr th:only-of-type {\n",
       "        vertical-align: middle;\n",
       "    }\n",
       "\n",
       "    .dataframe tbody tr th {\n",
       "        vertical-align: top;\n",
       "    }\n",
       "\n",
       "    .dataframe thead th {\n",
       "        text-align: right;\n",
       "    }\n",
       "</style>\n",
       "<table border=\"1\" class=\"dataframe\">\n",
       "  <thead>\n",
       "    <tr style=\"text-align: right;\">\n",
       "      <th></th>\n",
       "      <th>column3</th>\n",
       "      <th>column4</th>\n",
       "    </tr>\n",
       "  </thead>\n",
       "  <tbody>\n",
       "    <tr>\n",
       "      <th>row1</th>\n",
       "      <td>2</td>\n",
       "      <td>3</td>\n",
       "    </tr>\n",
       "    <tr>\n",
       "      <th>row2</th>\n",
       "      <td>6</td>\n",
       "      <td>7</td>\n",
       "    </tr>\n",
       "    <tr>\n",
       "      <th>row3</th>\n",
       "      <td>10</td>\n",
       "      <td>11</td>\n",
       "    </tr>\n",
       "  </tbody>\n",
       "</table>\n",
       "</div>"
      ],
      "text/plain": [
       "      column3  column4\n",
       "row1        2        3\n",
       "row2        6        7\n",
       "row3       10       11"
      ]
     },
     "metadata": {},
     "output_type": "display_data"
    }
   ],
   "source": [
    "new_df = df_from_array.drop(['column1','column2'], axis=1)\n",
    "display(new_df)"
   ]
  },
  {
   "cell_type": "markdown",
   "metadata": {
    "id": "oLR6ru-n6RjG"
   },
   "source": [
    "## Exercise 2\n",
    "\n",
    "Create a dataframe (or borrow from above).\n",
    "\n",
    "Select the last row by index (-1). Retrieve that row's label.\n",
    "* Hint: a row is a `Series` with a property `Series.name` that is equal to its row label.\n",
    "\n",
    "Drop that row.\n",
    "\n",
    "Display the result.\n",
    "\n",
    "Can you it all on one line?"
   ]
  },
  {
   "cell_type": "code",
   "execution_count": 7,
   "metadata": {
    "executionInfo": {
     "elapsed": 4,
     "status": "ok",
     "timestamp": 1720121337073,
     "user": {
      "displayName": "Zhenhua He",
      "userId": "07570809959068816406"
     },
     "user_tz": 300
    },
    "id": "HRcZYs4b7csA"
   },
   "outputs": [],
   "source": [
    "#your code here"
   ]
  },
  {
   "cell_type": "markdown",
   "metadata": {
    "colab": {
     "base_uri": "https://localhost:8080/",
     "height": 112
    },
    "executionInfo": {
     "elapsed": 4,
     "status": "ok",
     "timestamp": 1720121337232,
     "user": {
      "displayName": "Zhenhua He",
      "userId": "07570809959068816406"
     },
     "user_tz": 300
    },
    "id": "OWM281io8CsS",
    "outputId": "2c517a72-bfe2-497b-b3b7-a1765c6123c7"
   },
   "source": [
    "<details><summary><p style=\"padding: 10px; border: 2px solid;\"><big>Click here to see solution</big></p></summary>\n",
    "<p>\n",
    "\n",
    "    \n",
    "```\n",
    "display(df_from_array.drop(df_from_array.iloc[-1].name))\n",
    "```\n",
    "</p>\n",
    "</details>"
   ]
  },
  {
   "cell_type": "markdown",
   "metadata": {
    "id": "rr9hd_a5XtXu"
   },
   "source": [
    "# Sorting\n",
    "\n",
    "The DataFrame *return methods* `sort_index()` and `sort_values()` return a new dataframe that is in a different order.\n"
   ]
  },
  {
   "cell_type": "markdown",
   "metadata": {
    "id": "3Emz2LJjMyEB"
   },
   "source": [
    "## Sorting Labels\n",
    "`sort_index()` can sort the *index*; it can also sort the *columns*.  \n",
    "* (an integer index is always already sorted by definition).\n",
    "\n",
    "```\n",
    "new_df = df.sort_index()\n",
    "```\n",
    "To specify whether the sort the custom index or the columns, use the keyword argument `axis`. The axis value can be\n",
    "* 0 meaning 'custom index'\n",
    "* 1 meaning 'columns'\n",
    "It is 0 by default.\n",
    "\n",
    "```\n",
    "new_df = df.sort_index(axis=1)\n",
    "```\n",
    "\n",
    "To specify whether the sort the custom index or the columns forwards or backwards, use the keyword argument `ascending`. The ascending value can be\n",
    "* `True` meaning sort ascending\n",
    "* `False` meaning sort descending\n",
    "\n",
    "```\n",
    "new_df = df.sort_index(ascending=False)\n",
    "```"
   ]
  },
  {
   "cell_type": "markdown",
   "metadata": {
    "id": "ovgQMSvYNE--"
   },
   "source": [
    "## Example 3\n",
    "\n",
    "Read and execute the cells to see what happens.\n",
    "\n",
    "Hint: The columns will be in a different order."
   ]
  },
  {
   "cell_type": "code",
   "execution_count": 8,
   "metadata": {
    "colab": {
     "base_uri": "https://localhost:8080/",
     "height": 206
    },
    "executionInfo": {
     "elapsed": 327,
     "status": "ok",
     "timestamp": 1720121337556,
     "user": {
      "displayName": "Zhenhua He",
      "userId": "07570809959068816406"
     },
     "user_tz": 300
    },
    "id": "xFNaPsbui4vq",
    "outputId": "530c6c19-dcbf-41c6-8f8f-96c6f0c40493"
   },
   "outputs": [
    {
     "data": {
      "text/html": [
       "<div>\n",
       "<style scoped>\n",
       "    .dataframe tbody tr th:only-of-type {\n",
       "        vertical-align: middle;\n",
       "    }\n",
       "\n",
       "    .dataframe tbody tr th {\n",
       "        vertical-align: top;\n",
       "    }\n",
       "\n",
       "    .dataframe thead th {\n",
       "        text-align: right;\n",
       "    }\n",
       "</style>\n",
       "<table border=\"1\" class=\"dataframe\">\n",
       "  <thead>\n",
       "    <tr style=\"text-align: right;\">\n",
       "      <th></th>\n",
       "      <th>Date</th>\n",
       "      <th>Latitude</th>\n",
       "      <th>Longitude</th>\n",
       "      <th>Magnitude</th>\n",
       "      <th>Depth (km)</th>\n",
       "      <th>Region</th>\n",
       "    </tr>\n",
       "  </thead>\n",
       "  <tbody>\n",
       "    <tr>\n",
       "      <th>r1</th>\n",
       "      <td>2023-05-01</td>\n",
       "      <td>34.05</td>\n",
       "      <td>-118.25</td>\n",
       "      <td>4.5</td>\n",
       "      <td>10.0</td>\n",
       "      <td>City1</td>\n",
       "    </tr>\n",
       "    <tr>\n",
       "      <th>r2</th>\n",
       "      <td>2023-05-02</td>\n",
       "      <td>37.77</td>\n",
       "      <td>-122.42</td>\n",
       "      <td>3.8</td>\n",
       "      <td>12.5</td>\n",
       "      <td>City2</td>\n",
       "    </tr>\n",
       "    <tr>\n",
       "      <th>r3</th>\n",
       "      <td>2023-05-03</td>\n",
       "      <td>40.71</td>\n",
       "      <td>-74.01</td>\n",
       "      <td>5.2</td>\n",
       "      <td>8.0</td>\n",
       "      <td>City3</td>\n",
       "    </tr>\n",
       "    <tr>\n",
       "      <th>r4</th>\n",
       "      <td>2023-05-04</td>\n",
       "      <td>34.05</td>\n",
       "      <td>-118.25</td>\n",
       "      <td>4.0</td>\n",
       "      <td>15.0</td>\n",
       "      <td>City4</td>\n",
       "    </tr>\n",
       "    <tr>\n",
       "      <th>r5</th>\n",
       "      <td>2023-05-05</td>\n",
       "      <td>35.68</td>\n",
       "      <td>139.69</td>\n",
       "      <td>6.1</td>\n",
       "      <td>20.0</td>\n",
       "      <td>City5</td>\n",
       "    </tr>\n",
       "  </tbody>\n",
       "</table>\n",
       "</div>"
      ],
      "text/plain": [
       "          Date  Latitude  Longitude  Magnitude  Depth (km) Region\n",
       "r1  2023-05-01     34.05    -118.25        4.5        10.0  City1\n",
       "r2  2023-05-02     37.77    -122.42        3.8        12.5  City2\n",
       "r3  2023-05-03     40.71     -74.01        5.2         8.0  City3\n",
       "r4  2023-05-04     34.05    -118.25        4.0        15.0  City4\n",
       "r5  2023-05-05     35.68     139.69        6.1        20.0  City5"
      ]
     },
     "metadata": {},
     "output_type": "display_data"
    }
   ],
   "source": [
    "temp_dictionary = {\n",
    "    \"Date\": [\"2023-05-01\", \"2023-05-02\", \"2023-05-03\", \"2023-05-04\", \"2023-05-05\"],\n",
    "    \"Latitude\": [34.05, 37.77, 40.71, 34.05, 35.68],\n",
    "    \"Longitude\": [-118.25, -122.42, -74.01, -118.25, 139.69],\n",
    "    \"Magnitude\": [4.5, 3.8, 5.2, 4.0, 6.1],\n",
    "    \"Depth (km)\": [10.0, 12.5, 8.0, 15.0, 20.0],\n",
    "    \"Region\": [\"City1\", \"City2\", \"City3\", \"City4\", \"City5\"]\n",
    "}\n",
    "df_from_lists = pandas.DataFrame(\n",
    "    temp_dictionary,\n",
    "    index = ['r1', 'r2', 'r3', 'r4', 'r5']\n",
    ")\n",
    "display(df_from_lists)"
   ]
  },
  {
   "cell_type": "code",
   "execution_count": 9,
   "metadata": {
    "colab": {
     "base_uri": "https://localhost:8080/",
     "height": 206
    },
    "executionInfo": {
     "elapsed": 9,
     "status": "ok",
     "timestamp": 1720121337556,
     "user": {
      "displayName": "Zhenhua He",
      "userId": "07570809959068816406"
     },
     "user_tz": 300
    },
    "id": "R2RxNtkTLPOd",
    "outputId": "f040168c-ab8a-478b-9d93-d50771bedd09"
   },
   "outputs": [
    {
     "data": {
      "text/html": [
       "<div>\n",
       "<style scoped>\n",
       "    .dataframe tbody tr th:only-of-type {\n",
       "        vertical-align: middle;\n",
       "    }\n",
       "\n",
       "    .dataframe tbody tr th {\n",
       "        vertical-align: top;\n",
       "    }\n",
       "\n",
       "    .dataframe thead th {\n",
       "        text-align: right;\n",
       "    }\n",
       "</style>\n",
       "<table border=\"1\" class=\"dataframe\">\n",
       "  <thead>\n",
       "    <tr style=\"text-align: right;\">\n",
       "      <th></th>\n",
       "      <th>Date</th>\n",
       "      <th>Depth (km)</th>\n",
       "      <th>Latitude</th>\n",
       "      <th>Longitude</th>\n",
       "      <th>Magnitude</th>\n",
       "      <th>Region</th>\n",
       "    </tr>\n",
       "  </thead>\n",
       "  <tbody>\n",
       "    <tr>\n",
       "      <th>r1</th>\n",
       "      <td>2023-05-01</td>\n",
       "      <td>10.0</td>\n",
       "      <td>34.05</td>\n",
       "      <td>-118.25</td>\n",
       "      <td>4.5</td>\n",
       "      <td>City1</td>\n",
       "    </tr>\n",
       "    <tr>\n",
       "      <th>r2</th>\n",
       "      <td>2023-05-02</td>\n",
       "      <td>12.5</td>\n",
       "      <td>37.77</td>\n",
       "      <td>-122.42</td>\n",
       "      <td>3.8</td>\n",
       "      <td>City2</td>\n",
       "    </tr>\n",
       "    <tr>\n",
       "      <th>r3</th>\n",
       "      <td>2023-05-03</td>\n",
       "      <td>8.0</td>\n",
       "      <td>40.71</td>\n",
       "      <td>-74.01</td>\n",
       "      <td>5.2</td>\n",
       "      <td>City3</td>\n",
       "    </tr>\n",
       "    <tr>\n",
       "      <th>r4</th>\n",
       "      <td>2023-05-04</td>\n",
       "      <td>15.0</td>\n",
       "      <td>34.05</td>\n",
       "      <td>-118.25</td>\n",
       "      <td>4.0</td>\n",
       "      <td>City4</td>\n",
       "    </tr>\n",
       "    <tr>\n",
       "      <th>r5</th>\n",
       "      <td>2023-05-05</td>\n",
       "      <td>20.0</td>\n",
       "      <td>35.68</td>\n",
       "      <td>139.69</td>\n",
       "      <td>6.1</td>\n",
       "      <td>City5</td>\n",
       "    </tr>\n",
       "  </tbody>\n",
       "</table>\n",
       "</div>"
      ],
      "text/plain": [
       "          Date  Depth (km)  Latitude  Longitude  Magnitude Region\n",
       "r1  2023-05-01        10.0     34.05    -118.25        4.5  City1\n",
       "r2  2023-05-02        12.5     37.77    -122.42        3.8  City2\n",
       "r3  2023-05-03         8.0     40.71     -74.01        5.2  City3\n",
       "r4  2023-05-04        15.0     34.05    -118.25        4.0  City4\n",
       "r5  2023-05-05        20.0     35.68     139.69        6.1  City5"
      ]
     },
     "metadata": {},
     "output_type": "display_data"
    }
   ],
   "source": [
    "display(df_from_lists.sort_index(axis=1) )"
   ]
  },
  {
   "cell_type": "markdown",
   "metadata": {
    "id": "4O0S2-7QOAwd"
   },
   "source": [
    "## Exercise 3\n",
    "Sort the DataFrame `df_from_lists` from Example 3 by its row labels in **descending** order.\n",
    "\n",
    "Display the result."
   ]
  },
  {
   "cell_type": "code",
   "execution_count": 10,
   "metadata": {
    "executionInfo": {
     "elapsed": 9,
     "status": "ok",
     "timestamp": 1720121337558,
     "user": {
      "displayName": "Zhenhua He",
      "userId": "07570809959068816406"
     },
     "user_tz": 300
    },
    "id": "pHpOAIqsOHnj"
   },
   "outputs": [],
   "source": [
    "#your code here"
   ]
  },
  {
   "cell_type": "markdown",
   "metadata": {
    "colab": {
     "base_uri": "https://localhost:8080/",
     "height": 206
    },
    "executionInfo": {
     "elapsed": 9,
     "status": "ok",
     "timestamp": 1720121337558,
     "user": {
      "displayName": "Zhenhua He",
      "userId": "07570809959068816406"
     },
     "user_tz": 300
    },
    "id": "fEO9Lmp9OI0e",
    "outputId": "56b117ac-5b40-4203-9f76-fe1601bfffe1"
   },
   "source": [
    "<details><summary><p style=\"padding: 10px; border: 2px solid;\"><big>Click here to see solution</big></p></summary>\n",
    "<p>\n",
    "\n",
    "    \n",
    "```\n",
    "display(df_from_lists.sort_index(ascending=False))\n",
    "\n",
    "```\n",
    "</p>\n",
    "</details>"
   ]
  },
  {
   "cell_type": "markdown",
   "metadata": {
    "id": "IAsvzWoOObm2"
   },
   "source": [
    "## Sorting Values\n",
    "`sort_values()` can sort the rows or the columns based on what is in them.\n",
    "\n",
    "```\n",
    "new_df = df.sort_values()\n",
    "```\n",
    "Specify the row or column that is to be used for the sorting using the keyword argument `by`.  Provide a row or column label.\n",
    "\n",
    "```\n",
    "new_df = df.sort_values( by=label or index)\n",
    "```\n",
    "\n",
    "To specify whether the provided label is a row or column, use the keyword argument `axis`. The axis value can be\n",
    "* 0 meaning sort the 'rows' by a provided 'column'\n",
    "* 1 meaning sort the 'columns' by a provided  'row'\n",
    "\n",
    "It is 0 by default.\n",
    "\n",
    "```\n",
    "new_df = df.sort_values(axis=1)\n",
    "```\n",
    "\n",
    "To specify whether the sort the values forwards or backwards, use the keyword argument `ascending`. The ascending value can be\n",
    "* `True` meaning sort ascending\n",
    "* `False` meaning sort descending\n",
    "\n",
    "```\n",
    "new_df = df.sort_index(ascending=False)\n",
    "```\n",
    "##Sorting with Sub-sorting\n",
    "If you wish to sort with multiple rows or columns as the tie-breaker of the previous sort (i.e. sub-sort) then you can instead provide a list of row or column labels to be sorted, in order.\n",
    "\n",
    "```\n",
    "new_df = df.sort_values( by=[label or index, ... ])\n",
    "```\n",
    "\n",
    "If you are sorting multiple rows or columns and you want some of the sorts to be ascending but not others, you can provide a boolean list.\n",
    "```\n",
    "new_df = df.sort_index(ascending=[False,...] )\n",
    "```\n"
   ]
  },
  {
   "cell_type": "markdown",
   "metadata": {
    "id": "xkxlnPUfR6AY"
   },
   "source": [
    "## Example 4\n",
    "\n",
    "Read and execute the cells to see what happens.\n",
    "\n",
    "Hint: The rows will be in a different order."
   ]
  },
  {
   "cell_type": "code",
   "execution_count": 11,
   "metadata": {
    "colab": {
     "base_uri": "https://localhost:8080/",
     "height": 206
    },
    "executionInfo": {
     "elapsed": 5,
     "status": "ok",
     "timestamp": 1720121337692,
     "user": {
      "displayName": "Zhenhua He",
      "userId": "07570809959068816406"
     },
     "user_tz": 300
    },
    "id": "rxi3Kuh59mnm",
    "outputId": "f13b4fd9-1363-4442-b3f7-b072ecc92fba"
   },
   "outputs": [
    {
     "data": {
      "text/html": [
       "<div>\n",
       "<style scoped>\n",
       "    .dataframe tbody tr th:only-of-type {\n",
       "        vertical-align: middle;\n",
       "    }\n",
       "\n",
       "    .dataframe tbody tr th {\n",
       "        vertical-align: top;\n",
       "    }\n",
       "\n",
       "    .dataframe thead th {\n",
       "        text-align: right;\n",
       "    }\n",
       "</style>\n",
       "<table border=\"1\" class=\"dataframe\">\n",
       "  <thead>\n",
       "    <tr style=\"text-align: right;\">\n",
       "      <th></th>\n",
       "      <th>Date</th>\n",
       "      <th>Latitude</th>\n",
       "      <th>Longitude</th>\n",
       "      <th>Magnitude</th>\n",
       "      <th>Depth (km)</th>\n",
       "      <th>Region</th>\n",
       "    </tr>\n",
       "  </thead>\n",
       "  <tbody>\n",
       "    <tr>\n",
       "      <th>r1</th>\n",
       "      <td>2023-05-01</td>\n",
       "      <td>34.05</td>\n",
       "      <td>-118.25</td>\n",
       "      <td>4.5</td>\n",
       "      <td>10.0</td>\n",
       "      <td>City1</td>\n",
       "    </tr>\n",
       "    <tr>\n",
       "      <th>r2</th>\n",
       "      <td>2023-05-02</td>\n",
       "      <td>37.77</td>\n",
       "      <td>-122.42</td>\n",
       "      <td>3.8</td>\n",
       "      <td>12.5</td>\n",
       "      <td>City2</td>\n",
       "    </tr>\n",
       "    <tr>\n",
       "      <th>r3</th>\n",
       "      <td>2023-05-03</td>\n",
       "      <td>40.71</td>\n",
       "      <td>-74.01</td>\n",
       "      <td>5.2</td>\n",
       "      <td>8.0</td>\n",
       "      <td>City3</td>\n",
       "    </tr>\n",
       "    <tr>\n",
       "      <th>r4</th>\n",
       "      <td>2023-05-04</td>\n",
       "      <td>34.05</td>\n",
       "      <td>-118.25</td>\n",
       "      <td>4.0</td>\n",
       "      <td>15.0</td>\n",
       "      <td>City4</td>\n",
       "    </tr>\n",
       "    <tr>\n",
       "      <th>r5</th>\n",
       "      <td>2023-05-05</td>\n",
       "      <td>35.68</td>\n",
       "      <td>139.69</td>\n",
       "      <td>6.1</td>\n",
       "      <td>20.0</td>\n",
       "      <td>City5</td>\n",
       "    </tr>\n",
       "  </tbody>\n",
       "</table>\n",
       "</div>"
      ],
      "text/plain": [
       "          Date  Latitude  Longitude  Magnitude  Depth (km) Region\n",
       "r1  2023-05-01     34.05    -118.25        4.5        10.0  City1\n",
       "r2  2023-05-02     37.77    -122.42        3.8        12.5  City2\n",
       "r3  2023-05-03     40.71     -74.01        5.2         8.0  City3\n",
       "r4  2023-05-04     34.05    -118.25        4.0        15.0  City4\n",
       "r5  2023-05-05     35.68     139.69        6.1        20.0  City5"
      ]
     },
     "metadata": {},
     "output_type": "display_data"
    }
   ],
   "source": [
    "temp_dictionary = {\n",
    "    \"Date\": [\"2023-05-01\", \"2023-05-02\", \"2023-05-03\", \"2023-05-04\", \"2023-05-05\"],\n",
    "    \"Latitude\": [34.05, 37.77, 40.71, 34.05, 35.68],\n",
    "    \"Longitude\": [-118.25, -122.42, -74.01, -118.25, 139.69],\n",
    "    \"Magnitude\": [4.5, 3.8, 5.2, 4.0, 6.1],\n",
    "    \"Depth (km)\": [10.0, 12.5, 8.0, 15.0, 20.0],\n",
    "    \"Region\": [\"City1\", \"City2\", \"City3\", \"City4\", \"City5\"]\n",
    "}\n",
    "df_from_lists = pandas.DataFrame(\n",
    "    temp_dictionary,\n",
    "    index = ['r1', 'r2', 'r3', 'r4', 'r5']\n",
    ")\n",
    "display(df_from_lists)"
   ]
  },
  {
   "cell_type": "code",
   "execution_count": 12,
   "metadata": {
    "colab": {
     "base_uri": "https://localhost:8080/",
     "height": 206
    },
    "executionInfo": {
     "elapsed": 227,
     "status": "ok",
     "timestamp": 1720121337916,
     "user": {
      "displayName": "Zhenhua He",
      "userId": "07570809959068816406"
     },
     "user_tz": 300
    },
    "id": "l0AeChJwSFXJ",
    "outputId": "fc7a1221-9f68-4379-b401-b5aad9511f43"
   },
   "outputs": [
    {
     "data": {
      "text/html": [
       "<div>\n",
       "<style scoped>\n",
       "    .dataframe tbody tr th:only-of-type {\n",
       "        vertical-align: middle;\n",
       "    }\n",
       "\n",
       "    .dataframe tbody tr th {\n",
       "        vertical-align: top;\n",
       "    }\n",
       "\n",
       "    .dataframe thead th {\n",
       "        text-align: right;\n",
       "    }\n",
       "</style>\n",
       "<table border=\"1\" class=\"dataframe\">\n",
       "  <thead>\n",
       "    <tr style=\"text-align: right;\">\n",
       "      <th></th>\n",
       "      <th>Date</th>\n",
       "      <th>Latitude</th>\n",
       "      <th>Longitude</th>\n",
       "      <th>Magnitude</th>\n",
       "      <th>Depth (km)</th>\n",
       "      <th>Region</th>\n",
       "    </tr>\n",
       "  </thead>\n",
       "  <tbody>\n",
       "    <tr>\n",
       "      <th>r2</th>\n",
       "      <td>2023-05-02</td>\n",
       "      <td>37.77</td>\n",
       "      <td>-122.42</td>\n",
       "      <td>3.8</td>\n",
       "      <td>12.5</td>\n",
       "      <td>City2</td>\n",
       "    </tr>\n",
       "    <tr>\n",
       "      <th>r4</th>\n",
       "      <td>2023-05-04</td>\n",
       "      <td>34.05</td>\n",
       "      <td>-118.25</td>\n",
       "      <td>4.0</td>\n",
       "      <td>15.0</td>\n",
       "      <td>City4</td>\n",
       "    </tr>\n",
       "    <tr>\n",
       "      <th>r1</th>\n",
       "      <td>2023-05-01</td>\n",
       "      <td>34.05</td>\n",
       "      <td>-118.25</td>\n",
       "      <td>4.5</td>\n",
       "      <td>10.0</td>\n",
       "      <td>City1</td>\n",
       "    </tr>\n",
       "    <tr>\n",
       "      <th>r3</th>\n",
       "      <td>2023-05-03</td>\n",
       "      <td>40.71</td>\n",
       "      <td>-74.01</td>\n",
       "      <td>5.2</td>\n",
       "      <td>8.0</td>\n",
       "      <td>City3</td>\n",
       "    </tr>\n",
       "    <tr>\n",
       "      <th>r5</th>\n",
       "      <td>2023-05-05</td>\n",
       "      <td>35.68</td>\n",
       "      <td>139.69</td>\n",
       "      <td>6.1</td>\n",
       "      <td>20.0</td>\n",
       "      <td>City5</td>\n",
       "    </tr>\n",
       "  </tbody>\n",
       "</table>\n",
       "</div>"
      ],
      "text/plain": [
       "          Date  Latitude  Longitude  Magnitude  Depth (km) Region\n",
       "r2  2023-05-02     37.77    -122.42        3.8        12.5  City2\n",
       "r4  2023-05-04     34.05    -118.25        4.0        15.0  City4\n",
       "r1  2023-05-01     34.05    -118.25        4.5        10.0  City1\n",
       "r3  2023-05-03     40.71     -74.01        5.2         8.0  City3\n",
       "r5  2023-05-05     35.68     139.69        6.1        20.0  City5"
      ]
     },
     "metadata": {},
     "output_type": "display_data"
    }
   ],
   "source": [
    "display(df_from_lists.sort_values(by='Magnitude'))"
   ]
  },
  {
   "cell_type": "markdown",
   "metadata": {
    "id": "DUqpLloNSP6d"
   },
   "source": [
    "## Exercise 4\n",
    "Sort the DataFrame `df_from_lists` from Example 4 with two sort criteria.\n",
    "* Column `'Magnitude'` as the primary sort (*descending*)\n",
    "* Column `'Depth (km)'` as the tie-breaker (*ascending*).\n",
    "\n",
    "Display the result."
   ]
  },
  {
   "cell_type": "code",
   "execution_count": 13,
   "metadata": {
    "executionInfo": {
     "elapsed": 194,
     "status": "ok",
     "timestamp": 1720121338108,
     "user": {
      "displayName": "Zhenhua He",
      "userId": "07570809959068816406"
     },
     "user_tz": 300
    },
    "id": "fQ0_iNVpSPUY"
   },
   "outputs": [],
   "source": [
    "#your code here"
   ]
  },
  {
   "cell_type": "markdown",
   "metadata": {
    "colab": {
     "base_uri": "https://localhost:8080/",
     "height": 206
    },
    "executionInfo": {
     "elapsed": 11,
     "status": "ok",
     "timestamp": 1720121338108,
     "user": {
      "displayName": "Zhenhua He",
      "userId": "07570809959068816406"
     },
     "user_tz": 300
    },
    "id": "oyXWlitGSekI",
    "outputId": "e0275e39-fa61-4c73-ea5b-89ca313d64dd"
   },
   "source": [
    "<details><summary><p style=\"padding: 10px; border: 2px solid;\"><big>Click here to see solution</big></p></summary>\n",
    "<p>\n",
    "\n",
    "    \n",
    "```\n",
    "display(df_from_lists.sort_values(by=['Magnitude','Depth (km)'], ascending=[False, True]))\n",
    "\n",
    "```\n",
    "</p>\n",
    "</details>"
   ]
  },
  {
   "cell_type": "markdown",
   "metadata": {
    "id": "iFQmucdQMxYm"
   },
   "source": [
    "# Reducing Methods\n",
    "\n",
    "A *reducing method* takes an array of values and returns a single number. Examples:\n",
    "\n",
    "Arithmetic:\n",
    "* `sum()`\n",
    "* `prod()`\n",
    "\n",
    "Statistics:\n",
    "* `min()`\n",
    "* `max()`\n",
    "* `mean()`\n",
    "* `median()`\n",
    "* `var()`\n",
    "* `std()`\n",
    "\n",
    "Logic:\n",
    "* `any()`\n",
    "* `all()`\n",
    "\n",
    "## Reduce One Column\n",
    "`Series` objects provide these reducing methods. They just return a single value. They usually don't have an argument. If you only want to operate on a single column, this is the way to go.\n",
    "\n",
    "```\n",
    "value = df[column].function()\n",
    "```\n",
    "\n",
    "## Reduce All Columns\n",
    "`DataFrame` objects also provide these reducing methods. They operate on *each row* or *each column*. The return is a `Series` where the labels are column labels.\n",
    "\n",
    "Specify whether to compute row-by-row or column-by-column using the `axis` agument.\n",
    "\n",
    "Example:\n",
    "* `df.function(axis=0)` row-by-row\n",
    "* `df.function(axis=1)` column-by-column (default)\n",
    "\n",
    "Tip: if some columns contain non-numeric values, use `numeric_only=True` to silence the warning."
   ]
  },
  {
   "cell_type": "markdown",
   "metadata": {
    "id": "cwvtiV2COGGh"
   },
   "source": [
    "## Example 5\n",
    "\n",
    "Using reducing function `mean()`.\n",
    "\n",
    "Execute the cells to see what happens."
   ]
  },
  {
   "cell_type": "code",
   "execution_count": 14,
   "metadata": {
    "executionInfo": {
     "elapsed": 10,
     "status": "ok",
     "timestamp": 1720121338108,
     "user": {
      "displayName": "Zhenhua He",
      "userId": "07570809959068816406"
     },
     "user_tz": 300
    },
    "id": "3v-RLd3yONvw"
   },
   "outputs": [],
   "source": [
    "temp_dictionary = {\n",
    "    'state' : ['VA', 'VA', 'VA', 'MD', 'MD'],\n",
    "    'year' : [2012, 2013, 2014, 2014, 2015],\n",
    "    'pop' : [5.0, 5.1, 5.2, 4.0, 4.1],\n",
    "    'unempl' : [5.8, 5.8, 5.8, 4.9, 4.9]\n",
    "}\n",
    "df_from_lists = pandas.DataFrame(\n",
    "    temp_dictionary,\n",
    "    columns=['year', 'state', 'pop', 'unempl'],\n",
    "    index = ['r1', 'r2', 'r3', 'r4', 'r5']\n",
    ")"
   ]
  },
  {
   "cell_type": "code",
   "execution_count": 15,
   "metadata": {
    "colab": {
     "base_uri": "https://localhost:8080/"
    },
    "executionInfo": {
     "elapsed": 10,
     "status": "ok",
     "timestamp": 1720121338108,
     "user": {
      "displayName": "Zhenhua He",
      "userId": "07570809959068816406"
     },
     "user_tz": 300
    },
    "id": "QzlOMp6ZON8n",
    "outputId": "ab472aa0-da7a-48f2-f167-15920177e056"
   },
   "outputs": [
    {
     "name": "stdout",
     "output_type": "stream",
     "text": [
      "4.68\n"
     ]
    }
   ],
   "source": [
    "print(df_from_lists['pop'].mean() )"
   ]
  },
  {
   "cell_type": "code",
   "execution_count": 16,
   "metadata": {
    "colab": {
     "base_uri": "https://localhost:8080/"
    },
    "executionInfo": {
     "elapsed": 8,
     "status": "ok",
     "timestamp": 1720121338108,
     "user": {
      "displayName": "Zhenhua He",
      "userId": "07570809959068816406"
     },
     "user_tz": 300
    },
    "id": "9O8JvuGKOagK",
    "outputId": "c4809426-e5e5-4285-e38c-0b883ccc1dae"
   },
   "outputs": [
    {
     "name": "stdout",
     "output_type": "stream",
     "text": [
      "year      2013.60\n",
      "pop          4.68\n",
      "unempl       5.44\n",
      "dtype: float64\n"
     ]
    }
   ],
   "source": [
    "print(df_from_lists.mean(numeric_only=True) )"
   ]
  },
  {
   "cell_type": "markdown",
   "metadata": {
    "id": "ZVu3HdlKT_2P"
   },
   "source": [
    "## Exercise 5\n",
    "\n",
    "Create a DataFrame with two columns of random numeric values.\n",
    "* (50 or more values for good results)\n",
    "\n",
    "Compute the mean and standard deviation of both columns.\n",
    "*  `df.mean()`\n",
    "*  `df.std()`.\n",
    "\n",
    "Filter the DataFrame by whether the second column is greater than the first.\n",
    "\n",
    "Compute the mean and standard deviation of both columns *again* (after filtering)."
   ]
  },
  {
   "cell_type": "code",
   "execution_count": 17,
   "metadata": {
    "executionInfo": {
     "elapsed": 7,
     "status": "ok",
     "timestamp": 1720121338109,
     "user": {
      "displayName": "Zhenhua He",
      "userId": "07570809959068816406"
     },
     "user_tz": 300
    },
    "id": "ex9c6noKZkQ0"
   },
   "outputs": [],
   "source": [
    "#your code here"
   ]
  },
  {
   "cell_type": "markdown",
   "metadata": {
    "cellView": "form",
    "colab": {
     "base_uri": "https://localhost:8080/"
    },
    "executionInfo": {
     "elapsed": 7,
     "status": "ok",
     "timestamp": 1720121338109,
     "user": {
      "displayName": "Zhenhua He",
      "userId": "07570809959068816406"
     },
     "user_tz": 300
    },
    "id": "2cHO5H2cZkS0",
    "outputId": "03d8f357-f1a9-42fe-abd5-f6799fff15ca"
   },
   "source": [
    "<details><summary><p style=\"padding: 10px; border: 2px solid;\"><big>Click here to see solution</big></p></summary>\n",
    "<p>\n",
    "\n",
    "    \n",
    "```\n",
    "random_array = numpy.random.rand(50,2)\n",
    "random_df = pandas.DataFrame(random_array)\n",
    "print(\"     overall\")\n",
    "print()\n",
    "print(\"mean\")\n",
    "print(random_df.mean() )\n",
    "print()\n",
    "print(\"std\")\n",
    "print(random_df.std() )\n",
    "print()\n",
    "print(\"     column1 > column0\")\n",
    "print()\n",
    "mask=random_df[1]>random_df[0]\n",
    "print(\"mean\")\n",
    "print(random_df[mask].mean())\n",
    "print()\n",
    "print(\"std\")\n",
    "print(random_df[mask].std())\n",
    "```\n",
    "</p>\n",
    "</details>"
   ]
  },
  {
   "cell_type": "markdown",
   "metadata": {
    "id": "T28T_pINbIxa"
   },
   "source": [
    "Overall:\n",
    "* The `mean` is about 0.5 for both columns.\n",
    "* The `std` is about 0.3 for both columns.\n",
    "\n",
    "After filtering:\n",
    "* The `mean` of the first column *decreases* to about 0.33\n",
    "* The `mean` of the second column *increases* to about 0.66\n",
    "* The `std` *decreases* to about 0.24 for both columns."
   ]
  },
  {
   "cell_type": "markdown",
   "metadata": {
    "id": "f1MiR3trKk5l"
   },
   "source": [
    "# Data Grouping\n",
    "\n",
    "Suppose a DataFrame contains a column whose entries are categories.\n",
    "\n",
    "||Category| other data|\n",
    "|--|--|--|\n",
    "|row1|  type A | 1.000|\n",
    "|row2| type B | 2.000|\n",
    "|row3 | type A | 3.000|\n",
    "|row4 | type B| 4.000|\n",
    "\n",
    "We may wish to perform operations separately on each category.\n",
    "\n",
    "1.   Split by category\n",
    "2.   Operate separately\n",
    "3.   Recombine\n",
    "\n"
   ]
  },
  {
   "cell_type": "markdown",
   "metadata": {
    "id": "USOkybYKgfi5"
   },
   "source": [
    "## Grouped DataFrames\n",
    "\n",
    "The DataFrame method `groupby()` can help with this procedure.\n",
    "\n",
    "* The argument is a column label (or list thereof)\n",
    "* The return is a DataFrameGroupBy object\n",
    "\n",
    "```\n",
    "grouped_df = df.groupby(column)\n",
    "```\n",
    "\n",
    "`DataFrameGroupBy` object is like a container for multiple sub-DataFrames.\n",
    "\n",
    "| group label | sub-DataFrame |\n",
    "| --|--|\n",
    "| group 1 | DataFrame 1|\n",
    "| group 2 | DataFrame 2|\n",
    "\n",
    "* The group labels are the unique values found in the `groupby` argument column.\n",
    "* The sub-DataFrames are filtered by the corresponding value.\n",
    "\n",
    "`DataFrameGroupBy` object stores this information in a property `.groups`, which is a *dictionary*.\n",
    "\n",
    "* `grouped_df.groups`\n",
    "\n",
    "You can retrieve a sub-DataFrame using the `get_group()` *method*.\n",
    "```\n",
    "sub_df = grouped_df.get_group( group_label )\n",
    "```\n",
    "\n",
    "You can iterate through all the sub-DataFrames as though the `DataFrameGroupBy` object was a *dictionary*.\n",
    "\n",
    "```\n",
    "for group_label, sub_df in grouped_df:\n",
    "```"
   ]
  },
  {
   "cell_type": "markdown",
   "metadata": {
    "id": "Xgvc8GMOdsKr"
   },
   "source": [
    "## Example 6\n",
    "\n",
    "Using `groupby` with the example DataFrame.\n",
    "\n",
    "Execute the cells to see what happens."
   ]
  },
  {
   "cell_type": "code",
   "execution_count": 18,
   "metadata": {
    "colab": {
     "base_uri": "https://localhost:8080/",
     "height": 206
    },
    "executionInfo": {
     "elapsed": 179,
     "status": "ok",
     "timestamp": 1720121338282,
     "user": {
      "displayName": "Zhenhua He",
      "userId": "07570809959068816406"
     },
     "user_tz": 300
    },
    "id": "Kbcav4JSd50p",
    "outputId": "7be4cdb3-8af2-4718-e671-80ca8e288235"
   },
   "outputs": [
    {
     "data": {
      "text/html": [
       "<div>\n",
       "<style scoped>\n",
       "    .dataframe tbody tr th:only-of-type {\n",
       "        vertical-align: middle;\n",
       "    }\n",
       "\n",
       "    .dataframe tbody tr th {\n",
       "        vertical-align: top;\n",
       "    }\n",
       "\n",
       "    .dataframe thead th {\n",
       "        text-align: right;\n",
       "    }\n",
       "</style>\n",
       "<table border=\"1\" class=\"dataframe\">\n",
       "  <thead>\n",
       "    <tr style=\"text-align: right;\">\n",
       "      <th></th>\n",
       "      <th>year</th>\n",
       "      <th>state</th>\n",
       "      <th>pop</th>\n",
       "      <th>unempl</th>\n",
       "    </tr>\n",
       "  </thead>\n",
       "  <tbody>\n",
       "    <tr>\n",
       "      <th>r1</th>\n",
       "      <td>2012</td>\n",
       "      <td>VA</td>\n",
       "      <td>5.0</td>\n",
       "      <td>5.8</td>\n",
       "    </tr>\n",
       "    <tr>\n",
       "      <th>r2</th>\n",
       "      <td>2013</td>\n",
       "      <td>VA</td>\n",
       "      <td>5.1</td>\n",
       "      <td>5.8</td>\n",
       "    </tr>\n",
       "    <tr>\n",
       "      <th>r3</th>\n",
       "      <td>2014</td>\n",
       "      <td>VA</td>\n",
       "      <td>5.2</td>\n",
       "      <td>5.8</td>\n",
       "    </tr>\n",
       "    <tr>\n",
       "      <th>r4</th>\n",
       "      <td>2014</td>\n",
       "      <td>MD</td>\n",
       "      <td>4.0</td>\n",
       "      <td>4.9</td>\n",
       "    </tr>\n",
       "    <tr>\n",
       "      <th>r5</th>\n",
       "      <td>2015</td>\n",
       "      <td>MD</td>\n",
       "      <td>4.1</td>\n",
       "      <td>4.9</td>\n",
       "    </tr>\n",
       "  </tbody>\n",
       "</table>\n",
       "</div>"
      ],
      "text/plain": [
       "    year state  pop  unempl\n",
       "r1  2012    VA  5.0     5.8\n",
       "r2  2013    VA  5.1     5.8\n",
       "r3  2014    VA  5.2     5.8\n",
       "r4  2014    MD  4.0     4.9\n",
       "r5  2015    MD  4.1     4.9"
      ]
     },
     "metadata": {},
     "output_type": "display_data"
    }
   ],
   "source": [
    "temp_dictionary = {\n",
    "    'state' : ['VA', 'VA', 'VA', 'MD', 'MD'],\n",
    "    'year' : [2012, 2013, 2014, 2014, 2015],\n",
    "    'pop' : [5.0, 5.1, 5.2, 4.0, 4.1],\n",
    "    'unempl' : [5.8, 5.8, 5.8, 4.9, 4.9]\n",
    "}\n",
    "df_from_lists = pandas.DataFrame(\n",
    "    temp_dictionary,\n",
    "    columns=['year', 'state', 'pop', 'unempl'],\n",
    "    index = ['r1', 'r2', 'r3', 'r4', 'r5']\n",
    ")\n",
    "display(df_from_lists)"
   ]
  },
  {
   "cell_type": "code",
   "execution_count": 19,
   "metadata": {
    "colab": {
     "base_uri": "https://localhost:8080/"
    },
    "executionInfo": {
     "elapsed": 9,
     "status": "ok",
     "timestamp": 1720121338283,
     "user": {
      "displayName": "Zhenhua He",
      "userId": "07570809959068816406"
     },
     "user_tz": 300
    },
    "id": "fSZ9hVJtd_Y0",
    "outputId": "f396d848-1831-42dd-e573-051d7007dfac"
   },
   "outputs": [
    {
     "name": "stdout",
     "output_type": "stream",
     "text": [
      "{'MD': ['r4', 'r5'], 'VA': ['r1', 'r2', 'r3']}\n"
     ]
    }
   ],
   "source": [
    "grouped_df = df_from_lists.groupby(\"state\")\n",
    "print(grouped_df.groups)"
   ]
  },
  {
   "cell_type": "code",
   "execution_count": 20,
   "metadata": {
    "colab": {
     "base_uri": "https://localhost:8080/",
     "height": 125
    },
    "executionInfo": {
     "elapsed": 7,
     "status": "ok",
     "timestamp": 1720121338283,
     "user": {
      "displayName": "Zhenhua He",
      "userId": "07570809959068816406"
     },
     "user_tz": 300
    },
    "id": "uIyt7kOqhtPt",
    "outputId": "ee716cc3-b5fa-47fd-c557-7a2e1e3c696f"
   },
   "outputs": [
    {
     "data": {
      "text/html": [
       "<div>\n",
       "<style scoped>\n",
       "    .dataframe tbody tr th:only-of-type {\n",
       "        vertical-align: middle;\n",
       "    }\n",
       "\n",
       "    .dataframe tbody tr th {\n",
       "        vertical-align: top;\n",
       "    }\n",
       "\n",
       "    .dataframe thead th {\n",
       "        text-align: right;\n",
       "    }\n",
       "</style>\n",
       "<table border=\"1\" class=\"dataframe\">\n",
       "  <thead>\n",
       "    <tr style=\"text-align: right;\">\n",
       "      <th></th>\n",
       "      <th>year</th>\n",
       "      <th>state</th>\n",
       "      <th>pop</th>\n",
       "      <th>unempl</th>\n",
       "    </tr>\n",
       "  </thead>\n",
       "  <tbody>\n",
       "    <tr>\n",
       "      <th>r4</th>\n",
       "      <td>2014</td>\n",
       "      <td>MD</td>\n",
       "      <td>4.0</td>\n",
       "      <td>4.9</td>\n",
       "    </tr>\n",
       "    <tr>\n",
       "      <th>r5</th>\n",
       "      <td>2015</td>\n",
       "      <td>MD</td>\n",
       "      <td>4.1</td>\n",
       "      <td>4.9</td>\n",
       "    </tr>\n",
       "  </tbody>\n",
       "</table>\n",
       "</div>"
      ],
      "text/plain": [
       "    year state  pop  unempl\n",
       "r4  2014    MD  4.0     4.9\n",
       "r5  2015    MD  4.1     4.9"
      ]
     },
     "metadata": {},
     "output_type": "display_data"
    }
   ],
   "source": [
    "sub_df = grouped_df.get_group('MD')\n",
    "display(sub_df)"
   ]
  },
  {
   "cell_type": "code",
   "execution_count": 21,
   "metadata": {
    "colab": {
     "base_uri": "https://localhost:8080/",
     "height": 321
    },
    "executionInfo": {
     "elapsed": 176,
     "status": "ok",
     "timestamp": 1720121338453,
     "user": {
      "displayName": "Zhenhua He",
      "userId": "07570809959068816406"
     },
     "user_tz": 300
    },
    "id": "dwKSxYG4p2aq",
    "outputId": "633d9144-52ba-497b-d2fa-928eb91ab831"
   },
   "outputs": [
    {
     "name": "stdout",
     "output_type": "stream",
     "text": [
      "MD\n"
     ]
    },
    {
     "data": {
      "text/html": [
       "<div>\n",
       "<style scoped>\n",
       "    .dataframe tbody tr th:only-of-type {\n",
       "        vertical-align: middle;\n",
       "    }\n",
       "\n",
       "    .dataframe tbody tr th {\n",
       "        vertical-align: top;\n",
       "    }\n",
       "\n",
       "    .dataframe thead th {\n",
       "        text-align: right;\n",
       "    }\n",
       "</style>\n",
       "<table border=\"1\" class=\"dataframe\">\n",
       "  <thead>\n",
       "    <tr style=\"text-align: right;\">\n",
       "      <th></th>\n",
       "      <th>year</th>\n",
       "      <th>state</th>\n",
       "      <th>pop</th>\n",
       "      <th>unempl</th>\n",
       "    </tr>\n",
       "  </thead>\n",
       "  <tbody>\n",
       "    <tr>\n",
       "      <th>r4</th>\n",
       "      <td>2014</td>\n",
       "      <td>MD</td>\n",
       "      <td>4.0</td>\n",
       "      <td>4.9</td>\n",
       "    </tr>\n",
       "    <tr>\n",
       "      <th>r5</th>\n",
       "      <td>2015</td>\n",
       "      <td>MD</td>\n",
       "      <td>4.1</td>\n",
       "      <td>4.9</td>\n",
       "    </tr>\n",
       "  </tbody>\n",
       "</table>\n",
       "</div>"
      ],
      "text/plain": [
       "    year state  pop  unempl\n",
       "r4  2014    MD  4.0     4.9\n",
       "r5  2015    MD  4.1     4.9"
      ]
     },
     "metadata": {},
     "output_type": "display_data"
    },
    {
     "name": "stdout",
     "output_type": "stream",
     "text": [
      "\n",
      "VA\n"
     ]
    },
    {
     "data": {
      "text/html": [
       "<div>\n",
       "<style scoped>\n",
       "    .dataframe tbody tr th:only-of-type {\n",
       "        vertical-align: middle;\n",
       "    }\n",
       "\n",
       "    .dataframe tbody tr th {\n",
       "        vertical-align: top;\n",
       "    }\n",
       "\n",
       "    .dataframe thead th {\n",
       "        text-align: right;\n",
       "    }\n",
       "</style>\n",
       "<table border=\"1\" class=\"dataframe\">\n",
       "  <thead>\n",
       "    <tr style=\"text-align: right;\">\n",
       "      <th></th>\n",
       "      <th>year</th>\n",
       "      <th>state</th>\n",
       "      <th>pop</th>\n",
       "      <th>unempl</th>\n",
       "    </tr>\n",
       "  </thead>\n",
       "  <tbody>\n",
       "    <tr>\n",
       "      <th>r1</th>\n",
       "      <td>2012</td>\n",
       "      <td>VA</td>\n",
       "      <td>5.0</td>\n",
       "      <td>5.8</td>\n",
       "    </tr>\n",
       "    <tr>\n",
       "      <th>r2</th>\n",
       "      <td>2013</td>\n",
       "      <td>VA</td>\n",
       "      <td>5.1</td>\n",
       "      <td>5.8</td>\n",
       "    </tr>\n",
       "    <tr>\n",
       "      <th>r3</th>\n",
       "      <td>2014</td>\n",
       "      <td>VA</td>\n",
       "      <td>5.2</td>\n",
       "      <td>5.8</td>\n",
       "    </tr>\n",
       "  </tbody>\n",
       "</table>\n",
       "</div>"
      ],
      "text/plain": [
       "    year state  pop  unempl\n",
       "r1  2012    VA  5.0     5.8\n",
       "r2  2013    VA  5.1     5.8\n",
       "r3  2014    VA  5.2     5.8"
      ]
     },
     "metadata": {},
     "output_type": "display_data"
    },
    {
     "name": "stdout",
     "output_type": "stream",
     "text": [
      "\n"
     ]
    }
   ],
   "source": [
    "for group_label, sub_df in grouped_df:\n",
    "  print(group_label)\n",
    "  display(sub_df)\n",
    "  print()"
   ]
  },
  {
   "cell_type": "markdown",
   "metadata": {
    "id": "_F0JmK3qsbSi"
   },
   "source": [
    "## Exercise 6\n",
    "\n",
    "Use the DataFrame `df_from_lists` from Example 6,\n",
    "\n",
    "*   Group the DataFrame by `'year'`.\n",
    "Iterate through the groups\n",
    "*  `display` each sub-DataFrame.\n",
    "*   Using each group label, retrieve (and print) the rows for that group from the `grouped_df.groups` dictionary.\n",
    "\n"
   ]
  },
  {
   "cell_type": "code",
   "execution_count": 22,
   "metadata": {
    "executionInfo": {
     "elapsed": 6,
     "status": "ok",
     "timestamp": 1720121338453,
     "user": {
      "displayName": "Zhenhua He",
      "userId": "07570809959068816406"
     },
     "user_tz": 300
    },
    "id": "xlDeItXDuW-w"
   },
   "outputs": [],
   "source": [
    "#your code here"
   ]
  },
  {
   "cell_type": "markdown",
   "metadata": {
    "cellView": "form",
    "colab": {
     "base_uri": "https://localhost:8080/",
     "height": 589
    },
    "executionInfo": {
     "elapsed": 182,
     "status": "ok",
     "timestamp": 1720121338629,
     "user": {
      "displayName": "Zhenhua He",
      "userId": "07570809959068816406"
     },
     "user_tz": 300
    },
    "id": "L7VUEVGquXA-",
    "outputId": "c3f8ce86-b90e-41a6-d9af-093ce5e64b10"
   },
   "source": [
    "<details><summary><p style=\"padding: 10px; border: 2px solid;\"><big>Click here to see solution</big></p></summary>\n",
    "<p>\n",
    "\n",
    "    \n",
    "```\n",
    "grouped_df = df_from_lists.groupby(\"year\")\n",
    "for group_label, sub_df in grouped_df:\n",
    "  print(group_label)\n",
    "  display(sub_df)\n",
    "  print()\n",
    "  print(grouped_df.groups[group_label])\n",
    "  print()\n",
    "\n",
    "```\n",
    "</p>\n",
    "</details>"
   ]
  },
  {
   "cell_type": "markdown",
   "metadata": {
    "id": "wQJ7T2UPhUB-"
   },
   "source": [
    "## Grouped DataFrame Operations\n",
    "\n",
    "`DataFrameGroupBy` has the same columns as the dataframe, and they can be selected using slice notation. The result is also a `DataFrameGroupBy` object.\n",
    "* `grouped_df[ column ]`\n",
    "\n",
    "`DataFrameGroupBy` has many of the same *reducing methods* as a `DataFrame` object. However, they return `DataFrames` instead of `Series`.\n",
    "```\n",
    "reduced_df = grouped_df.reducing_method()\n",
    "```\n",
    "\n",
    "The `index` of the *reduced* DataFrame is the former group labels.\n",
    "\n",
    "\n",
    "## Aggregate Method\n",
    "\n",
    "`DataFrameGroupBy` has a *method* named `agg()` (short for *aggregate*) that helps with doing multiple reducing operations to multiple columns.\n",
    "\n",
    "```\n",
    "reduced_df = grouped_df.agg( )\n",
    "```\n",
    "The basic argument of `agg()` is a list of functions or strings. The strings must match the name of a reducing method.\n",
    "\n",
    "```\n",
    "reduced_df = grouped_df.agg( [...] )\n",
    "```\n",
    "\n",
    "**Extend** the argument of `agg()` to a *dictionary* if you want to specify different functions for each column (by label).\n",
    "\n",
    "```\n",
    "reduced_df = grouped_df.agg( {\n",
    "  column label : [...],\n",
    "  column label : [...],\n",
    "  ...\n",
    "} )\n",
    "```\n",
    "\n",
    "The `agg()` method will create new columns as necessary to hold all the reductions."
   ]
  },
  {
   "cell_type": "markdown",
   "metadata": {
    "id": "BXRSPyN9oNR_"
   },
   "source": [
    "## Example 7\n",
    "\n",
    "Computing the `mean` of each column, grouped by state.\n",
    "* Using `grouped_df`'s reducing method `mean()`\n",
    "* Using `grouped_df.agg()`\n",
    "\n",
    "Execute the cells to see what happens."
   ]
  },
  {
   "cell_type": "code",
   "execution_count": 23,
   "metadata": {
    "executionInfo": {
     "elapsed": 2,
     "status": "ok",
     "timestamp": 1720121338629,
     "user": {
      "displayName": "Zhenhua He",
      "userId": "07570809959068816406"
     },
     "user_tz": 300
    },
    "id": "3XJ6Bh80i1HK"
   },
   "outputs": [],
   "source": [
    "temp_dictionary = {\n",
    "    'state' : ['VA', 'VA', 'VA', 'MD', 'MD'],\n",
    "    'year' : [2012, 2013, 2014, 2014, 2015],\n",
    "    'pop' : [5.0, 5.1, 5.2, 4.0, 4.1],\n",
    "    'unempl' : [5.8, 5.8, 5.8, 4.9, 4.9]\n",
    "}\n",
    "df_from_lists = pandas.DataFrame(\n",
    "    temp_dictionary,\n",
    "    columns=['year', 'state', 'pop', 'unempl'],\n",
    "    index = ['r1', 'r2', 'r3', 'r4', 'r5']\n",
    ")\n",
    "grouped_df = df_from_lists.groupby(\"state\")"
   ]
  },
  {
   "cell_type": "code",
   "execution_count": 24,
   "metadata": {
    "colab": {
     "base_uri": "https://localhost:8080/",
     "height": 143
    },
    "executionInfo": {
     "elapsed": 5,
     "status": "ok",
     "timestamp": 1720121338802,
     "user": {
      "displayName": "Zhenhua He",
      "userId": "07570809959068816406"
     },
     "user_tz": 300
    },
    "id": "fl_XmpLg0UlM",
    "outputId": "d4cd60c8-3121-433a-96e8-9cf0971e3536"
   },
   "outputs": [
    {
     "data": {
      "text/html": [
       "<div>\n",
       "<style scoped>\n",
       "    .dataframe tbody tr th:only-of-type {\n",
       "        vertical-align: middle;\n",
       "    }\n",
       "\n",
       "    .dataframe tbody tr th {\n",
       "        vertical-align: top;\n",
       "    }\n",
       "\n",
       "    .dataframe thead th {\n",
       "        text-align: right;\n",
       "    }\n",
       "</style>\n",
       "<table border=\"1\" class=\"dataframe\">\n",
       "  <thead>\n",
       "    <tr style=\"text-align: right;\">\n",
       "      <th></th>\n",
       "      <th>year</th>\n",
       "      <th>pop</th>\n",
       "      <th>unempl</th>\n",
       "    </tr>\n",
       "    <tr>\n",
       "      <th>state</th>\n",
       "      <th></th>\n",
       "      <th></th>\n",
       "      <th></th>\n",
       "    </tr>\n",
       "  </thead>\n",
       "  <tbody>\n",
       "    <tr>\n",
       "      <th>MD</th>\n",
       "      <td>2014.5</td>\n",
       "      <td>4.05</td>\n",
       "      <td>4.9</td>\n",
       "    </tr>\n",
       "    <tr>\n",
       "      <th>VA</th>\n",
       "      <td>2013.0</td>\n",
       "      <td>5.10</td>\n",
       "      <td>5.8</td>\n",
       "    </tr>\n",
       "  </tbody>\n",
       "</table>\n",
       "</div>"
      ],
      "text/plain": [
       "         year   pop  unempl\n",
       "state                      \n",
       "MD     2014.5  4.05     4.9\n",
       "VA     2013.0  5.10     5.8"
      ]
     },
     "metadata": {},
     "output_type": "display_data"
    }
   ],
   "source": [
    "reduced_df = grouped_df.mean()\n",
    "display(reduced_df)"
   ]
  },
  {
   "cell_type": "code",
   "execution_count": 25,
   "metadata": {
    "colab": {
     "base_uri": "https://localhost:8080/",
     "height": 143
    },
    "executionInfo": {
     "elapsed": 147,
     "status": "ok",
     "timestamp": 1720121338945,
     "user": {
      "displayName": "Zhenhua He",
      "userId": "07570809959068816406"
     },
     "user_tz": 300
    },
    "id": "ZohnhShOoXGA",
    "outputId": "57b829c2-28fd-4399-cdc2-04ef0bdf5c6f"
   },
   "outputs": [
    {
     "data": {
      "text/html": [
       "<div>\n",
       "<style scoped>\n",
       "    .dataframe tbody tr th:only-of-type {\n",
       "        vertical-align: middle;\n",
       "    }\n",
       "\n",
       "    .dataframe tbody tr th {\n",
       "        vertical-align: top;\n",
       "    }\n",
       "\n",
       "    .dataframe thead th {\n",
       "        text-align: right;\n",
       "    }\n",
       "</style>\n",
       "<table border=\"1\" class=\"dataframe\">\n",
       "  <thead>\n",
       "    <tr style=\"text-align: right;\">\n",
       "      <th></th>\n",
       "      <th>year</th>\n",
       "      <th>pop</th>\n",
       "      <th>unempl</th>\n",
       "    </tr>\n",
       "    <tr>\n",
       "      <th>state</th>\n",
       "      <th></th>\n",
       "      <th></th>\n",
       "      <th></th>\n",
       "    </tr>\n",
       "  </thead>\n",
       "  <tbody>\n",
       "    <tr>\n",
       "      <th>MD</th>\n",
       "      <td>2014.5</td>\n",
       "      <td>4.05</td>\n",
       "      <td>4.9</td>\n",
       "    </tr>\n",
       "    <tr>\n",
       "      <th>VA</th>\n",
       "      <td>2013.0</td>\n",
       "      <td>5.10</td>\n",
       "      <td>5.8</td>\n",
       "    </tr>\n",
       "  </tbody>\n",
       "</table>\n",
       "</div>"
      ],
      "text/plain": [
       "         year   pop  unempl\n",
       "state                      \n",
       "MD     2014.5  4.05     4.9\n",
       "VA     2013.0  5.10     5.8"
      ]
     },
     "metadata": {},
     "output_type": "display_data"
    }
   ],
   "source": [
    "reduced_df = grouped_df.agg('mean')\n",
    "display(reduced_df)"
   ]
  },
  {
   "cell_type": "markdown",
   "metadata": {
    "id": "Zg8SATThu7Dh"
   },
   "source": [
    "## Exercise 7\n",
    "\n",
    "Starting with the provided `national_economics` DataFrame, perform the following tasks.\n",
    "\n",
    "* Set the `index` to be the `'Country'` column.\n",
    "\n",
    "* Create a new column named `'GDP Per Capita'` which is calculate to be the ratio of `'GDP'` and `'Population'`.\n",
    "  * (Don't forget to handle the units.)\n",
    "\n",
    "* Group the dataframe by `'Continent'`.\n",
    "\n",
    "* Using the `agg()` function, perform the following reductions:\n",
    "  * `sum` of `'GDP (Billions)'`\n",
    "  * `sum` of `'Population (Millions)'`\n",
    "  * `mean`, `min`, and `max` of `'GDP Per Capita'`\n"
   ]
  },
  {
   "cell_type": "code",
   "execution_count": 26,
   "metadata": {
    "executionInfo": {
     "elapsed": 1,
     "status": "ok",
     "timestamp": 1720121338945,
     "user": {
      "displayName": "Zhenhua He",
      "userId": "07570809959068816406"
     },
     "user_tz": 300
    },
    "id": "UZCl0trnvX5L"
   },
   "outputs": [],
   "source": [
    "national_economics = pandas.DataFrame({\n",
    "    'Country': ['United States','China', 'Japan', 'Germany', 'India', 'United Kingdom', 'France', 'Italy', 'Brazil', 'Canada'],\n",
    "    'Continent': ['America', 'Asia', 'Asia', 'Europe', 'Asia','Europe', 'Europe','Europe', 'America', 'America'],\n",
    "    'GDP (Billions)': [18624.5, 11218.3, 4936.2, 3477.8, 2259.6, 2647.9, 2465.5, 1858.9, 1795.9, 1529.8],\n",
    "    'Population (Millions)': [332.9, 1444.2, 126.1, 83.9, 1393.4, 68.2, 65.4, 60.4, 214.0, 38.1],\n",
    "})"
   ]
  },
  {
   "cell_type": "markdown",
   "metadata": {
    "cellView": "form",
    "colab": {
     "base_uri": "https://localhost:8080/",
     "height": 206
    },
    "executionInfo": {
     "elapsed": 194,
     "status": "ok",
     "timestamp": 1720121339138,
     "user": {
      "displayName": "Zhenhua He",
      "userId": "07570809959068816406"
     },
     "user_tz": 300
    },
    "id": "b6tog9G00zDC",
    "outputId": "e139cffb-fdf2-4ad7-ef23-938282aa9418"
   },
   "source": [
    "<details><summary><p style=\"padding: 10px; border: 2px solid;\"><big>Click here to see solution</big></p></summary>\n",
    "<p>\n",
    "\n",
    "    \n",
    "```\n",
    "# inserting .set_index() here as a method chain\n",
    "national_economics = pandas.DataFrame({\n",
    "    'Country': ['United States','China', 'Japan', 'Germany', 'India', 'United Kingdom', 'France', 'Italy', 'Brazil', 'Canada'],\n",
    "    'Continent': ['America', 'Asia', 'Asia', 'Europe', 'Asia','Europe', 'Europe','Europe', 'America', 'America'],\n",
    "    'GDP (Billions)': [18624.5, 11218.3, 4936.2, 3477.8, 2259.6, 2647.9, 2465.5, 1858.9, 1795.9, 1529.8],\n",
    "    'Population (Millions)': [332.9, 1444.2, 126.1, 83.9, 1393.4, 68.2, 65.4, 60.4, 214.0, 38.1],\n",
    "}).set_index('Country')\n",
    "\n",
    "# converting from Billions and Millions by multiplication\n",
    "national_economics['GDP Per Capita'] = (national_economics['GDP (Billions)'] * 1e9) / (national_economics['Population (Millions)'] * 1e6)\n",
    "\n",
    "# inserting groupby and agg here as a method chain\n",
    "display(\n",
    "    national_economics.groupby('Continent').agg({\n",
    "      'GDP (Billions)':'sum',\n",
    "      'Population (Millions)':'sum',\n",
    "      'GDP Per Capita':['mean','min','max']\n",
    "    })\n",
    ")\n",
    "\n",
    "```\n",
    "</p>\n",
    "</details>"
   ]
  }
 ],
 "metadata": {
  "colab": {
   "provenance": [
    {
     "file_id": "1X5y5pHZjz9fQgfK3qRg8P2MqFZw28MxG",
     "timestamp": 1631636113960
    },
    {
     "file_id": "1ciqwTRTqge80tK7MaEkSqREOrxKqdyLV",
     "timestamp": 1631630128262
    },
    {
     "file_id": "1LOs5jJ-KquyyHfFCLx6Nx32yFc-IwCuH",
     "timestamp": 1631627413983
    },
    {
     "file_id": "1Lwhej1dEM4MpCyQm75JutjOxxbfj4sBt",
     "timestamp": 1631627227093
    }
   ],
   "toc_visible": true
  },
  "kernelspec": {
   "display_name": "Python 3 (ipykernel)",
   "language": "python",
   "name": "python3"
  },
  "language_info": {
   "codemirror_mode": {
    "name": "ipython",
    "version": 3
   },
   "file_extension": ".py",
   "mimetype": "text/x-python",
   "name": "python",
   "nbconvert_exporter": "python",
   "pygments_lexer": "ipython3",
   "version": "3.12.2"
  }
 },
 "nbformat": 4,
 "nbformat_minor": 4
}
