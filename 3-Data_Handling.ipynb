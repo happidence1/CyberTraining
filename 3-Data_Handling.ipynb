{
 "cells": [
  {
   "cell_type": "markdown",
   "metadata": {
    "id": "MNiBN7s-Lng0"
   },
   "source": [
    "# Intermediate Python\n",
    "\n",
    "Texas A&M University High Performance Research Computing\n",
    "\n",
    "Texas A&M University Engineering Studio for Advanced Instruction and Learning\n",
    "\n",
    "Texas A&M Engineering Experiment Station Educating Generations\n",
    "\n",
    "\n",
    "## \"Data Handling\"\n",
    "Learn how to use Use Python Pandas library for data manipulation\n",
    "\n",
    "\n",
    "\n",
    "\n",
    "\n"
   ]
  },
  {
   "cell_type": "markdown",
   "metadata": {
    "id": "O5pD2CbSSfoH"
   },
   "source": [
    "# Pandas Module\n",
    "\n",
    "Reminder: You should import a module *once*, usually at the beginning of the notebook.\n",
    "\n",
    "Execute this cell to bring in `pandas` and `numpy` functions."
   ]
  },
  {
   "cell_type": "code",
   "execution_count": 1,
   "metadata": {
    "id": "LFJ8Q5ygSh_1"
   },
   "outputs": [],
   "source": [
    "#don't forget to\n",
    "import pandas\n",
    "import numpy"
   ]
  },
  {
   "cell_type": "markdown",
   "metadata": {
    "id": "lfSg0O9ZOM9L"
   },
   "source": [
    "# Missing data\n",
    "\n",
    "Sometimes a dataset will have missing data for some positions. In Python, these are usually represented with `NaN` or *Not a Number*.\n",
    "\n",
    "* `numpy` module provides a data value `numpy.nan`.\n",
    "\n",
    "Inserting rows or columns into a DataFrame without specifying any values causes the missing values to be filled with `NaN`.\n",
    "\n"
   ]
  },
  {
   "cell_type": "markdown",
   "metadata": {
    "id": "Pkqy-dr8U2Jl"
   },
   "source": [
    "## Example 0\n",
    "\n",
    "Causing `NaN` to appear by inserting new elements in the `index`.\n",
    "\n",
    "Causing `NaN` to appear by manually specifying `numpy.nan`.\n",
    "\n",
    "Execute the cell to create a DataFrame with missing data.\n"
   ]
  },
  {
   "cell_type": "code",
   "execution_count": 2,
   "metadata": {
    "colab": {
     "base_uri": "https://localhost:8080/",
     "height": 300
    },
    "id": "vJTZ_EU2MhTl",
    "outputId": "871584db-be12-4c75-9973-bfa52ffd2d05"
   },
   "outputs": [
    {
     "data": {
      "text/html": [
       "<div>\n",
       "<style scoped>\n",
       "    .dataframe tbody tr th:only-of-type {\n",
       "        vertical-align: middle;\n",
       "    }\n",
       "\n",
       "    .dataframe tbody tr th {\n",
       "        vertical-align: top;\n",
       "    }\n",
       "\n",
       "    .dataframe thead th {\n",
       "        text-align: right;\n",
       "    }\n",
       "</style>\n",
       "<table border=\"1\" class=\"dataframe\">\n",
       "  <thead>\n",
       "    <tr style=\"text-align: right;\">\n",
       "      <th></th>\n",
       "      <th>c1</th>\n",
       "      <th>c2</th>\n",
       "    </tr>\n",
       "  </thead>\n",
       "  <tbody>\n",
       "    <tr>\n",
       "      <th>a</th>\n",
       "      <td>-0.407048</td>\n",
       "      <td>NaN</td>\n",
       "    </tr>\n",
       "    <tr>\n",
       "      <th>b</th>\n",
       "      <td>NaN</td>\n",
       "      <td>1.0</td>\n",
       "    </tr>\n",
       "    <tr>\n",
       "      <th>c</th>\n",
       "      <td>-0.219450</td>\n",
       "      <td>1.0</td>\n",
       "    </tr>\n",
       "    <tr>\n",
       "      <th>d</th>\n",
       "      <td>NaN</td>\n",
       "      <td>NaN</td>\n",
       "    </tr>\n",
       "    <tr>\n",
       "      <th>e</th>\n",
       "      <td>-0.350237</td>\n",
       "      <td>1.0</td>\n",
       "    </tr>\n",
       "    <tr>\n",
       "      <th>f</th>\n",
       "      <td>NaN</td>\n",
       "      <td>NaN</td>\n",
       "    </tr>\n",
       "    <tr>\n",
       "      <th>g</th>\n",
       "      <td>1.185802</td>\n",
       "      <td>1.0</td>\n",
       "    </tr>\n",
       "    <tr>\n",
       "      <th>h</th>\n",
       "      <td>NaN</td>\n",
       "      <td>1.0</td>\n",
       "    </tr>\n",
       "  </tbody>\n",
       "</table>\n",
       "</div>"
      ],
      "text/plain": [
       "         c1   c2\n",
       "a -0.407048  NaN\n",
       "b       NaN  1.0\n",
       "c -0.219450  1.0\n",
       "d       NaN  NaN\n",
       "e -0.350237  1.0\n",
       "f       NaN  NaN\n",
       "g  1.185802  1.0\n",
       "h       NaN  1.0"
      ]
     },
     "metadata": {},
     "output_type": "display_data"
    }
   ],
   "source": [
    "nan_df = pandas.DataFrame(\n",
    "    numpy.random.randn(4, 1),\n",
    "    index=[\"a\", \"c\", \"e\", \"g\"],\n",
    "    columns=[\"c1\"],\n",
    ")\n",
    "nan_df = nan_df.reindex([\"a\", \"b\", \"c\", \"e\", \"g\", \"h\"])\n",
    "nan_df[\"c2\"] = 1\n",
    "nan_df = nan_df.reindex([\"a\", \"b\", \"c\", \"d\", \"e\", \"f\", \"g\", \"h\"])\n",
    "nan_df.loc[\"a\", \"c2\"] = numpy.nan\n",
    "display(nan_df)"
   ]
  },
  {
   "cell_type": "markdown",
   "metadata": {
    "id": "KGlz_j8tm9Gs"
   },
   "source": [
    "# Dropping Missing Data\n",
    "You can drop rows or columns that contain any `NaN` values.\n",
    "```\n",
    "new_df = df.dropna()\n",
    "```\n",
    "\n",
    "The important keyword arguments are\n",
    "\n",
    "* `how`  specifies what the rule is for dropping a row or column.\n",
    " * options are `'any'` and `'all'`\n",
    "* `axis` which specifies if you are dropping rows or columns.\n",
    "  * default is rows.\n",
    "\n"
   ]
  },
  {
   "cell_type": "markdown",
   "metadata": {
    "id": "4BHTb_nCnZ6e"
   },
   "source": [
    "## Example 1\n",
    "\n",
    "Dropping rows that have `NaN` values.\n",
    "\n",
    "Execute the cells to see what happens.\n",
    "\n"
   ]
  },
  {
   "cell_type": "code",
   "execution_count": 3,
   "metadata": {
    "colab": {
     "base_uri": "https://localhost:8080/",
     "height": 237
    },
    "id": "ZMCEuoLhDK47",
    "outputId": "1d2083aa-7627-4f39-d108-87774b9332e5"
   },
   "outputs": [
    {
     "data": {
      "text/html": [
       "<div>\n",
       "<style scoped>\n",
       "    .dataframe tbody tr th:only-of-type {\n",
       "        vertical-align: middle;\n",
       "    }\n",
       "\n",
       "    .dataframe tbody tr th {\n",
       "        vertical-align: top;\n",
       "    }\n",
       "\n",
       "    .dataframe thead th {\n",
       "        text-align: right;\n",
       "    }\n",
       "</style>\n",
       "<table border=\"1\" class=\"dataframe\">\n",
       "  <thead>\n",
       "    <tr style=\"text-align: right;\">\n",
       "      <th></th>\n",
       "      <th>c1</th>\n",
       "      <th>c2</th>\n",
       "    </tr>\n",
       "  </thead>\n",
       "  <tbody>\n",
       "    <tr>\n",
       "      <th>a</th>\n",
       "      <td>-0.407048</td>\n",
       "      <td>NaN</td>\n",
       "    </tr>\n",
       "    <tr>\n",
       "      <th>b</th>\n",
       "      <td>NaN</td>\n",
       "      <td>1.0</td>\n",
       "    </tr>\n",
       "    <tr>\n",
       "      <th>c</th>\n",
       "      <td>-0.219450</td>\n",
       "      <td>1.0</td>\n",
       "    </tr>\n",
       "    <tr>\n",
       "      <th>e</th>\n",
       "      <td>-0.350237</td>\n",
       "      <td>1.0</td>\n",
       "    </tr>\n",
       "    <tr>\n",
       "      <th>g</th>\n",
       "      <td>1.185802</td>\n",
       "      <td>1.0</td>\n",
       "    </tr>\n",
       "    <tr>\n",
       "      <th>h</th>\n",
       "      <td>NaN</td>\n",
       "      <td>1.0</td>\n",
       "    </tr>\n",
       "  </tbody>\n",
       "</table>\n",
       "</div>"
      ],
      "text/plain": [
       "         c1   c2\n",
       "a -0.407048  NaN\n",
       "b       NaN  1.0\n",
       "c -0.219450  1.0\n",
       "e -0.350237  1.0\n",
       "g  1.185802  1.0\n",
       "h       NaN  1.0"
      ]
     },
     "metadata": {},
     "output_type": "display_data"
    }
   ],
   "source": [
    "display(nan_df.dropna(how='all') )"
   ]
  },
  {
   "cell_type": "code",
   "execution_count": 4,
   "metadata": {
    "colab": {
     "base_uri": "https://localhost:8080/",
     "height": 143
    },
    "id": "Z6Kspd4uC5Z7",
    "outputId": "11b7f1a7-599a-4a9a-a282-581ce6a28e37"
   },
   "outputs": [
    {
     "data": {
      "text/html": [
       "<div>\n",
       "<style scoped>\n",
       "    .dataframe tbody tr th:only-of-type {\n",
       "        vertical-align: middle;\n",
       "    }\n",
       "\n",
       "    .dataframe tbody tr th {\n",
       "        vertical-align: top;\n",
       "    }\n",
       "\n",
       "    .dataframe thead th {\n",
       "        text-align: right;\n",
       "    }\n",
       "</style>\n",
       "<table border=\"1\" class=\"dataframe\">\n",
       "  <thead>\n",
       "    <tr style=\"text-align: right;\">\n",
       "      <th></th>\n",
       "      <th>c1</th>\n",
       "      <th>c2</th>\n",
       "    </tr>\n",
       "  </thead>\n",
       "  <tbody>\n",
       "    <tr>\n",
       "      <th>c</th>\n",
       "      <td>-0.219450</td>\n",
       "      <td>1.0</td>\n",
       "    </tr>\n",
       "    <tr>\n",
       "      <th>e</th>\n",
       "      <td>-0.350237</td>\n",
       "      <td>1.0</td>\n",
       "    </tr>\n",
       "    <tr>\n",
       "      <th>g</th>\n",
       "      <td>1.185802</td>\n",
       "      <td>1.0</td>\n",
       "    </tr>\n",
       "  </tbody>\n",
       "</table>\n",
       "</div>"
      ],
      "text/plain": [
       "         c1   c2\n",
       "c -0.219450  1.0\n",
       "e -0.350237  1.0\n",
       "g  1.185802  1.0"
      ]
     },
     "metadata": {},
     "output_type": "display_data"
    }
   ],
   "source": [
    "display(nan_df.dropna(how='any') )"
   ]
  },
  {
   "cell_type": "markdown",
   "metadata": {
    "id": "RjmVb0Bqnvwt"
   },
   "source": [
    "## Exercise 1\n",
    "Create a DataFrame containing a column of numeric data and a column of `NaN`.\n",
    "\n",
    "Use the `axis` keyword argument to drop the column of `NaN`."
   ]
  },
  {
   "cell_type": "code",
   "execution_count": 5,
   "metadata": {
    "id": "9MnfT0wfY4kH"
   },
   "outputs": [],
   "source": [
    "#your code here"
   ]
  },
  {
   "cell_type": "markdown",
   "metadata": {
    "cellView": "form",
    "colab": {
     "base_uri": "https://localhost:8080/",
     "height": 412
    },
    "id": "5QhGix7oY4l1",
    "outputId": "a10ca301-f33e-4122-b3bc-ef51b6ffcb77"
   },
   "source": [
    "<details><summary><p style=\"padding: 10px; border: 2px solid;\"><big>Click here to see solution</big></p></summary>\n",
    "<p>\n",
    "\n",
    "    \n",
    "```\n",
    "nan_df= pandas.DataFrame(\n",
    "    {\n",
    "      'a': numpy.full(5, 1.0      ),\n",
    "      'b': numpy.full(5, numpy.nan)\n",
    "    }\n",
    ")\n",
    "display(nan_df)\n",
    "print()\n",
    "display(nan_df.dropna(axis=1))\n",
    "\n",
    "```\n",
    "</p>\n",
    "</details>"
   ]
  },
  {
   "cell_type": "markdown",
   "metadata": {
    "id": "MXriapUwol8J"
   },
   "source": [
    "# Replacing Missing Data\n",
    "\n",
    "Several DataFrame return methods create a new dataframe that has the same values except the `NaN`s have been sytematically replaced with something else."
   ]
  },
  {
   "cell_type": "markdown",
   "metadata": {
    "id": "NNySlrgrBUTC"
   },
   "source": [
    "## Replace with a Specified Value\n",
    "\n",
    "The DataFrame *method* `fillna()` can replace the `NaN` values with a specified value.\n",
    "\n",
    "The regular argument is the value to insert. To assign different values to different columns, use a dictionary or `Series` with column labels.\n",
    "\n",
    "```\n",
    "new_df = df.fillna( value )\n",
    "new_df = df.fillna( {column:value, ...} )\n",
    "```\n",
    "\n"
   ]
  },
  {
   "cell_type": "markdown",
   "metadata": {
    "id": "26x4pfUWpGRy"
   },
   "source": [
    "## Example 2\n",
    "Fill all `NaN`s with constant value *zero*.\n",
    "\n",
    "Execute the cells to see what happens."
   ]
  },
  {
   "cell_type": "code",
   "execution_count": 6,
   "metadata": {
    "colab": {
     "base_uri": "https://localhost:8080/",
     "height": 300
    },
    "id": "kJOflDS1aYPk",
    "outputId": "f8a924d2-9189-439a-d8f8-3d178a8538cb"
   },
   "outputs": [
    {
     "data": {
      "text/html": [
       "<div>\n",
       "<style scoped>\n",
       "    .dataframe tbody tr th:only-of-type {\n",
       "        vertical-align: middle;\n",
       "    }\n",
       "\n",
       "    .dataframe tbody tr th {\n",
       "        vertical-align: top;\n",
       "    }\n",
       "\n",
       "    .dataframe thead th {\n",
       "        text-align: right;\n",
       "    }\n",
       "</style>\n",
       "<table border=\"1\" class=\"dataframe\">\n",
       "  <thead>\n",
       "    <tr style=\"text-align: right;\">\n",
       "      <th></th>\n",
       "      <th>c1</th>\n",
       "      <th>c2</th>\n",
       "    </tr>\n",
       "  </thead>\n",
       "  <tbody>\n",
       "    <tr>\n",
       "      <th>a</th>\n",
       "      <td>0.269136</td>\n",
       "      <td>NaN</td>\n",
       "    </tr>\n",
       "    <tr>\n",
       "      <th>b</th>\n",
       "      <td>NaN</td>\n",
       "      <td>1.0</td>\n",
       "    </tr>\n",
       "    <tr>\n",
       "      <th>c</th>\n",
       "      <td>-0.972351</td>\n",
       "      <td>1.0</td>\n",
       "    </tr>\n",
       "    <tr>\n",
       "      <th>d</th>\n",
       "      <td>NaN</td>\n",
       "      <td>NaN</td>\n",
       "    </tr>\n",
       "    <tr>\n",
       "      <th>e</th>\n",
       "      <td>1.866735</td>\n",
       "      <td>1.0</td>\n",
       "    </tr>\n",
       "    <tr>\n",
       "      <th>f</th>\n",
       "      <td>NaN</td>\n",
       "      <td>NaN</td>\n",
       "    </tr>\n",
       "    <tr>\n",
       "      <th>g</th>\n",
       "      <td>2.784477</td>\n",
       "      <td>1.0</td>\n",
       "    </tr>\n",
       "    <tr>\n",
       "      <th>h</th>\n",
       "      <td>NaN</td>\n",
       "      <td>1.0</td>\n",
       "    </tr>\n",
       "  </tbody>\n",
       "</table>\n",
       "</div>"
      ],
      "text/plain": [
       "         c1   c2\n",
       "a  0.269136  NaN\n",
       "b       NaN  1.0\n",
       "c -0.972351  1.0\n",
       "d       NaN  NaN\n",
       "e  1.866735  1.0\n",
       "f       NaN  NaN\n",
       "g  2.784477  1.0\n",
       "h       NaN  1.0"
      ]
     },
     "metadata": {},
     "output_type": "display_data"
    }
   ],
   "source": [
    "# build dataframe with NaN\n",
    "nan_df = pandas.DataFrame(\n",
    "    numpy.random.randn(4, 1),\n",
    "    index=[\"a\", \"c\", \"e\", \"g\"],\n",
    "    columns=[\"c1\"],\n",
    ")\n",
    "nan_df = nan_df.reindex([\"a\", \"b\", \"c\", \"e\", \"g\", \"h\"])\n",
    "nan_df[\"c2\"] = 1\n",
    "nan_df = nan_df.reindex([\"a\", \"b\", \"c\", \"d\", \"e\", \"f\", \"g\", \"h\"])\n",
    "nan_df.loc[\"a\", \"c2\"] = numpy.nan\n",
    "display(nan_df)"
   ]
  },
  {
   "cell_type": "markdown",
   "metadata": {
    "id": "xpJzkEz0-qHS"
   },
   "source": [
    "Using `fillna` with a constant value."
   ]
  },
  {
   "cell_type": "code",
   "execution_count": 7,
   "metadata": {
    "colab": {
     "base_uri": "https://localhost:8080/",
     "height": 300
    },
    "id": "vq5hdcXkCTzO",
    "outputId": "0001c159-cbe5-4076-87a0-64d0c8ab5ec8"
   },
   "outputs": [
    {
     "data": {
      "text/html": [
       "<div>\n",
       "<style scoped>\n",
       "    .dataframe tbody tr th:only-of-type {\n",
       "        vertical-align: middle;\n",
       "    }\n",
       "\n",
       "    .dataframe tbody tr th {\n",
       "        vertical-align: top;\n",
       "    }\n",
       "\n",
       "    .dataframe thead th {\n",
       "        text-align: right;\n",
       "    }\n",
       "</style>\n",
       "<table border=\"1\" class=\"dataframe\">\n",
       "  <thead>\n",
       "    <tr style=\"text-align: right;\">\n",
       "      <th></th>\n",
       "      <th>c1</th>\n",
       "      <th>c2</th>\n",
       "    </tr>\n",
       "  </thead>\n",
       "  <tbody>\n",
       "    <tr>\n",
       "      <th>a</th>\n",
       "      <td>0.269136</td>\n",
       "      <td>0.0</td>\n",
       "    </tr>\n",
       "    <tr>\n",
       "      <th>b</th>\n",
       "      <td>0.000000</td>\n",
       "      <td>1.0</td>\n",
       "    </tr>\n",
       "    <tr>\n",
       "      <th>c</th>\n",
       "      <td>-0.972351</td>\n",
       "      <td>1.0</td>\n",
       "    </tr>\n",
       "    <tr>\n",
       "      <th>d</th>\n",
       "      <td>0.000000</td>\n",
       "      <td>0.0</td>\n",
       "    </tr>\n",
       "    <tr>\n",
       "      <th>e</th>\n",
       "      <td>1.866735</td>\n",
       "      <td>1.0</td>\n",
       "    </tr>\n",
       "    <tr>\n",
       "      <th>f</th>\n",
       "      <td>0.000000</td>\n",
       "      <td>0.0</td>\n",
       "    </tr>\n",
       "    <tr>\n",
       "      <th>g</th>\n",
       "      <td>2.784477</td>\n",
       "      <td>1.0</td>\n",
       "    </tr>\n",
       "    <tr>\n",
       "      <th>h</th>\n",
       "      <td>0.000000</td>\n",
       "      <td>1.0</td>\n",
       "    </tr>\n",
       "  </tbody>\n",
       "</table>\n",
       "</div>"
      ],
      "text/plain": [
       "         c1   c2\n",
       "a  0.269136  0.0\n",
       "b  0.000000  1.0\n",
       "c -0.972351  1.0\n",
       "d  0.000000  0.0\n",
       "e  1.866735  1.0\n",
       "f  0.000000  0.0\n",
       "g  2.784477  1.0\n",
       "h  0.000000  1.0"
      ]
     },
     "metadata": {},
     "output_type": "display_data"
    }
   ],
   "source": [
    "display(nan_df.fillna(0))"
   ]
  },
  {
   "cell_type": "markdown",
   "metadata": {
    "id": "Yi5U6jvbpev6"
   },
   "source": [
    "## Exercise 2\n",
    "\n",
    "Using the `nan_df` DataFrame from Example 2:\n",
    "* Compute the `mean()` of each column.\n",
    "\n",
    "* Fill the `NaN`s of each column with the mean value of that column. (leave the original unchanged).\n",
    "\n",
    "* Display.\n",
    "\n",
    "Hint: the `mean()` DataFrame method produces a `Series` with column labels."
   ]
  },
  {
   "cell_type": "markdown",
   "metadata": {
    "cellView": "form",
    "colab": {
     "base_uri": "https://localhost:8080/",
     "height": 300
    },
    "id": "GNdsZB4cp-8i",
    "outputId": "213e7515-b42d-424d-9b59-f888bbca7008"
   },
   "source": [
    "<details><summary><p style=\"padding: 10px; border: 2px solid;\"><big>Click here to see solution</big></p></summary>\n",
    "<p>\n",
    "\n",
    "    \n",
    "```\n",
    "# dictionary style\n",
    "filled = nan_df.fillna(\n",
    "    {\n",
    "        'c1':nan_df['c1'].mean(),\n",
    "        'c2':nan_df['c2'].mean(),\n",
    "    }\n",
    ")\n",
    "\n",
    "# Series style\n",
    "filled = nan_df.fillna(nan_df.mean())\n",
    "\n",
    "display(filled)\n",
    "\n",
    "```\n",
    "</p>\n",
    "</details>"
   ]
  },
  {
   "cell_type": "markdown",
   "metadata": {
    "id": "CeLfGgeJBYGg"
   },
   "source": [
    "## Replace with Nearby Values\n",
    "The `fillna` *method* can also replace `NaN` with nearby values, using the\n",
    "keyword argument `method`. Options include:\n",
    "\n",
    "* `'ffill'` - *forward fill* - propagate a valid observation forwards\n",
    "\n",
    "* `'bfill'` - *backward fill* - propagate a valid observation backwards\n",
    "\n",
    "The `interpolate` *method* can replace `NaN` with nearby values, using the keyword argument `method`. Options include:\n",
    "\n",
    "* `'index'` - fills values proportional to the difference between row *labels* (assuming the row labels are numeric).\n",
    "\n",
    "* `'linear'` - fills values proportional to the difference between row *positions* (ignoring the index).\n",
    "\n"
   ]
  },
  {
   "cell_type": "markdown",
   "metadata": {
    "id": "jmHx33noqVXF"
   },
   "source": [
    "## Example 3\n",
    "Using `fillna` with the `method` keyword argument.\n",
    "\n",
    "Execute the cells to see what happens."
   ]
  },
  {
   "cell_type": "code",
   "execution_count": 8,
   "metadata": {
    "colab": {
     "base_uri": "https://localhost:8080/",
     "height": 300
    },
    "id": "oYXGniCWDEGX",
    "outputId": "530d7753-5221-430b-8444-716b566db2c7"
   },
   "outputs": [
    {
     "data": {
      "text/html": [
       "<div>\n",
       "<style scoped>\n",
       "    .dataframe tbody tr th:only-of-type {\n",
       "        vertical-align: middle;\n",
       "    }\n",
       "\n",
       "    .dataframe tbody tr th {\n",
       "        vertical-align: top;\n",
       "    }\n",
       "\n",
       "    .dataframe thead th {\n",
       "        text-align: right;\n",
       "    }\n",
       "</style>\n",
       "<table border=\"1\" class=\"dataframe\">\n",
       "  <thead>\n",
       "    <tr style=\"text-align: right;\">\n",
       "      <th></th>\n",
       "      <th>c1</th>\n",
       "      <th>c2</th>\n",
       "    </tr>\n",
       "  </thead>\n",
       "  <tbody>\n",
       "    <tr>\n",
       "      <th>a</th>\n",
       "      <td>1.709827</td>\n",
       "      <td>NaN</td>\n",
       "    </tr>\n",
       "    <tr>\n",
       "      <th>b</th>\n",
       "      <td>NaN</td>\n",
       "      <td>1.0</td>\n",
       "    </tr>\n",
       "    <tr>\n",
       "      <th>c</th>\n",
       "      <td>-0.090568</td>\n",
       "      <td>1.0</td>\n",
       "    </tr>\n",
       "    <tr>\n",
       "      <th>d</th>\n",
       "      <td>NaN</td>\n",
       "      <td>NaN</td>\n",
       "    </tr>\n",
       "    <tr>\n",
       "      <th>e</th>\n",
       "      <td>-0.803460</td>\n",
       "      <td>1.0</td>\n",
       "    </tr>\n",
       "    <tr>\n",
       "      <th>f</th>\n",
       "      <td>NaN</td>\n",
       "      <td>NaN</td>\n",
       "    </tr>\n",
       "    <tr>\n",
       "      <th>g</th>\n",
       "      <td>0.725170</td>\n",
       "      <td>1.0</td>\n",
       "    </tr>\n",
       "    <tr>\n",
       "      <th>h</th>\n",
       "      <td>NaN</td>\n",
       "      <td>1.0</td>\n",
       "    </tr>\n",
       "  </tbody>\n",
       "</table>\n",
       "</div>"
      ],
      "text/plain": [
       "         c1   c2\n",
       "a  1.709827  NaN\n",
       "b       NaN  1.0\n",
       "c -0.090568  1.0\n",
       "d       NaN  NaN\n",
       "e -0.803460  1.0\n",
       "f       NaN  NaN\n",
       "g  0.725170  1.0\n",
       "h       NaN  1.0"
      ]
     },
     "metadata": {},
     "output_type": "display_data"
    }
   ],
   "source": [
    "# build dataframe with NaN\n",
    "nan_df = pandas.DataFrame(\n",
    "    numpy.random.randn(4, 1),\n",
    "    index=[\"a\", \"c\", \"e\", \"g\"],\n",
    "    columns=[\"c1\"],\n",
    ")\n",
    "nan_df = nan_df.reindex([\"a\", \"b\", \"c\", \"e\", \"g\", \"h\"])\n",
    "nan_df[\"c2\"] = 1\n",
    "nan_df = nan_df.reindex([\"a\", \"b\", \"c\", \"d\", \"e\", \"f\", \"g\", \"h\"])\n",
    "nan_df.loc[\"a\", \"c2\"] = numpy.nan\n",
    "display(nan_df)"
   ]
  },
  {
   "cell_type": "code",
   "execution_count": 9,
   "metadata": {
    "colab": {
     "base_uri": "https://localhost:8080/",
     "height": 300
    },
    "id": "jj-Ga69rKPbj",
    "outputId": "16e96675-864d-4134-c07d-7562ca31be12"
   },
   "outputs": [
    {
     "name": "stderr",
     "output_type": "stream",
     "text": [
      "/tmp/job.200202/ipykernel_17409/2232708055.py:1: FutureWarning: DataFrame.fillna with 'method' is deprecated and will raise in a future version. Use obj.ffill() or obj.bfill() instead.\n",
      "  display(nan_df.fillna(method=\"ffill\"))\n"
     ]
    },
    {
     "data": {
      "text/html": [
       "<div>\n",
       "<style scoped>\n",
       "    .dataframe tbody tr th:only-of-type {\n",
       "        vertical-align: middle;\n",
       "    }\n",
       "\n",
       "    .dataframe tbody tr th {\n",
       "        vertical-align: top;\n",
       "    }\n",
       "\n",
       "    .dataframe thead th {\n",
       "        text-align: right;\n",
       "    }\n",
       "</style>\n",
       "<table border=\"1\" class=\"dataframe\">\n",
       "  <thead>\n",
       "    <tr style=\"text-align: right;\">\n",
       "      <th></th>\n",
       "      <th>c1</th>\n",
       "      <th>c2</th>\n",
       "    </tr>\n",
       "  </thead>\n",
       "  <tbody>\n",
       "    <tr>\n",
       "      <th>a</th>\n",
       "      <td>1.709827</td>\n",
       "      <td>NaN</td>\n",
       "    </tr>\n",
       "    <tr>\n",
       "      <th>b</th>\n",
       "      <td>1.709827</td>\n",
       "      <td>1.0</td>\n",
       "    </tr>\n",
       "    <tr>\n",
       "      <th>c</th>\n",
       "      <td>-0.090568</td>\n",
       "      <td>1.0</td>\n",
       "    </tr>\n",
       "    <tr>\n",
       "      <th>d</th>\n",
       "      <td>-0.090568</td>\n",
       "      <td>1.0</td>\n",
       "    </tr>\n",
       "    <tr>\n",
       "      <th>e</th>\n",
       "      <td>-0.803460</td>\n",
       "      <td>1.0</td>\n",
       "    </tr>\n",
       "    <tr>\n",
       "      <th>f</th>\n",
       "      <td>-0.803460</td>\n",
       "      <td>1.0</td>\n",
       "    </tr>\n",
       "    <tr>\n",
       "      <th>g</th>\n",
       "      <td>0.725170</td>\n",
       "      <td>1.0</td>\n",
       "    </tr>\n",
       "    <tr>\n",
       "      <th>h</th>\n",
       "      <td>0.725170</td>\n",
       "      <td>1.0</td>\n",
       "    </tr>\n",
       "  </tbody>\n",
       "</table>\n",
       "</div>"
      ],
      "text/plain": [
       "         c1   c2\n",
       "a  1.709827  NaN\n",
       "b  1.709827  1.0\n",
       "c -0.090568  1.0\n",
       "d -0.090568  1.0\n",
       "e -0.803460  1.0\n",
       "f -0.803460  1.0\n",
       "g  0.725170  1.0\n",
       "h  0.725170  1.0"
      ]
     },
     "metadata": {},
     "output_type": "display_data"
    }
   ],
   "source": [
    "display(nan_df.fillna(method=\"ffill\"))"
   ]
  },
  {
   "cell_type": "code",
   "execution_count": 10,
   "metadata": {
    "colab": {
     "base_uri": "https://localhost:8080/",
     "height": 300
    },
    "id": "4pRjvjIiAztx",
    "outputId": "8be112c5-5def-4d0d-ca06-33cbf30f4cae"
   },
   "outputs": [
    {
     "name": "stderr",
     "output_type": "stream",
     "text": [
      "/tmp/job.200202/ipykernel_17409/1595864976.py:1: FutureWarning: DataFrame.fillna with 'method' is deprecated and will raise in a future version. Use obj.ffill() or obj.bfill() instead.\n",
      "  display(nan_df.fillna(method=\"bfill\"))\n"
     ]
    },
    {
     "data": {
      "text/html": [
       "<div>\n",
       "<style scoped>\n",
       "    .dataframe tbody tr th:only-of-type {\n",
       "        vertical-align: middle;\n",
       "    }\n",
       "\n",
       "    .dataframe tbody tr th {\n",
       "        vertical-align: top;\n",
       "    }\n",
       "\n",
       "    .dataframe thead th {\n",
       "        text-align: right;\n",
       "    }\n",
       "</style>\n",
       "<table border=\"1\" class=\"dataframe\">\n",
       "  <thead>\n",
       "    <tr style=\"text-align: right;\">\n",
       "      <th></th>\n",
       "      <th>c1</th>\n",
       "      <th>c2</th>\n",
       "    </tr>\n",
       "  </thead>\n",
       "  <tbody>\n",
       "    <tr>\n",
       "      <th>a</th>\n",
       "      <td>1.709827</td>\n",
       "      <td>1.0</td>\n",
       "    </tr>\n",
       "    <tr>\n",
       "      <th>b</th>\n",
       "      <td>-0.090568</td>\n",
       "      <td>1.0</td>\n",
       "    </tr>\n",
       "    <tr>\n",
       "      <th>c</th>\n",
       "      <td>-0.090568</td>\n",
       "      <td>1.0</td>\n",
       "    </tr>\n",
       "    <tr>\n",
       "      <th>d</th>\n",
       "      <td>-0.803460</td>\n",
       "      <td>1.0</td>\n",
       "    </tr>\n",
       "    <tr>\n",
       "      <th>e</th>\n",
       "      <td>-0.803460</td>\n",
       "      <td>1.0</td>\n",
       "    </tr>\n",
       "    <tr>\n",
       "      <th>f</th>\n",
       "      <td>0.725170</td>\n",
       "      <td>1.0</td>\n",
       "    </tr>\n",
       "    <tr>\n",
       "      <th>g</th>\n",
       "      <td>0.725170</td>\n",
       "      <td>1.0</td>\n",
       "    </tr>\n",
       "    <tr>\n",
       "      <th>h</th>\n",
       "      <td>NaN</td>\n",
       "      <td>1.0</td>\n",
       "    </tr>\n",
       "  </tbody>\n",
       "</table>\n",
       "</div>"
      ],
      "text/plain": [
       "         c1   c2\n",
       "a  1.709827  1.0\n",
       "b -0.090568  1.0\n",
       "c -0.090568  1.0\n",
       "d -0.803460  1.0\n",
       "e -0.803460  1.0\n",
       "f  0.725170  1.0\n",
       "g  0.725170  1.0\n",
       "h       NaN  1.0"
      ]
     },
     "metadata": {},
     "output_type": "display_data"
    }
   ],
   "source": [
    "display(nan_df.fillna(method=\"bfill\"))"
   ]
  },
  {
   "cell_type": "markdown",
   "metadata": {
    "id": "_z2zABbFA8pw"
   },
   "source": [
    "## Exercise 3\n",
    "\n",
    "Create a `DataFrame` or `Series` that has a numeric index and numeric data (with some `NaN`s).\n",
    "* The index is *not* an arithmetic sequence.\n",
    "* E.g. a polynomial sequence or random sequence.\n",
    "\n",
    "Try `interpolate` with the `linear` and `index` methods. Do you get different results?\n",
    "\n",
    "Join all three versions together as columns of a DataFrame and display."
   ]
  },
  {
   "cell_type": "code",
   "execution_count": 11,
   "metadata": {
    "id": "HaKSkVaSA7_v"
   },
   "outputs": [],
   "source": [
    "#your code here"
   ]
  },
  {
   "cell_type": "markdown",
   "metadata": {
    "cellView": "form",
    "colab": {
     "base_uri": "https://localhost:8080/",
     "height": 237
    },
    "id": "4W2JkIcYDxRv",
    "outputId": "489b69ee-c497-4b40-d45c-3c55c281e8a5"
   },
   "source": [
    "<details><summary><p style=\"padding: 10px; border: 2px solid;\"><big>Click here to see solution</big></p></summary>\n",
    "<p>\n",
    "\n",
    "    \n",
    "```\n",
    "\n",
    "#build the numeric Series with NaNs\n",
    "values=numpy.linspace(0,25,6)\n",
    "labels=numpy.linspace(0,5,6)**2\n",
    "values[1::3]=numpy.nan\n",
    "numeric_series = pandas.Series(values, index=labels)\n",
    "\n",
    "#add to DataFrame\n",
    "numeric_df = numeric_series.to_frame(name=\"missing\")\n",
    "\n",
    "#interpolate and add to DataFrame\n",
    "numeric_df['linear'] = numeric_series.interpolate(method=\"linear\")\n",
    "numeric_df['index'] = numeric_series.interpolate(method=\"index\")\n",
    "\n",
    "display(numeric_df)\n",
    "\n",
    "```\n",
    "</p>\n",
    "</details>"
   ]
  },
  {
   "cell_type": "markdown",
   "metadata": {
    "id": "ZDt46mY3Ch2J"
   },
   "source": [
    "# Handle Duplicate Data\n",
    "Sometimes measurements are repeated, with new measurements meant to replace old ones.\n",
    "\n",
    "In that case, the dataframe may contain duplicate rows; it's our job to remove them."
   ]
  },
  {
   "cell_type": "markdown",
   "metadata": {
    "id": "PtGlQTbeN_Ga"
   },
   "source": [
    "## Checking Duplicate Data\n",
    "\n",
    "\n",
    "The DataFrame *method* `duplicated()` checks for duplicate rows. The argument specifies which columns to check. You can check the whole DataFrame, or just certain columns.\n",
    "```\n",
    "dataframe.duplicated()\n",
    "dataframe.duplicated(column)\n",
    "dataframe.duplicated([column, ...])\n",
    "```\n",
    "\n",
    "The DataFrame method `duplicated()` returns a series of booleans that mark the duplicate rows.\n",
    "```\n",
    "boolean_series = dataframe.duplicated()\n",
    "```\n",
    "By default, for each set of duplicated rows, the first occurrence is set to `False` and all others to `True`. I.e. The \"second\" one is the duplicate.\n",
    "\n",
    "\n",
    "\n"
   ]
  },
  {
   "cell_type": "markdown",
   "metadata": {
    "id": "yPLW4uKTsDpi"
   },
   "source": [
    "## Example 4\n",
    "\n",
    "Checks if rows appears elsewhere with the same values\n",
    "\n",
    "Execute the cells to see what happens.\n"
   ]
  },
  {
   "cell_type": "code",
   "execution_count": 12,
   "metadata": {
    "colab": {
     "base_uri": "https://localhost:8080/",
     "height": 237
    },
    "id": "G8C7EzdHBAYj",
    "outputId": "9ed2aa4d-caa9-42c4-91bc-1ea649211bde"
   },
   "outputs": [
    {
     "data": {
      "text/html": [
       "<div>\n",
       "<style scoped>\n",
       "    .dataframe tbody tr th:only-of-type {\n",
       "        vertical-align: middle;\n",
       "    }\n",
       "\n",
       "    .dataframe tbody tr th {\n",
       "        vertical-align: top;\n",
       "    }\n",
       "\n",
       "    .dataframe thead th {\n",
       "        text-align: right;\n",
       "    }\n",
       "</style>\n",
       "<table border=\"1\" class=\"dataframe\">\n",
       "  <thead>\n",
       "    <tr style=\"text-align: right;\">\n",
       "      <th></th>\n",
       "      <th>c1</th>\n",
       "      <th>c2</th>\n",
       "    </tr>\n",
       "  </thead>\n",
       "  <tbody>\n",
       "    <tr>\n",
       "      <th>0</th>\n",
       "      <td>1</td>\n",
       "      <td>4</td>\n",
       "    </tr>\n",
       "    <tr>\n",
       "      <th>1</th>\n",
       "      <td>1</td>\n",
       "      <td>4</td>\n",
       "    </tr>\n",
       "    <tr>\n",
       "      <th>2</th>\n",
       "      <td>2</td>\n",
       "      <td>4</td>\n",
       "    </tr>\n",
       "    <tr>\n",
       "      <th>3</th>\n",
       "      <td>2</td>\n",
       "      <td>5</td>\n",
       "    </tr>\n",
       "    <tr>\n",
       "      <th>4</th>\n",
       "      <td>3</td>\n",
       "      <td>5</td>\n",
       "    </tr>\n",
       "    <tr>\n",
       "      <th>5</th>\n",
       "      <td>3</td>\n",
       "      <td>5</td>\n",
       "    </tr>\n",
       "  </tbody>\n",
       "</table>\n",
       "</div>"
      ],
      "text/plain": [
       "   c1  c2\n",
       "0   1   4\n",
       "1   1   4\n",
       "2   2   4\n",
       "3   2   5\n",
       "4   3   5\n",
       "5   3   5"
      ]
     },
     "metadata": {},
     "output_type": "display_data"
    }
   ],
   "source": [
    "duplicates_df = pandas.DataFrame(\n",
    "    {\n",
    "        'c1':[1,1,2,2,3,3],\n",
    "        'c2':[4,4,4,5,5,5],\n",
    "    }\n",
    ")\n",
    "display(duplicates_df)"
   ]
  },
  {
   "cell_type": "code",
   "execution_count": 13,
   "metadata": {
    "colab": {
     "base_uri": "https://localhost:8080/"
    },
    "id": "PqMu0e1vOEpr",
    "outputId": "747687af-4ad5-4366-a7b7-9ac420a06e21"
   },
   "outputs": [
    {
     "name": "stdout",
     "output_type": "stream",
     "text": [
      "0    False\n",
      "1     True\n",
      "2    False\n",
      "3    False\n",
      "4    False\n",
      "5     True\n",
      "dtype: bool\n"
     ]
    }
   ],
   "source": [
    "# series of booleans\n",
    "duplicated_mask=duplicates_df.duplicated()\n",
    "print(duplicates_df.duplicated())"
   ]
  },
  {
   "cell_type": "code",
   "execution_count": 14,
   "metadata": {
    "colab": {
     "base_uri": "https://localhost:8080/",
     "height": 322
    },
    "id": "pRmoGBnoBke8",
    "outputId": "6aea6a98-e44a-4363-f089-b6a30cd76efa"
   },
   "outputs": [
    {
     "name": "stdout",
     "output_type": "stream",
     "text": [
      "duplicates\n"
     ]
    },
    {
     "data": {
      "text/html": [
       "<div>\n",
       "<style scoped>\n",
       "    .dataframe tbody tr th:only-of-type {\n",
       "        vertical-align: middle;\n",
       "    }\n",
       "\n",
       "    .dataframe tbody tr th {\n",
       "        vertical-align: top;\n",
       "    }\n",
       "\n",
       "    .dataframe thead th {\n",
       "        text-align: right;\n",
       "    }\n",
       "</style>\n",
       "<table border=\"1\" class=\"dataframe\">\n",
       "  <thead>\n",
       "    <tr style=\"text-align: right;\">\n",
       "      <th></th>\n",
       "      <th>c1</th>\n",
       "      <th>c2</th>\n",
       "    </tr>\n",
       "  </thead>\n",
       "  <tbody>\n",
       "    <tr>\n",
       "      <th>1</th>\n",
       "      <td>1</td>\n",
       "      <td>4</td>\n",
       "    </tr>\n",
       "    <tr>\n",
       "      <th>5</th>\n",
       "      <td>3</td>\n",
       "      <td>5</td>\n",
       "    </tr>\n",
       "  </tbody>\n",
       "</table>\n",
       "</div>"
      ],
      "text/plain": [
       "   c1  c2\n",
       "1   1   4\n",
       "5   3   5"
      ]
     },
     "metadata": {},
     "output_type": "display_data"
    },
    {
     "name": "stdout",
     "output_type": "stream",
     "text": [
      "\n",
      "unique rows\n"
     ]
    },
    {
     "data": {
      "text/html": [
       "<div>\n",
       "<style scoped>\n",
       "    .dataframe tbody tr th:only-of-type {\n",
       "        vertical-align: middle;\n",
       "    }\n",
       "\n",
       "    .dataframe tbody tr th {\n",
       "        vertical-align: top;\n",
       "    }\n",
       "\n",
       "    .dataframe thead th {\n",
       "        text-align: right;\n",
       "    }\n",
       "</style>\n",
       "<table border=\"1\" class=\"dataframe\">\n",
       "  <thead>\n",
       "    <tr style=\"text-align: right;\">\n",
       "      <th></th>\n",
       "      <th>c1</th>\n",
       "      <th>c2</th>\n",
       "    </tr>\n",
       "  </thead>\n",
       "  <tbody>\n",
       "    <tr>\n",
       "      <th>0</th>\n",
       "      <td>1</td>\n",
       "      <td>4</td>\n",
       "    </tr>\n",
       "    <tr>\n",
       "      <th>2</th>\n",
       "      <td>2</td>\n",
       "      <td>4</td>\n",
       "    </tr>\n",
       "    <tr>\n",
       "      <th>3</th>\n",
       "      <td>2</td>\n",
       "      <td>5</td>\n",
       "    </tr>\n",
       "    <tr>\n",
       "      <th>4</th>\n",
       "      <td>3</td>\n",
       "      <td>5</td>\n",
       "    </tr>\n",
       "  </tbody>\n",
       "</table>\n",
       "</div>"
      ],
      "text/plain": [
       "   c1  c2\n",
       "0   1   4\n",
       "2   2   4\n",
       "3   2   5\n",
       "4   3   5"
      ]
     },
     "metadata": {},
     "output_type": "display_data"
    }
   ],
   "source": [
    "# filter the dataframe using the mask\n",
    "print(\"duplicates\")\n",
    "display(duplicates_df[ duplicated_mask])\n",
    "print()\n",
    "# and its opposite\n",
    "print(\"unique rows\")\n",
    "display(duplicates_df[~duplicated_mask])"
   ]
  },
  {
   "cell_type": "markdown",
   "metadata": {
    "id": "xcb-zpcmsTBy"
   },
   "source": [
    "## Exercise 4\n",
    "Use the `duplicates_df` from Example 4.\n",
    "\n",
    "Check for duplicate values, but just check the first column `'c1'`. Filter the DataFrame and display.\n",
    "\n",
    "Which rows are marked as duplicate? Is it different than Example 4?"
   ]
  },
  {
   "cell_type": "code",
   "execution_count": 15,
   "metadata": {
    "id": "uGyfcG71EV92"
   },
   "outputs": [],
   "source": [
    "#your code here"
   ]
  },
  {
   "cell_type": "markdown",
   "metadata": {
    "cellView": "form",
    "colab": {
     "base_uri": "https://localhost:8080/",
     "height": 143
    },
    "id": "lhovoAG8GIQh",
    "outputId": "4c2e7aa9-a25d-4640-a833-c9725c552e9d"
   },
   "source": [
    "<details><summary><p style=\"padding: 10px; border: 2px solid;\"><big>Click here to see solution</big></p></summary>\n",
    "<p>\n",
    "\n",
    "    \n",
    "```\n",
    "mask=duplicates_df.duplicated('c1')\n",
    "display(duplicates_df[mask])\n",
    "\n",
    "```\n",
    "</p>\n",
    "</details>"
   ]
  },
  {
   "cell_type": "markdown",
   "metadata": {
    "id": "2xL0vmMDDO_7"
   },
   "source": [
    "## Removing Duplicates\n",
    "\n",
    "The DataFrame *method* `drop_duplicates()` drops for duplicate rows and returns a new dataframe.\n",
    "\n",
    "The logic is the same as before. The argument specifies which columns to check. The first occurance of each duplicate row is kept.\n",
    "\n",
    "```\n",
    "new_df = dataframe.drop_duplicates()\n",
    "```\n"
   ]
  },
  {
   "cell_type": "markdown",
   "metadata": {
    "id": "LiEWxDRhslV0"
   },
   "source": [
    "## Example 5\n",
    " Drop duplicate rows"
   ]
  },
  {
   "cell_type": "code",
   "execution_count": 16,
   "metadata": {
    "colab": {
     "base_uri": "https://localhost:8080/",
     "height": 175
    },
    "id": "I-BCG8DeG7Yv",
    "outputId": "f4971f95-03d8-4bf8-e60b-99050ed8ba7c"
   },
   "outputs": [
    {
     "data": {
      "text/html": [
       "<div>\n",
       "<style scoped>\n",
       "    .dataframe tbody tr th:only-of-type {\n",
       "        vertical-align: middle;\n",
       "    }\n",
       "\n",
       "    .dataframe tbody tr th {\n",
       "        vertical-align: top;\n",
       "    }\n",
       "\n",
       "    .dataframe thead th {\n",
       "        text-align: right;\n",
       "    }\n",
       "</style>\n",
       "<table border=\"1\" class=\"dataframe\">\n",
       "  <thead>\n",
       "    <tr style=\"text-align: right;\">\n",
       "      <th></th>\n",
       "      <th>c1</th>\n",
       "      <th>c2</th>\n",
       "    </tr>\n",
       "  </thead>\n",
       "  <tbody>\n",
       "    <tr>\n",
       "      <th>0</th>\n",
       "      <td>1</td>\n",
       "      <td>4</td>\n",
       "    </tr>\n",
       "    <tr>\n",
       "      <th>2</th>\n",
       "      <td>2</td>\n",
       "      <td>4</td>\n",
       "    </tr>\n",
       "    <tr>\n",
       "      <th>3</th>\n",
       "      <td>2</td>\n",
       "      <td>5</td>\n",
       "    </tr>\n",
       "    <tr>\n",
       "      <th>4</th>\n",
       "      <td>3</td>\n",
       "      <td>5</td>\n",
       "    </tr>\n",
       "  </tbody>\n",
       "</table>\n",
       "</div>"
      ],
      "text/plain": [
       "   c1  c2\n",
       "0   1   4\n",
       "2   2   4\n",
       "3   2   5\n",
       "4   3   5"
      ]
     },
     "metadata": {},
     "output_type": "display_data"
    }
   ],
   "source": [
    "display(duplicates_df.drop_duplicates() )\n",
    "#this should look the same as the \"unique rows\" of Example 4"
   ]
  },
  {
   "cell_type": "markdown",
   "metadata": {
    "id": "va4AG1oEsrwc"
   },
   "source": [
    "## Exercise 5\n",
    "\n",
    "From the provided DataFrame, drop all rows with the same `'name'` value *except* the most **recent** one. Display.\n",
    "\n",
    "* Hint: sort the `'date'` column."
   ]
  },
  {
   "cell_type": "code",
   "execution_count": 17,
   "metadata": {
    "id": "Xjjl43dlJDTz"
   },
   "outputs": [],
   "source": [
    "records = pandas.DataFrame( [\n",
    "    {\"date\":numpy.datetime64(\"2022-03-15\"), \"name\": \"Bob\" },\n",
    "    {\"date\":numpy.datetime64(\"2022-03-17\"), \"name\": \"Mark\"},\n",
    "    {\"date\":numpy.datetime64(\"2022-04-01\"), \"name\": \"Bob\" },\n",
    "    {\"date\":numpy.datetime64(\"2022-04-02\"), \"name\": \"Mia\" },\n",
    "    {\"date\":numpy.datetime64(\"2022-04-30\"), \"name\": \"K22\" },\n",
    "    {\"date\":numpy.datetime64(\"2022-05-09\"), \"name\": \"Mark\"},\n",
    "    {\"date\":numpy.datetime64(\"2022-05-11\"), \"name\": \"K22\" },\n",
    "    {\"date\":numpy.datetime64(\"2022-07-02\"), \"name\": \"Mia\" },\n",
    "    {\"date\":numpy.datetime64(\"2022-08-16\"), \"name\": \"Bob\" },\n",
    "    {\"date\":numpy.datetime64(\"2022-12-25\"), \"name\": \"Nick\"}\n",
    "] )\n",
    "#your code here"
   ]
  },
  {
   "cell_type": "markdown",
   "metadata": {
    "cellView": "form",
    "colab": {
     "base_uri": "https://localhost:8080/",
     "height": 206
    },
    "id": "JRHbB7ZfHKtG",
    "outputId": "abf37e5c-26a8-4d91-8dab-ff6b024117c1"
   },
   "source": [
    "<details><summary><p style=\"padding: 10px; border: 2px solid;\"><big>Click here to see solution</big></p></summary>\n",
    "<p>\n",
    "\n",
    "    \n",
    "```\n",
    "records = pandas.DataFrame( [\n",
    "    {\"date\":numpy.datetime64(\"2022-03-15\"), \"name\": \"Bob\" },\n",
    "    {\"date\":numpy.datetime64(\"2022-03-17\"), \"name\": \"Mark\"},\n",
    "    {\"date\":numpy.datetime64(\"2022-04-01\"), \"name\": \"Bob\" },\n",
    "    {\"date\":numpy.datetime64(\"2022-04-02\"), \"name\": \"Mia\" },\n",
    "    {\"date\":numpy.datetime64(\"2022-04-30\"), \"name\": \"K22\" },\n",
    "    {\"date\":numpy.datetime64(\"2022-05-09\"), \"name\": \"Mark\"},\n",
    "    {\"date\":numpy.datetime64(\"2022-05-11\"), \"name\": \"K22\" },\n",
    "    {\"date\":numpy.datetime64(\"2022-07-02\"), \"name\": \"Mia\" },\n",
    "    {\"date\":numpy.datetime64(\"2022-08-16\"), \"name\": \"Bob\" },\n",
    "    {\"date\":numpy.datetime64(\"2022-12-25\"), \"name\": \"Nick\"}\n",
    "] ).sort_values(by='date',ascending=False).drop_duplicates(\"name\")\n",
    "# inserting the steps above as a method chain\n",
    "display(records)\n",
    "\n",
    "```\n",
    "</p>\n",
    "</details>"
   ]
  },
  {
   "cell_type": "markdown",
   "metadata": {
    "id": "LgxW9pQhH0QA"
   },
   "source": [
    "# Merging DataFrames\n",
    "\n",
    "Merging data means:\n",
    "  \n",
    "1.   You have two DataFrames.\n",
    "2.   Pick a rule for deciding which rows in the dataframes *correspond*.\n",
    " * E.g., if they have the same value in a particular column\n",
    "3. Pick a rule for deciding which rows and columns to keep.\n",
    "\n",
    "The rules may seem familiar if you have heard of SQL, which is a database language.\n"
   ]
  },
  {
   "cell_type": "markdown",
   "metadata": {
    "id": "6qHAM69ZIBc3"
   },
   "source": [
    "## Example 6\n",
    "These two datasets have a column in common: `'c1'`.\n",
    "\n",
    "Some of the `'c1'` values (`'a' 'b' 'c'`) appear in both DataFrames. Others (`'d' 'e'`) only appear in one."
   ]
  },
  {
   "cell_type": "code",
   "execution_count": 18,
   "metadata": {
    "colab": {
     "base_uri": "https://localhost:8080/",
     "height": 175
    },
    "id": "HhuggCSwIF3_",
    "outputId": "61b53d53-0820-4306-e359-35eff7667b39"
   },
   "outputs": [
    {
     "data": {
      "text/html": [
       "<div>\n",
       "<style scoped>\n",
       "    .dataframe tbody tr th:only-of-type {\n",
       "        vertical-align: middle;\n",
       "    }\n",
       "\n",
       "    .dataframe tbody tr th {\n",
       "        vertical-align: top;\n",
       "    }\n",
       "\n",
       "    .dataframe thead th {\n",
       "        text-align: right;\n",
       "    }\n",
       "</style>\n",
       "<table border=\"1\" class=\"dataframe\">\n",
       "  <thead>\n",
       "    <tr style=\"text-align: right;\">\n",
       "      <th></th>\n",
       "      <th>c1</th>\n",
       "      <th>c2</th>\n",
       "    </tr>\n",
       "  </thead>\n",
       "  <tbody>\n",
       "    <tr>\n",
       "      <th>0</th>\n",
       "      <td>a</td>\n",
       "      <td>12.0</td>\n",
       "    </tr>\n",
       "    <tr>\n",
       "      <th>1</th>\n",
       "      <td>b</td>\n",
       "      <td>23.2</td>\n",
       "    </tr>\n",
       "    <tr>\n",
       "      <th>2</th>\n",
       "      <td>c</td>\n",
       "      <td>56.0</td>\n",
       "    </tr>\n",
       "    <tr>\n",
       "      <th>3</th>\n",
       "      <td>d</td>\n",
       "      <td>45.4</td>\n",
       "    </tr>\n",
       "  </tbody>\n",
       "</table>\n",
       "</div>"
      ],
      "text/plain": [
       "  c1    c2\n",
       "0  a  12.0\n",
       "1  b  23.2\n",
       "2  c  56.0\n",
       "3  d  45.4"
      ]
     },
     "metadata": {},
     "output_type": "display_data"
    }
   ],
   "source": [
    "df1 = pandas.DataFrame({'c1': ['a','b','c','d'],\n",
    "                    'c2':[12.0, 23.2, 56, 45.4]})\n",
    "display(df1)"
   ]
  },
  {
   "cell_type": "code",
   "execution_count": 19,
   "metadata": {
    "colab": {
     "base_uri": "https://localhost:8080/",
     "height": 175
    },
    "id": "TQWQ2zzBIK0n",
    "outputId": "ff741312-b102-4b3b-e0a4-84c19c43b6cb"
   },
   "outputs": [
    {
     "data": {
      "text/html": [
       "<div>\n",
       "<style scoped>\n",
       "    .dataframe tbody tr th:only-of-type {\n",
       "        vertical-align: middle;\n",
       "    }\n",
       "\n",
       "    .dataframe tbody tr th {\n",
       "        vertical-align: top;\n",
       "    }\n",
       "\n",
       "    .dataframe thead th {\n",
       "        text-align: right;\n",
       "    }\n",
       "</style>\n",
       "<table border=\"1\" class=\"dataframe\">\n",
       "  <thead>\n",
       "    <tr style=\"text-align: right;\">\n",
       "      <th></th>\n",
       "      <th>c1</th>\n",
       "      <th>c3</th>\n",
       "    </tr>\n",
       "  </thead>\n",
       "  <tbody>\n",
       "    <tr>\n",
       "      <th>0</th>\n",
       "      <td>a</td>\n",
       "      <td>9.5</td>\n",
       "    </tr>\n",
       "    <tr>\n",
       "      <th>1</th>\n",
       "      <td>b</td>\n",
       "      <td>37.0</td>\n",
       "    </tr>\n",
       "    <tr>\n",
       "      <th>2</th>\n",
       "      <td>c</td>\n",
       "      <td>77.0</td>\n",
       "    </tr>\n",
       "    <tr>\n",
       "      <th>3</th>\n",
       "      <td>e</td>\n",
       "      <td>38.9</td>\n",
       "    </tr>\n",
       "  </tbody>\n",
       "</table>\n",
       "</div>"
      ],
      "text/plain": [
       "  c1    c3\n",
       "0  a   9.5\n",
       "1  b  37.0\n",
       "2  c  77.0\n",
       "3  e  38.9"
      ]
     },
     "metadata": {},
     "output_type": "display_data"
    }
   ],
   "source": [
    "df2 = pandas.DataFrame({'c1': ['a','b','c','e'],\n",
    "                    'c3':[9.5, 37.0, 77,38.9]})\n",
    "display(df2)"
   ]
  },
  {
   "cell_type": "markdown",
   "metadata": {
    "id": "O4wzynbtInfR"
   },
   "source": [
    "## Pandas Merge\n",
    "The pandas function `merge()` function takes two DataFrames as its argument, and returns a new one.\n",
    "```\n",
    "new_df = pandas.merge( df, df )\n",
    "```\n",
    "\n",
    "Its important keyword arguments are:\n",
    "* `on` = a column that the DataFrames have in common\n",
    "* `how` = the rule for which rows to keep"
   ]
  },
  {
   "cell_type": "markdown",
   "metadata": {
    "id": "EBWPLAxTIuXJ"
   },
   "source": [
    "## Example 7\n",
    "\n",
    "Four different ways of combining these datasets."
   ]
  },
  {
   "cell_type": "code",
   "execution_count": 20,
   "metadata": {
    "colab": {
     "base_uri": "https://localhost:8080/",
     "height": 175
    },
    "id": "D_PxOpyQI1v4",
    "outputId": "39777bbe-a07a-4e8a-9e62-b381c5d19f1b"
   },
   "outputs": [
    {
     "data": {
      "text/html": [
       "<div>\n",
       "<style scoped>\n",
       "    .dataframe tbody tr th:only-of-type {\n",
       "        vertical-align: middle;\n",
       "    }\n",
       "\n",
       "    .dataframe tbody tr th {\n",
       "        vertical-align: top;\n",
       "    }\n",
       "\n",
       "    .dataframe thead th {\n",
       "        text-align: right;\n",
       "    }\n",
       "</style>\n",
       "<table border=\"1\" class=\"dataframe\">\n",
       "  <thead>\n",
       "    <tr style=\"text-align: right;\">\n",
       "      <th></th>\n",
       "      <th>c1</th>\n",
       "      <th>c2</th>\n",
       "      <th>c3</th>\n",
       "    </tr>\n",
       "  </thead>\n",
       "  <tbody>\n",
       "    <tr>\n",
       "      <th>0</th>\n",
       "      <td>a</td>\n",
       "      <td>12.0</td>\n",
       "      <td>9.5</td>\n",
       "    </tr>\n",
       "    <tr>\n",
       "      <th>1</th>\n",
       "      <td>b</td>\n",
       "      <td>23.2</td>\n",
       "      <td>37.0</td>\n",
       "    </tr>\n",
       "    <tr>\n",
       "      <th>2</th>\n",
       "      <td>c</td>\n",
       "      <td>56.0</td>\n",
       "      <td>77.0</td>\n",
       "    </tr>\n",
       "    <tr>\n",
       "      <th>3</th>\n",
       "      <td>d</td>\n",
       "      <td>45.4</td>\n",
       "      <td>NaN</td>\n",
       "    </tr>\n",
       "  </tbody>\n",
       "</table>\n",
       "</div>"
      ],
      "text/plain": [
       "  c1    c2    c3\n",
       "0  a  12.0   9.5\n",
       "1  b  23.2  37.0\n",
       "2  c  56.0  77.0\n",
       "3  d  45.4   NaN"
      ]
     },
     "execution_count": 20,
     "metadata": {},
     "output_type": "execute_result"
    }
   ],
   "source": [
    "# SQL left join\n",
    "pandas.merge(df1, df2, on='c1', how='left')"
   ]
  },
  {
   "cell_type": "code",
   "execution_count": 21,
   "metadata": {
    "colab": {
     "base_uri": "https://localhost:8080/",
     "height": 175
    },
    "id": "581FmmrZI3CI",
    "outputId": "3aac9105-0e77-417e-9aa6-924ead8d1a63"
   },
   "outputs": [
    {
     "data": {
      "text/html": [
       "<div>\n",
       "<style scoped>\n",
       "    .dataframe tbody tr th:only-of-type {\n",
       "        vertical-align: middle;\n",
       "    }\n",
       "\n",
       "    .dataframe tbody tr th {\n",
       "        vertical-align: top;\n",
       "    }\n",
       "\n",
       "    .dataframe thead th {\n",
       "        text-align: right;\n",
       "    }\n",
       "</style>\n",
       "<table border=\"1\" class=\"dataframe\">\n",
       "  <thead>\n",
       "    <tr style=\"text-align: right;\">\n",
       "      <th></th>\n",
       "      <th>c1</th>\n",
       "      <th>c2</th>\n",
       "      <th>c3</th>\n",
       "    </tr>\n",
       "  </thead>\n",
       "  <tbody>\n",
       "    <tr>\n",
       "      <th>0</th>\n",
       "      <td>a</td>\n",
       "      <td>12.0</td>\n",
       "      <td>9.5</td>\n",
       "    </tr>\n",
       "    <tr>\n",
       "      <th>1</th>\n",
       "      <td>b</td>\n",
       "      <td>23.2</td>\n",
       "      <td>37.0</td>\n",
       "    </tr>\n",
       "    <tr>\n",
       "      <th>2</th>\n",
       "      <td>c</td>\n",
       "      <td>56.0</td>\n",
       "      <td>77.0</td>\n",
       "    </tr>\n",
       "    <tr>\n",
       "      <th>3</th>\n",
       "      <td>e</td>\n",
       "      <td>NaN</td>\n",
       "      <td>38.9</td>\n",
       "    </tr>\n",
       "  </tbody>\n",
       "</table>\n",
       "</div>"
      ],
      "text/plain": [
       "  c1    c2    c3\n",
       "0  a  12.0   9.5\n",
       "1  b  23.2  37.0\n",
       "2  c  56.0  77.0\n",
       "3  e   NaN  38.9"
      ]
     },
     "execution_count": 21,
     "metadata": {},
     "output_type": "execute_result"
    }
   ],
   "source": [
    "# SQL right join\n",
    "pandas.merge(df1, df2, on='c1', how='right')"
   ]
  },
  {
   "cell_type": "code",
   "execution_count": 22,
   "metadata": {
    "colab": {
     "base_uri": "https://localhost:8080/",
     "height": 143
    },
    "id": "PqARgpi_I4MZ",
    "outputId": "0104fdf9-91eb-4027-9d42-7f8d771511b1"
   },
   "outputs": [
    {
     "data": {
      "text/html": [
       "<div>\n",
       "<style scoped>\n",
       "    .dataframe tbody tr th:only-of-type {\n",
       "        vertical-align: middle;\n",
       "    }\n",
       "\n",
       "    .dataframe tbody tr th {\n",
       "        vertical-align: top;\n",
       "    }\n",
       "\n",
       "    .dataframe thead th {\n",
       "        text-align: right;\n",
       "    }\n",
       "</style>\n",
       "<table border=\"1\" class=\"dataframe\">\n",
       "  <thead>\n",
       "    <tr style=\"text-align: right;\">\n",
       "      <th></th>\n",
       "      <th>c1</th>\n",
       "      <th>c2</th>\n",
       "      <th>c3</th>\n",
       "    </tr>\n",
       "  </thead>\n",
       "  <tbody>\n",
       "    <tr>\n",
       "      <th>0</th>\n",
       "      <td>a</td>\n",
       "      <td>12.0</td>\n",
       "      <td>9.5</td>\n",
       "    </tr>\n",
       "    <tr>\n",
       "      <th>1</th>\n",
       "      <td>b</td>\n",
       "      <td>23.2</td>\n",
       "      <td>37.0</td>\n",
       "    </tr>\n",
       "    <tr>\n",
       "      <th>2</th>\n",
       "      <td>c</td>\n",
       "      <td>56.0</td>\n",
       "      <td>77.0</td>\n",
       "    </tr>\n",
       "  </tbody>\n",
       "</table>\n",
       "</div>"
      ],
      "text/plain": [
       "  c1    c2    c3\n",
       "0  a  12.0   9.5\n",
       "1  b  23.2  37.0\n",
       "2  c  56.0  77.0"
      ]
     },
     "execution_count": 22,
     "metadata": {},
     "output_type": "execute_result"
    }
   ],
   "source": [
    "# SQL inner join\n",
    "pandas.merge(df1, df2, on='c1', how='inner')"
   ]
  },
  {
   "cell_type": "code",
   "execution_count": 23,
   "metadata": {
    "colab": {
     "base_uri": "https://localhost:8080/",
     "height": 206
    },
    "id": "-nypJcgII5YS",
    "outputId": "93744aa3-13e8-4627-aba2-9da4f6bf89a4"
   },
   "outputs": [
    {
     "data": {
      "text/html": [
       "<div>\n",
       "<style scoped>\n",
       "    .dataframe tbody tr th:only-of-type {\n",
       "        vertical-align: middle;\n",
       "    }\n",
       "\n",
       "    .dataframe tbody tr th {\n",
       "        vertical-align: top;\n",
       "    }\n",
       "\n",
       "    .dataframe thead th {\n",
       "        text-align: right;\n",
       "    }\n",
       "</style>\n",
       "<table border=\"1\" class=\"dataframe\">\n",
       "  <thead>\n",
       "    <tr style=\"text-align: right;\">\n",
       "      <th></th>\n",
       "      <th>c1</th>\n",
       "      <th>c2</th>\n",
       "      <th>c3</th>\n",
       "    </tr>\n",
       "  </thead>\n",
       "  <tbody>\n",
       "    <tr>\n",
       "      <th>0</th>\n",
       "      <td>a</td>\n",
       "      <td>12.0</td>\n",
       "      <td>9.5</td>\n",
       "    </tr>\n",
       "    <tr>\n",
       "      <th>1</th>\n",
       "      <td>b</td>\n",
       "      <td>23.2</td>\n",
       "      <td>37.0</td>\n",
       "    </tr>\n",
       "    <tr>\n",
       "      <th>2</th>\n",
       "      <td>c</td>\n",
       "      <td>56.0</td>\n",
       "      <td>77.0</td>\n",
       "    </tr>\n",
       "    <tr>\n",
       "      <th>3</th>\n",
       "      <td>d</td>\n",
       "      <td>45.4</td>\n",
       "      <td>NaN</td>\n",
       "    </tr>\n",
       "    <tr>\n",
       "      <th>4</th>\n",
       "      <td>e</td>\n",
       "      <td>NaN</td>\n",
       "      <td>38.9</td>\n",
       "    </tr>\n",
       "  </tbody>\n",
       "</table>\n",
       "</div>"
      ],
      "text/plain": [
       "  c1    c2    c3\n",
       "0  a  12.0   9.5\n",
       "1  b  23.2  37.0\n",
       "2  c  56.0  77.0\n",
       "3  d  45.4   NaN\n",
       "4  e   NaN  38.9"
      ]
     },
     "execution_count": 23,
     "metadata": {},
     "output_type": "execute_result"
    }
   ],
   "source": [
    "# SQL outer join\n",
    "pandas.merge(df1, df2, on='c1', how='outer')"
   ]
  },
  {
   "cell_type": "markdown",
   "metadata": {
    "id": "h8jyzxK9JMfR"
   },
   "source": [
    "## Exercise 6\n",
    "\n",
    "Create two dataframes as in \"Example 6\".\n",
    "\n",
    "* They must have a column in common and share some (but not all) values in that column.\n",
    "\n",
    "* They must each have with a column that is unique.\n",
    "\n",
    "Merge the dataframes, using the `'outer'` strategy.\n",
    "\n",
    "Deal with any `NaN`s by filling them with nearby values."
   ]
  },
  {
   "cell_type": "code",
   "execution_count": 24,
   "metadata": {
    "id": "66kCNFiFO3yM"
   },
   "outputs": [],
   "source": [
    "#your code here"
   ]
  }
 ],
 "metadata": {
  "colab": {
   "provenance": [],
   "toc_visible": true
  },
  "kernelspec": {
   "display_name": "Python 3 (ipykernel)",
   "language": "python",
   "name": "python3"
  },
  "language_info": {
   "codemirror_mode": {
    "name": "ipython",
    "version": 3
   },
   "file_extension": ".py",
   "mimetype": "text/x-python",
   "name": "python",
   "nbconvert_exporter": "python",
   "pygments_lexer": "ipython3",
   "version": "3.12.2"
  }
 },
 "nbformat": 4,
 "nbformat_minor": 4
}
